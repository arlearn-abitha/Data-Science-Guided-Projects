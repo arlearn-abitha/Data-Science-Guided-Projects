{
 "cells": [
  {
   "cell_type": "markdown",
   "metadata": {},
   "source": [
    "# Data Analysis - Mini project 01\n",
    "\n",
    "## Tasks performed:\n",
    "\n",
    "### 1. Define Single and Multi Dimensional Numpy arrays\n",
    "### 2. Leverage Numpy built-in methods and functions such as .random, .arange, .eye, .zeros, and .ones\n",
    "### 3. Perform mathematical operations in Numpy\n",
    "### 4. Perform arrays slicing and indexing\n",
    "### 5. Perform elements selection (conditional)\n",
    "### 6. Understand Pandas fundamentals\n",
    "### 7. Pandas with CSV and HTML data\n",
    "### 8. Pandas operations\n",
    "### 9. Pandas with functions\n",
    "### 10. Perform sorting and ordering in pandas\n",
    "### 11. Perform concatenating and merging with pandas\n",
    "### 12. Concluding the mini project 01"
   ]
  },
  {
   "cell_type": "code",
   "execution_count": 4,
   "metadata": {},
   "outputs": [
    {
     "data": {
      "text/plain": [
       "[50, 60, 80, 100, 200, 300, 500, 600]"
      ]
     },
     "execution_count": 4,
     "metadata": {},
     "output_type": "execute_result"
    }
   ],
   "source": [
    "# Task 01:\n",
    "# NumPy is a Linear Algebra Library used for multidimensional arrays\n",
    "# NumPy brings the best of two worlds: (1) C/Fortran computational efficiency, (2) Python language easy syntax \n",
    "import numpy as np\n",
    "# Let's define a one-dimensional array\n",
    "#list_1 contains the list of numbers\n",
    "list_1 = [50, 60, 80, 100, 200, 300, 500, 600]\n",
    "list_1\n"
   ]
  },
  {
   "cell_type": "code",
   "execution_count": 6,
   "metadata": {},
   "outputs": [
    {
     "name": "stdout",
     "output_type": "stream",
     "text": [
      "[ 50  60  80 100 200 300 500 600]\n"
     ]
    },
    {
     "data": {
      "text/plain": [
       "numpy.ndarray"
      ]
     },
     "execution_count": 6,
     "metadata": {},
     "output_type": "execute_result"
    }
   ],
   "source": [
    "# Let's create a numpy array from the list \"my_list\"\n",
    "my_numpy_array = np.array(list_1)\n",
    "print(my_numpy_array)\n",
    "type(my_numpy_array)"
   ]
  },
  {
   "cell_type": "code",
   "execution_count": 7,
   "metadata": {},
   "outputs": [
    {
     "data": {
      "text/plain": [
       "array([[2, 5, 8],\n",
       "       [7, 3, 6]])"
      ]
     },
     "execution_count": 7,
     "metadata": {},
     "output_type": "execute_result"
    }
   ],
   "source": [
    "# Multi-dimensional (Matrix definition) \n",
    "my_matrix = np.array([[2,5,8], [7,3,6]])\n",
    "my_matrix"
   ]
  },
  {
   "cell_type": "code",
   "execution_count": 8,
   "metadata": {},
   "outputs": [
    {
     "data": {
      "text/plain": [
       "array([[3, 7, 9, 3],\n",
       "       [4, 3, 2, 2]])"
      ]
     },
     "execution_count": 8,
     "metadata": {},
     "output_type": "execute_result"
    }
   ],
   "source": [
    "my_array = np.array([[3,7,9,3], [4,3,2,2]])\n",
    "my_array"
   ]
  },
  {
   "cell_type": "code",
   "execution_count": 9,
   "metadata": {},
   "outputs": [
    {
     "data": {
      "text/plain": [
       "array([0.30334512, 0.20414065, 0.91424771, 0.73168945, 0.21541227,\n",
       "       0.40751903, 0.59192126, 0.7399601 , 0.68827409, 0.30817848,\n",
       "       0.78816638, 0.35706458, 0.05934813, 0.52575351, 0.14276038,\n",
       "       0.77553606, 0.44708215, 0.7242053 , 0.51768992, 0.62380103])"
      ]
     },
     "execution_count": 9,
     "metadata": {},
     "output_type": "execute_result"
    }
   ],
   "source": [
    "#Task 02:\n",
    "# \"rand()\" uniform distribution between 0 and 1\n",
    "x = np.random.rand(20)\n",
    "x"
   ]
  },
  {
   "cell_type": "code",
   "execution_count": 12,
   "metadata": {},
   "outputs": [
    {
     "data": {
      "text/plain": [
       "array([[0.16758315, 0.48603705, 0.24919954],\n",
       "       [0.2968724 , 0.63952142, 0.92785793],\n",
       "       [0.37924692, 0.22228995, 0.87396855]])"
      ]
     },
     "execution_count": 12,
     "metadata": {},
     "output_type": "execute_result"
    }
   ],
   "source": [
    "# you can create a matrix of random number as well\n",
    "#random.rand() will always produces outcomes between 0 and 1\n",
    "x = np.random.rand(3,3)\n",
    "x"
   ]
  },
  {
   "cell_type": "code",
   "execution_count": 13,
   "metadata": {},
   "outputs": [
    {
     "data": {
      "text/plain": [
       "39"
      ]
     },
     "execution_count": 13,
     "metadata": {},
     "output_type": "execute_result"
    }
   ],
   "source": [
    "# \"randint\" is used to generate random integers between upper and lower bounds\n",
    "x = np.random.randint(1, 50)\n",
    "x"
   ]
  },
  {
   "cell_type": "code",
   "execution_count": 20,
   "metadata": {},
   "outputs": [
    {
     "name": "stdout",
     "output_type": "stream",
     "text": [
      "[40 34 30 18 30 24 29 11  3  6 35 36 35 26 33 12 39 48 47 39]\n",
      "[40, 34, 30, 18, 30, 24, 29, 11, 3, 6, 35, 36, 35, 26, 33, 12, 39, 48, 47, 39]\n",
      "[3, 6, 11, 12, 18, 24, 26, 29, 30, 30, 33, 34, 35, 35, 36, 39, 39, 40, 47, 48]\n",
      "Repeated numbers are:  [30, 35, 39]\n",
      "occurance =  [3, 6, 11, 12, 18, 24, 26, 29, 30, 33, 34, 35, 36, 39, 40, 47, 48]\n"
     ]
    }
   ],
   "source": [
    "lis = []\n",
    "for i in range(0, 20):\n",
    "    i = np.random.randint(1,50)\n",
    "    lis.append(i)\n",
    "y = np.array(lis)\n",
    "print(y)\n",
    "print(lis)\n",
    "lis.sort()\n",
    "print(lis)\n",
    "uni = []\n",
    "rep = []\n",
    "for i in lis:\n",
    "    if i not in uni:\n",
    "        uni.append(i)\n",
    "    else:\n",
    "        rep.append(i)\n",
    "print('Repeated numbers are: ', rep)\n",
    "print('occurance = ', uni)"
   ]
  },
  {
   "cell_type": "code",
   "execution_count": 21,
   "metadata": {},
   "outputs": [
    {
     "data": {
      "text/plain": [
       "array([38, 82, 95, 69, 99, 28, 19, 75, 46, 48, 41, 44, 52, 12, 66, 94, 94,\n",
       "       47, 55, 18, 53, 67, 65, 58, 28, 43, 94, 32,  9, 57, 13, 65, 24, 45,\n",
       "       93, 18, 46, 42, 64, 77, 32, 23, 89, 28, 89, 14, 23, 67, 11, 78])"
      ]
     },
     "execution_count": 21,
     "metadata": {},
     "output_type": "execute_result"
    }
   ],
   "source": [
    "x = np.random.randint(1,100,50)\n",
    "x"
   ]
  },
  {
   "cell_type": "code",
   "execution_count": 22,
   "metadata": {},
   "outputs": [
    {
     "data": {
      "text/plain": [
       "array([ 1,  2,  3,  4,  5,  6,  7,  8,  9, 10, 11, 12, 13, 14, 15, 16, 17,\n",
       "       18, 19, 20, 21, 22, 23, 24, 25, 26, 27, 28, 29])"
      ]
     },
     "execution_count": 22,
     "metadata": {},
     "output_type": "execute_result"
    }
   ],
   "source": [
    "# np.arange creates an evenly spaced values within a given interval\n",
    "x = np.arange(1,30)\n",
    "x"
   ]
  },
  {
   "cell_type": "code",
   "execution_count": 25,
   "metadata": {},
   "outputs": [
    {
     "name": "stdout",
     "output_type": "stream",
     "text": [
      "[[1. 0. 0. 0. 0. 0. 0.]\n",
      " [0. 1. 0. 0. 0. 0. 0.]\n",
      " [0. 0. 1. 0. 0. 0. 0.]\n",
      " [0. 0. 0. 1. 0. 0. 0.]\n",
      " [0. 0. 0. 0. 1. 0. 0.]\n",
      " [0. 0. 0. 0. 0. 1. 0.]\n",
      " [0. 0. 0. 0. 0. 0. 1.]]\n",
      "[[1. 0. 0.]\n",
      " [0. 1. 0.]\n",
      " [0. 0. 1.]]\n"
     ]
    }
   ],
   "source": [
    "# create a diagonal of ones and zeros everywhere else\n",
    "x = np.eye(7)\n",
    "print(x)\n",
    "y = np.eye(3)\n",
    "print(y)"
   ]
  },
  {
   "cell_type": "code",
   "execution_count": 26,
   "metadata": {},
   "outputs": [
    {
     "name": "stdout",
     "output_type": "stream",
     "text": [
      "[[1. 1. 1. 1. 1. 1. 1.]\n",
      " [1. 1. 1. 1. 1. 1. 1.]\n",
      " [1. 1. 1. 1. 1. 1. 1.]\n",
      " [1. 1. 1. 1. 1. 1. 1.]\n",
      " [1. 1. 1. 1. 1. 1. 1.]\n",
      " [1. 1. 1. 1. 1. 1. 1.]\n",
      " [1. 1. 1. 1. 1. 1. 1.]]\n",
      "[[1. 1. 1.]\n",
      " [1. 1. 1.]]\n"
     ]
    }
   ],
   "source": [
    "# Matrix of ones\n",
    "x = np.ones((7,7))\n",
    "print(x)\n",
    "y= np.ones((2,3))\n",
    "print(y)"
   ]
  },
  {
   "cell_type": "code",
   "execution_count": 27,
   "metadata": {},
   "outputs": [
    {
     "data": {
      "text/plain": [
       "array([[0., 0., 0., 0., 0.],\n",
       "       [0., 0., 0., 0., 0.],\n",
       "       [0., 0., 0., 0., 0.],\n",
       "       [0., 0., 0., 0., 0.],\n",
       "       [0., 0., 0., 0., 0.]])"
      ]
     },
     "execution_count": 27,
     "metadata": {},
     "output_type": "execute_result"
    }
   ],
   "source": [
    "#array of zeros\n",
    "x = np.zeros((5,5))\n",
    "x"
   ]
  },
  {
   "cell_type": "code",
   "execution_count": 28,
   "metadata": {},
   "outputs": [],
   "source": [
    "z = np.ones((5,5))"
   ]
  },
  {
   "cell_type": "code",
   "execution_count": 29,
   "metadata": {},
   "outputs": [
    {
     "name": "stdout",
     "output_type": "stream",
     "text": [
      "[[1. 1. 1. 1. 1.]\n",
      " [1. 1. 1. 1. 1.]\n",
      " [1. 1. 1. 1. 1.]\n",
      " [1. 1. 1. 1. 1.]\n",
      " [1. 1. 1. 1. 1.]]\n"
     ]
    }
   ],
   "source": [
    "y=x+z\n",
    "print(y)"
   ]
  },
  {
   "cell_type": "code",
   "execution_count": 30,
   "metadata": {},
   "outputs": [
    {
     "name": "stdout",
     "output_type": "stream",
     "text": [
      "Enter a positive integer: 6\n",
      "[5 5 1 2 2 3 1 5 1 5]\n"
     ]
    }
   ],
   "source": [
    "num = int(input('Enter a positive integer: '))\n",
    "\n",
    "if num < 0:\n",
    "    print(\"Invalid input!\")\n",
    "if num >= 0:\n",
    "    s = np.random.randint(1, num, 10)\n",
    "    print(s)"
   ]
  },
  {
   "cell_type": "code",
   "execution_count": 31,
   "metadata": {},
   "outputs": [
    {
     "data": {
      "text/plain": [
       "array([1, 2, 3, 4, 5, 6, 7, 8, 9])"
      ]
     },
     "execution_count": 31,
     "metadata": {},
     "output_type": "execute_result"
    }
   ],
   "source": [
    "# task 03: \n",
    "# np.arange() returns an evenly spaced values within a given interval\n",
    "x = np.arange(1, 10)\n",
    "x"
   ]
  },
  {
   "cell_type": "code",
   "execution_count": 32,
   "metadata": {},
   "outputs": [
    {
     "data": {
      "text/plain": [
       "array([1, 2, 3, 4, 5, 6, 7, 8, 9])"
      ]
     },
     "execution_count": 32,
     "metadata": {},
     "output_type": "execute_result"
    }
   ],
   "source": [
    "y = np.arange(1, 10)\n",
    "y"
   ]
  },
  {
   "cell_type": "code",
   "execution_count": 35,
   "metadata": {},
   "outputs": [
    {
     "data": {
      "text/plain": [
       "array([ 2,  4,  6,  8, 10, 12, 14, 16, 18])"
      ]
     },
     "execution_count": 35,
     "metadata": {},
     "output_type": "execute_result"
    }
   ],
   "source": [
    "sums = x+y\n",
    "sums"
   ]
  },
  {
   "cell_type": "code",
   "execution_count": 36,
   "metadata": {},
   "outputs": [
    {
     "data": {
      "text/plain": [
       "array([1.41421356, 2.        , 2.44948974, 2.82842712, 3.16227766,\n",
       "       3.46410162, 3.74165739, 4.        , 4.24264069])"
      ]
     },
     "execution_count": 36,
     "metadata": {},
     "output_type": "execute_result"
    }
   ],
   "source": [
    "s = np.sqrt(sums)\n",
    "s"
   ]
  },
  {
   "cell_type": "code",
   "execution_count": 37,
   "metadata": {},
   "outputs": [
    {
     "data": {
      "text/plain": [
       "array([2.71828183e+00, 7.38905610e+00, 2.00855369e+01, 5.45981500e+01,\n",
       "       1.48413159e+02, 4.03428793e+02, 1.09663316e+03, 2.98095799e+03,\n",
       "       8.10308393e+03])"
      ]
     },
     "execution_count": 37,
     "metadata": {},
     "output_type": "execute_result"
    }
   ],
   "source": [
    "z = np.exp(y)\n",
    "z"
   ]
  },
  {
   "cell_type": "code",
   "execution_count": 38,
   "metadata": {},
   "outputs": [
    {
     "name": "stdout",
     "output_type": "stream",
     "text": [
      "[10.29563014 16.55294536 20.39607805]\n",
      "the distance btw x_ and y_ is:  [10.29563014 16.55294536 20.39607805]\n"
     ]
    }
   ],
   "source": [
    "x_ = np.array([5,7,20])\n",
    "y_ = np.array([9,15,4])\n",
    "distance = (x_**2 + y_**2)**0.5\n",
    "z = np.sqrt(x_**2+y_**2)\n",
    "print(z)\n",
    "print(\"the distance btw x_ and y_ is: \", distance)"
   ]
  },
  {
   "cell_type": "code",
   "execution_count": 39,
   "metadata": {},
   "outputs": [
    {
     "data": {
      "text/plain": [
       "array([ 3,  5,  6,  2,  8, 10, 20, 50])"
      ]
     },
     "execution_count": 39,
     "metadata": {},
     "output_type": "execute_result"
    }
   ],
   "source": [
    "# task 4:\n",
    "import numpy as np\n",
    "my_numpy_array = np.array([3,5,6,2,8,10,20,50])\n",
    "my_numpy_array"
   ]
  },
  {
   "cell_type": "code",
   "execution_count": 40,
   "metadata": {},
   "outputs": [
    {
     "data": {
      "text/plain": [
       "3"
      ]
     },
     "execution_count": 40,
     "metadata": {},
     "output_type": "execute_result"
    }
   ],
   "source": [
    "# Access specific index from the numpy array\n",
    "my_numpy_array[0]"
   ]
  },
  {
   "cell_type": "code",
   "execution_count": 41,
   "metadata": {},
   "outputs": [
    {
     "data": {
      "text/plain": [
       "array([ 3,  5,  6,  2,  8, 10, 20, 50])"
      ]
     },
     "execution_count": 41,
     "metadata": {},
     "output_type": "execute_result"
    }
   ],
   "source": [
    "# Starting from the first index 0 up until and NOT including the last element\n",
    "my_numpy_array[0:]"
   ]
  },
  {
   "cell_type": "code",
   "execution_count": 42,
   "metadata": {},
   "outputs": [
    {
     "data": {
      "text/plain": [
       "array([ 7,  7,  7,  2,  8, 10, 20, 50])"
      ]
     },
     "execution_count": 42,
     "metadata": {},
     "output_type": "execute_result"
    }
   ],
   "source": [
    "# Broadcasting, altering several values in a numpy array at once\n",
    "my_numpy_array[:3] = 7\n",
    "my_numpy_array"
   ]
  },
  {
   "cell_type": "code",
   "execution_count": 43,
   "metadata": {},
   "outputs": [
    {
     "data": {
      "text/plain": [
       "array([[7, 9, 7, 7],\n",
       "       [9, 3, 4, 4],\n",
       "       [6, 4, 5, 2],\n",
       "       [6, 9, 4, 1]])"
      ]
     },
     "execution_count": 43,
     "metadata": {},
     "output_type": "execute_result"
    }
   ],
   "source": [
    "# Let's define a two dimensional numpy array\n",
    "matriz = np.random.randint(1, 10, (4,4))\n",
    "matriz"
   ]
  },
  {
   "cell_type": "code",
   "execution_count": 44,
   "metadata": {},
   "outputs": [
    {
     "data": {
      "text/plain": [
       "array([[8, 8, 8, 8],\n",
       "       [9, 3, 4, 4],\n",
       "       [6, 4, 5, 2],\n",
       "       [6, 9, 4, 1]])"
      ]
     },
     "execution_count": 44,
     "metadata": {},
     "output_type": "execute_result"
    }
   ],
   "source": [
    "# Get a row from a mtrix\n",
    "matriz[0] = 8\n",
    "matriz"
   ]
  },
  {
   "cell_type": "code",
   "execution_count": 45,
   "metadata": {},
   "outputs": [
    {
     "data": {
      "text/plain": [
       "array([[8, 8, 8, 8],\n",
       "       [9, 3, 4, 4],\n",
       "       [6, 4, 5, 2],\n",
       "       [1, 1, 1, 1]])"
      ]
     },
     "execution_count": 45,
     "metadata": {},
     "output_type": "execute_result"
    }
   ],
   "source": [
    "matriz[3] = 1\n",
    "matriz"
   ]
  },
  {
   "cell_type": "code",
   "execution_count": 46,
   "metadata": {},
   "outputs": [
    {
     "data": {
      "text/plain": [
       "array([[ 2, 30, 20, -2, -4],\n",
       "       [ 3,  4, 40, -3, -2],\n",
       "       [-3,  4, -6, 90, 10],\n",
       "       [25, 45, 34, 22, 12],\n",
       "       [13, 24, 22, 32, 37]])"
      ]
     },
     "execution_count": 46,
     "metadata": {},
     "output_type": "execute_result"
    }
   ],
   "source": [
    "X = np.array([[2,30,20,-2,-4], [3,4,40,-3,-2], [-3,4,-6,90,10], [25,45,34,22,12],[13,24,22,32,37]])\n",
    "X"
   ]
  },
  {
   "cell_type": "code",
   "execution_count": 47,
   "metadata": {},
   "outputs": [],
   "source": [
    "X[-1] = 0"
   ]
  },
  {
   "cell_type": "code",
   "execution_count": 48,
   "metadata": {},
   "outputs": [
    {
     "data": {
      "text/plain": [
       "array([[ 2, 30, 20, -2, -4],\n",
       "       [ 3,  4, 40, -3, -2],\n",
       "       [-3,  4, -6, 90, 10],\n",
       "       [25, 45, 34, 22, 12],\n",
       "       [ 0,  0,  0,  0,  0]])"
      ]
     },
     "execution_count": 48,
     "metadata": {},
     "output_type": "execute_result"
    }
   ],
   "source": [
    "X"
   ]
  },
  {
   "cell_type": "code",
   "execution_count": 49,
   "metadata": {},
   "outputs": [
    {
     "data": {
      "text/plain": [
       "array([[8, 3, 7, 3, 3],\n",
       "       [8, 3, 3, 5, 7],\n",
       "       [1, 3, 7, 1, 6],\n",
       "       [3, 1, 1, 9, 8],\n",
       "       [5, 7, 3, 4, 9]])"
      ]
     },
     "execution_count": 49,
     "metadata": {},
     "output_type": "execute_result"
    }
   ],
   "source": [
    "# TASK 05:\n",
    "MATRIX = np.random.randint(1,10,(5,5))\n",
    "MATRIX"
   ]
  },
  {
   "cell_type": "code",
   "execution_count": 50,
   "metadata": {},
   "outputs": [
    {
     "data": {
      "text/plain": [
       "array([8, 8, 6, 8, 4])"
      ]
     },
     "execution_count": 50,
     "metadata": {},
     "output_type": "execute_result"
    }
   ],
   "source": [
    "new_matrix = MATRIX[ MATRIX%2 == 0]\n",
    "new_matrix"
   ]
  },
  {
   "cell_type": "code",
   "execution_count": 51,
   "metadata": {},
   "outputs": [
    {
     "data": {
      "text/plain": [
       "array([3, 7, 3, 3, 3, 3, 5, 7, 1, 3, 7, 1, 3, 1, 1, 9, 5, 7, 3, 9])"
      ]
     },
     "execution_count": 51,
     "metadata": {},
     "output_type": "execute_result"
    }
   ],
   "source": [
    "# Obtain odd elements only\n",
    "odd_matrix = MATRIX[ MATRIX%2 != 0]\n",
    "odd_matrix"
   ]
  },
  {
   "cell_type": "code",
   "execution_count": 53,
   "metadata": {},
   "outputs": [
    {
     "name": "stdout",
     "output_type": "stream",
     "text": [
      "[[ 2 30 20  0  0]\n",
      " [-2  4 40  0  0]\n",
      " [ 0  4  0 90 10]\n",
      " [-2 -2 34 22 12]\n",
      " [-2 24 22 32 -2]]\n"
     ]
    }
   ],
   "source": [
    "X = np.array([[2,30,20,-2,-4], [3,4,40,-3,-2], [-3,4,-6,90,10], [25,45,34,22,12], [13,24,22,32,37]])\n",
    "X[X<0] = 0\n",
    "X[X%2 != 0] = -2\n",
    "print(X)"
   ]
  },
  {
   "cell_type": "code",
   "execution_count": 54,
   "metadata": {},
   "outputs": [],
   "source": [
    "# task 6\n",
    "# Pandas is a data manipulation and analysis tool that is built on Numpy.\n",
    "# Pandas uses a data structure known as DataFrame (think of it as Microsoft excel in Python). \n",
    "# DataFrames empower programmers to store and manipulate data in a tabular fashion (rows and columns).\n",
    "# Series Vs. DataFrame? Series is considered a single column of a DataFrame.\n",
    "\n",
    "import pandas as pd"
   ]
  },
  {
   "cell_type": "code",
   "execution_count": 55,
   "metadata": {},
   "outputs": [],
   "source": [
    "# Let's define a two-dimensional Pandas DataFrame\n",
    "# Note that you can create a pandas dataframe from a python dictionary\n",
    "bank_client_df = pd.DataFrame({'Bank Client ID': [111,222,333,444], \n",
    "                              'Bank Client Name': ['Chanel', 'Steve', 'Mitch', 'Ryan'],\n",
    "                            'Net Worth [$]': [3500, 29000, 10000, 2000],\n",
    "                              'Years with bank':[3,4,9,5]})"
   ]
  },
  {
   "cell_type": "code",
   "execution_count": 56,
   "metadata": {},
   "outputs": [
    {
     "data": {
      "text/html": [
       "<div>\n",
       "<style scoped>\n",
       "    .dataframe tbody tr th:only-of-type {\n",
       "        vertical-align: middle;\n",
       "    }\n",
       "\n",
       "    .dataframe tbody tr th {\n",
       "        vertical-align: top;\n",
       "    }\n",
       "\n",
       "    .dataframe thead th {\n",
       "        text-align: right;\n",
       "    }\n",
       "</style>\n",
       "<table border=\"1\" class=\"dataframe\">\n",
       "  <thead>\n",
       "    <tr style=\"text-align: right;\">\n",
       "      <th></th>\n",
       "      <th>Bank Client ID</th>\n",
       "      <th>Bank Client Name</th>\n",
       "      <th>Net Worth [$]</th>\n",
       "      <th>Years with bank</th>\n",
       "    </tr>\n",
       "  </thead>\n",
       "  <tbody>\n",
       "    <tr>\n",
       "      <th>0</th>\n",
       "      <td>111</td>\n",
       "      <td>Chanel</td>\n",
       "      <td>3500</td>\n",
       "      <td>3</td>\n",
       "    </tr>\n",
       "    <tr>\n",
       "      <th>1</th>\n",
       "      <td>222</td>\n",
       "      <td>Steve</td>\n",
       "      <td>29000</td>\n",
       "      <td>4</td>\n",
       "    </tr>\n",
       "    <tr>\n",
       "      <th>2</th>\n",
       "      <td>333</td>\n",
       "      <td>Mitch</td>\n",
       "      <td>10000</td>\n",
       "      <td>9</td>\n",
       "    </tr>\n",
       "    <tr>\n",
       "      <th>3</th>\n",
       "      <td>444</td>\n",
       "      <td>Ryan</td>\n",
       "      <td>2000</td>\n",
       "      <td>5</td>\n",
       "    </tr>\n",
       "  </tbody>\n",
       "</table>\n",
       "</div>"
      ],
      "text/plain": [
       "   Bank Client ID Bank Client Name  Net Worth [$]  Years with bank\n",
       "0             111           Chanel           3500                3\n",
       "1             222            Steve          29000                4\n",
       "2             333            Mitch          10000                9\n",
       "3             444             Ryan           2000                5"
      ]
     },
     "execution_count": 56,
     "metadata": {},
     "output_type": "execute_result"
    }
   ],
   "source": [
    "bank_client_df"
   ]
  },
  {
   "cell_type": "code",
   "execution_count": 57,
   "metadata": {},
   "outputs": [
    {
     "data": {
      "text/plain": [
       "5500000"
      ]
     },
     "execution_count": 57,
     "metadata": {},
     "output_type": "execute_result"
    }
   ],
   "source": [
    "portfolio_df = pd.DataFrame({'stocks': ['apple', 'ms', 'verizon'],\n",
    "                            'number of shares': [5000, 2000, 20000],\n",
    "                            'price per share': [500, 1000, 50]})\n",
    "portfolio_df\n",
    "portfolio_df['total value'] = portfolio_df['number of shares'] * portfolio_df['price per share']\n",
    "portfolio_df_total_value = portfolio_df['total value'].sum()\n",
    "portfolio_df_total_value"
   ]
  },
  {
   "cell_type": "code",
   "execution_count": 58,
   "metadata": {},
   "outputs": [
    {
     "name": "stdout",
     "output_type": "stream",
     "text": [
      "Requirement already satisfied: lxml in c:\\users\\abith\\anaconda3\\lib\\site-packages (4.6.1)\n"
     ]
    }
   ],
   "source": [
    "# task 7\n",
    "\n",
    "!pip install lxml"
   ]
  },
  {
   "cell_type": "code",
   "execution_count": 59,
   "metadata": {},
   "outputs": [
    {
     "name": "stdout",
     "output_type": "stream",
     "text": [
      "Requirement already satisfied: pip in c:\\users\\abith\\anaconda3\\lib\\site-packages (21.0.1)\n"
     ]
    }
   ],
   "source": [
    "!python -m pip install --upgrade pip"
   ]
  },
  {
   "cell_type": "code",
   "execution_count": 60,
   "metadata": {},
   "outputs": [],
   "source": [
    "# Pandas is used to read a csv file and store data in a DataFrame\n",
    "house_price_df = pd.read_html('https://www.livingin-canada.com/house-prices-canada.html')"
   ]
  },
  {
   "cell_type": "code",
   "execution_count": 61,
   "metadata": {},
   "outputs": [
    {
     "data": {
      "text/html": [
       "<div>\n",
       "<style scoped>\n",
       "    .dataframe tbody tr th:only-of-type {\n",
       "        vertical-align: middle;\n",
       "    }\n",
       "\n",
       "    .dataframe tbody tr th {\n",
       "        vertical-align: top;\n",
       "    }\n",
       "\n",
       "    .dataframe thead th {\n",
       "        text-align: right;\n",
       "    }\n",
       "</style>\n",
       "<table border=\"1\" class=\"dataframe\">\n",
       "  <thead>\n",
       "    <tr style=\"text-align: right;\">\n",
       "      <th></th>\n",
       "      <th>City</th>\n",
       "      <th>Average House Price</th>\n",
       "      <th>12 Month Change</th>\n",
       "    </tr>\n",
       "  </thead>\n",
       "  <tbody>\n",
       "    <tr>\n",
       "      <th>0</th>\n",
       "      <td>Vancouver, BC</td>\n",
       "      <td>$1,036,000</td>\n",
       "      <td>+ 2.63 %</td>\n",
       "    </tr>\n",
       "    <tr>\n",
       "      <th>1</th>\n",
       "      <td>Toronto, Ont</td>\n",
       "      <td>$870,000</td>\n",
       "      <td>+10.2 %</td>\n",
       "    </tr>\n",
       "    <tr>\n",
       "      <th>2</th>\n",
       "      <td>Ottawa, Ont</td>\n",
       "      <td>$479,000</td>\n",
       "      <td>+ 15.4 %</td>\n",
       "    </tr>\n",
       "    <tr>\n",
       "      <th>3</th>\n",
       "      <td>Calgary, Alb</td>\n",
       "      <td>$410,000</td>\n",
       "      <td>– 1.5 %</td>\n",
       "    </tr>\n",
       "    <tr>\n",
       "      <th>4</th>\n",
       "      <td>Montreal, Que</td>\n",
       "      <td>$435,000</td>\n",
       "      <td>+ 9.3 %</td>\n",
       "    </tr>\n",
       "    <tr>\n",
       "      <th>5</th>\n",
       "      <td>Halifax, NS</td>\n",
       "      <td>$331,000</td>\n",
       "      <td>+ 3.6 %</td>\n",
       "    </tr>\n",
       "    <tr>\n",
       "      <th>6</th>\n",
       "      <td>Regina, Sask</td>\n",
       "      <td>$254,000</td>\n",
       "      <td>– 3.9 %</td>\n",
       "    </tr>\n",
       "    <tr>\n",
       "      <th>7</th>\n",
       "      <td>Fredericton, NB</td>\n",
       "      <td>$198,000</td>\n",
       "      <td>– 4.3 %</td>\n",
       "    </tr>\n",
       "    <tr>\n",
       "      <th>8</th>\n",
       "      <td>(adsbygoogle = window.adsbygoogle || []).push(...</td>\n",
       "      <td>(adsbygoogle = window.adsbygoogle || []).push(...</td>\n",
       "      <td>(adsbygoogle = window.adsbygoogle || []).push(...</td>\n",
       "    </tr>\n",
       "  </tbody>\n",
       "</table>\n",
       "</div>"
      ],
      "text/plain": [
       "                                                City  \\\n",
       "0                                      Vancouver, BC   \n",
       "1                                       Toronto, Ont   \n",
       "2                                        Ottawa, Ont   \n",
       "3                                       Calgary, Alb   \n",
       "4                                      Montreal, Que   \n",
       "5                                        Halifax, NS   \n",
       "6                                       Regina, Sask   \n",
       "7                                    Fredericton, NB   \n",
       "8  (adsbygoogle = window.adsbygoogle || []).push(...   \n",
       "\n",
       "                                 Average House Price  \\\n",
       "0                                         $1,036,000   \n",
       "1                                           $870,000   \n",
       "2                                           $479,000   \n",
       "3                                           $410,000   \n",
       "4                                           $435,000   \n",
       "5                                           $331,000   \n",
       "6                                           $254,000   \n",
       "7                                           $198,000   \n",
       "8  (adsbygoogle = window.adsbygoogle || []).push(...   \n",
       "\n",
       "                                     12 Month Change  \n",
       "0                                           + 2.63 %  \n",
       "1                                            +10.2 %  \n",
       "2                                           + 15.4 %  \n",
       "3                                            – 1.5 %  \n",
       "4                                            + 9.3 %  \n",
       "5                                            + 3.6 %  \n",
       "6                                            – 3.9 %  \n",
       "7                                            – 4.3 %  \n",
       "8  (adsbygoogle = window.adsbygoogle || []).push(...  "
      ]
     },
     "execution_count": 61,
     "metadata": {},
     "output_type": "execute_result"
    }
   ],
   "source": [
    "house_price_df[0]"
   ]
  },
  {
   "cell_type": "code",
   "execution_count": 62,
   "metadata": {},
   "outputs": [
    {
     "data": {
      "text/html": [
       "<div>\n",
       "<style scoped>\n",
       "    .dataframe tbody tr th:only-of-type {\n",
       "        vertical-align: middle;\n",
       "    }\n",
       "\n",
       "    .dataframe tbody tr th {\n",
       "        vertical-align: top;\n",
       "    }\n",
       "\n",
       "    .dataframe thead th {\n",
       "        text-align: right;\n",
       "    }\n",
       "</style>\n",
       "<table border=\"1\" class=\"dataframe\">\n",
       "  <thead>\n",
       "    <tr style=\"text-align: right;\">\n",
       "      <th></th>\n",
       "      <th>Province</th>\n",
       "      <th>Average House Price</th>\n",
       "      <th>12 Month Change</th>\n",
       "    </tr>\n",
       "  </thead>\n",
       "  <tbody>\n",
       "    <tr>\n",
       "      <th>0</th>\n",
       "      <td>British Columbia</td>\n",
       "      <td>$736,000</td>\n",
       "      <td>+ 7.6 %</td>\n",
       "    </tr>\n",
       "    <tr>\n",
       "      <th>1</th>\n",
       "      <td>Ontario</td>\n",
       "      <td>$594,000</td>\n",
       "      <td>– 3.2 %</td>\n",
       "    </tr>\n",
       "    <tr>\n",
       "      <th>2</th>\n",
       "      <td>Alberta</td>\n",
       "      <td>$353,000</td>\n",
       "      <td>– 7.5 %</td>\n",
       "    </tr>\n",
       "    <tr>\n",
       "      <th>3</th>\n",
       "      <td>Quebec</td>\n",
       "      <td>$340,000</td>\n",
       "      <td>+ 7.6 %</td>\n",
       "    </tr>\n",
       "    <tr>\n",
       "      <th>4</th>\n",
       "      <td>Manitoba</td>\n",
       "      <td>$295,000</td>\n",
       "      <td>– 1.4 %</td>\n",
       "    </tr>\n",
       "    <tr>\n",
       "      <th>5</th>\n",
       "      <td>Saskatchewan</td>\n",
       "      <td>$271,000</td>\n",
       "      <td>– 3.8 %</td>\n",
       "    </tr>\n",
       "    <tr>\n",
       "      <th>6</th>\n",
       "      <td>Nova Scotia</td>\n",
       "      <td>$266,000</td>\n",
       "      <td>+ 3.5 %</td>\n",
       "    </tr>\n",
       "    <tr>\n",
       "      <th>7</th>\n",
       "      <td>Prince Edward Island</td>\n",
       "      <td>$243,000</td>\n",
       "      <td>+ 3.0 %</td>\n",
       "    </tr>\n",
       "    <tr>\n",
       "      <th>8</th>\n",
       "      <td>Newfoundland / Labrador</td>\n",
       "      <td>$236,000</td>\n",
       "      <td>– 1.6 %</td>\n",
       "    </tr>\n",
       "    <tr>\n",
       "      <th>9</th>\n",
       "      <td>New Brunswick</td>\n",
       "      <td>$183,000</td>\n",
       "      <td>– 2.2 %</td>\n",
       "    </tr>\n",
       "    <tr>\n",
       "      <th>10</th>\n",
       "      <td>Canadian Average</td>\n",
       "      <td>$488,000</td>\n",
       "      <td>– 1.3 %</td>\n",
       "    </tr>\n",
       "    <tr>\n",
       "      <th>11</th>\n",
       "      <td>(adsbygoogle = window.adsbygoogle || []).push(...</td>\n",
       "      <td>(adsbygoogle = window.adsbygoogle || []).push(...</td>\n",
       "      <td>(adsbygoogle = window.adsbygoogle || []).push(...</td>\n",
       "    </tr>\n",
       "  </tbody>\n",
       "</table>\n",
       "</div>"
      ],
      "text/plain": [
       "                                             Province  \\\n",
       "0                                    British Columbia   \n",
       "1                                             Ontario   \n",
       "2                                             Alberta   \n",
       "3                                              Quebec   \n",
       "4                                            Manitoba   \n",
       "5                                        Saskatchewan   \n",
       "6                                         Nova Scotia   \n",
       "7                                Prince Edward Island   \n",
       "8                             Newfoundland / Labrador   \n",
       "9                                       New Brunswick   \n",
       "10                                   Canadian Average   \n",
       "11  (adsbygoogle = window.adsbygoogle || []).push(...   \n",
       "\n",
       "                                  Average House Price  \\\n",
       "0                                            $736,000   \n",
       "1                                            $594,000   \n",
       "2                                            $353,000   \n",
       "3                                            $340,000   \n",
       "4                                            $295,000   \n",
       "5                                            $271,000   \n",
       "6                                            $266,000   \n",
       "7                                            $243,000   \n",
       "8                                            $236,000   \n",
       "9                                            $183,000   \n",
       "10                                           $488,000   \n",
       "11  (adsbygoogle = window.adsbygoogle || []).push(...   \n",
       "\n",
       "                                      12 Month Change  \n",
       "0                                             + 7.6 %  \n",
       "1                                             – 3.2 %  \n",
       "2                                             – 7.5 %  \n",
       "3                                             + 7.6 %  \n",
       "4                                             – 1.4 %  \n",
       "5                                             – 3.8 %  \n",
       "6                                             + 3.5 %  \n",
       "7                                             + 3.0 %  \n",
       "8                                             – 1.6 %  \n",
       "9                                             – 2.2 %  \n",
       "10                                            – 1.3 %  \n",
       "11  (adsbygoogle = window.adsbygoogle || []).push(...  "
      ]
     },
     "execution_count": 62,
     "metadata": {},
     "output_type": "execute_result"
    }
   ],
   "source": [
    "# Read tabular data using read_html\n",
    "house_price_df[1]"
   ]
  },
  {
   "cell_type": "code",
   "execution_count": 63,
   "metadata": {},
   "outputs": [
    {
     "data": {
      "text/html": [
       "<div>\n",
       "<style scoped>\n",
       "    .dataframe tbody tr th:only-of-type {\n",
       "        vertical-align: middle;\n",
       "    }\n",
       "\n",
       "    .dataframe tbody tr th {\n",
       "        vertical-align: top;\n",
       "    }\n",
       "\n",
       "    .dataframe thead th {\n",
       "        text-align: right;\n",
       "    }\n",
       "</style>\n",
       "<table border=\"1\" class=\"dataframe\">\n",
       "  <thead>\n",
       "    <tr style=\"text-align: right;\">\n",
       "      <th></th>\n",
       "      <th>Year of birth</th>\n",
       "      <th>Age</th>\n",
       "    </tr>\n",
       "  </thead>\n",
       "  <tbody>\n",
       "    <tr>\n",
       "      <th>0</th>\n",
       "      <td>1937 and prior</td>\n",
       "      <td>65</td>\n",
       "    </tr>\n",
       "    <tr>\n",
       "      <th>1</th>\n",
       "      <td>1938</td>\n",
       "      <td>65 and 2 months</td>\n",
       "    </tr>\n",
       "    <tr>\n",
       "      <th>2</th>\n",
       "      <td>1939</td>\n",
       "      <td>65 and 4 months</td>\n",
       "    </tr>\n",
       "    <tr>\n",
       "      <th>3</th>\n",
       "      <td>1940</td>\n",
       "      <td>65 and 6 months</td>\n",
       "    </tr>\n",
       "    <tr>\n",
       "      <th>4</th>\n",
       "      <td>1941</td>\n",
       "      <td>65 and 8 months</td>\n",
       "    </tr>\n",
       "    <tr>\n",
       "      <th>5</th>\n",
       "      <td>1942</td>\n",
       "      <td>65 and 10 months</td>\n",
       "    </tr>\n",
       "    <tr>\n",
       "      <th>6</th>\n",
       "      <td>1943-54</td>\n",
       "      <td>66</td>\n",
       "    </tr>\n",
       "    <tr>\n",
       "      <th>7</th>\n",
       "      <td>1955</td>\n",
       "      <td>66 and 2 months</td>\n",
       "    </tr>\n",
       "    <tr>\n",
       "      <th>8</th>\n",
       "      <td>1956</td>\n",
       "      <td>66 and 4 months</td>\n",
       "    </tr>\n",
       "    <tr>\n",
       "      <th>9</th>\n",
       "      <td>1957</td>\n",
       "      <td>66 and 6 months</td>\n",
       "    </tr>\n",
       "    <tr>\n",
       "      <th>10</th>\n",
       "      <td>1958</td>\n",
       "      <td>66 and 8 months</td>\n",
       "    </tr>\n",
       "    <tr>\n",
       "      <th>11</th>\n",
       "      <td>1959</td>\n",
       "      <td>66 and 10 months</td>\n",
       "    </tr>\n",
       "    <tr>\n",
       "      <th>12</th>\n",
       "      <td>1960 and later</td>\n",
       "      <td>67</td>\n",
       "    </tr>\n",
       "    <tr>\n",
       "      <th>13</th>\n",
       "      <td>Notes: 1. Persons born on January 1 of any yea...</td>\n",
       "      <td>Notes: 1. Persons born on January 1 of any yea...</td>\n",
       "    </tr>\n",
       "  </tbody>\n",
       "</table>\n",
       "</div>"
      ],
      "text/plain": [
       "                                        Year of birth  \\\n",
       "0                                      1937 and prior   \n",
       "1                                                1938   \n",
       "2                                                1939   \n",
       "3                                                1940   \n",
       "4                                                1941   \n",
       "5                                                1942   \n",
       "6                                             1943-54   \n",
       "7                                                1955   \n",
       "8                                                1956   \n",
       "9                                                1957   \n",
       "10                                               1958   \n",
       "11                                               1959   \n",
       "12                                     1960 and later   \n",
       "13  Notes: 1. Persons born on January 1 of any yea...   \n",
       "\n",
       "                                                  Age  \n",
       "0                                                  65  \n",
       "1                                     65 and 2 months  \n",
       "2                                     65 and 4 months  \n",
       "3                                     65 and 6 months  \n",
       "4                                     65 and 8 months  \n",
       "5                                    65 and 10 months  \n",
       "6                                                  66  \n",
       "7                                     66 and 2 months  \n",
       "8                                     66 and 4 months  \n",
       "9                                     66 and 6 months  \n",
       "10                                    66 and 8 months  \n",
       "11                                   66 and 10 months  \n",
       "12                                                 67  \n",
       "13  Notes: 1. Persons born on January 1 of any yea...  "
      ]
     },
     "execution_count": 63,
     "metadata": {},
     "output_type": "execute_result"
    }
   ],
   "source": [
    "us_retirement_data = pd.read_html('https://www.ssa.gov/oact/progdata/nra.html')\n",
    "us_retirement_data[0]"
   ]
  },
  {
   "cell_type": "code",
   "execution_count": 64,
   "metadata": {},
   "outputs": [
    {
     "data": {
      "text/html": [
       "<div>\n",
       "<style scoped>\n",
       "    .dataframe tbody tr th:only-of-type {\n",
       "        vertical-align: middle;\n",
       "    }\n",
       "\n",
       "    .dataframe tbody tr th {\n",
       "        vertical-align: top;\n",
       "    }\n",
       "\n",
       "    .dataframe thead th {\n",
       "        text-align: right;\n",
       "    }\n",
       "</style>\n",
       "<table border=\"1\" class=\"dataframe\">\n",
       "  <thead>\n",
       "    <tr style=\"text-align: right;\">\n",
       "      <th></th>\n",
       "      <th>Bank Client ID</th>\n",
       "      <th>Bank Client Name</th>\n",
       "      <th>Net Worth [$]</th>\n",
       "      <th>Years with bank</th>\n",
       "    </tr>\n",
       "  </thead>\n",
       "  <tbody>\n",
       "    <tr>\n",
       "      <th>0</th>\n",
       "      <td>111</td>\n",
       "      <td>Chanel</td>\n",
       "      <td>3500</td>\n",
       "      <td>3</td>\n",
       "    </tr>\n",
       "    <tr>\n",
       "      <th>1</th>\n",
       "      <td>222</td>\n",
       "      <td>Steve</td>\n",
       "      <td>29000</td>\n",
       "      <td>4</td>\n",
       "    </tr>\n",
       "    <tr>\n",
       "      <th>2</th>\n",
       "      <td>333</td>\n",
       "      <td>Mitch</td>\n",
       "      <td>10000</td>\n",
       "      <td>9</td>\n",
       "    </tr>\n",
       "    <tr>\n",
       "      <th>3</th>\n",
       "      <td>444</td>\n",
       "      <td>Ryan</td>\n",
       "      <td>2000</td>\n",
       "      <td>5</td>\n",
       "    </tr>\n",
       "  </tbody>\n",
       "</table>\n",
       "</div>"
      ],
      "text/plain": [
       "   Bank Client ID Bank Client Name  Net Worth [$]  Years with bank\n",
       "0             111           Chanel           3500                3\n",
       "1             222            Steve          29000                4\n",
       "2             333            Mitch          10000                9\n",
       "3             444             Ryan           2000                5"
      ]
     },
     "execution_count": 64,
     "metadata": {},
     "output_type": "execute_result"
    }
   ],
   "source": [
    "# task 8\n",
    "# Let's define a dataframe as follows:\n",
    "bank_client_df = pd.DataFrame({'Bank Client ID': [111,222,333,444], \n",
    "                              'Bank Client Name': ['Chanel', 'Steve', 'Mitch', 'Ryan'],\n",
    "                            'Net Worth [$]': [3500, 29000, 10000, 2000],\n",
    "                              'Years with bank':[3,4,9,5]})\n",
    "bank_client_df"
   ]
  },
  {
   "cell_type": "code",
   "execution_count": 65,
   "metadata": {},
   "outputs": [
    {
     "data": {
      "text/html": [
       "<div>\n",
       "<style scoped>\n",
       "    .dataframe tbody tr th:only-of-type {\n",
       "        vertical-align: middle;\n",
       "    }\n",
       "\n",
       "    .dataframe tbody tr th {\n",
       "        vertical-align: top;\n",
       "    }\n",
       "\n",
       "    .dataframe thead th {\n",
       "        text-align: right;\n",
       "    }\n",
       "</style>\n",
       "<table border=\"1\" class=\"dataframe\">\n",
       "  <thead>\n",
       "    <tr style=\"text-align: right;\">\n",
       "      <th></th>\n",
       "      <th>Bank Client ID</th>\n",
       "      <th>Bank Client Name</th>\n",
       "      <th>Net Worth [$]</th>\n",
       "      <th>Years with bank</th>\n",
       "    </tr>\n",
       "  </thead>\n",
       "  <tbody>\n",
       "    <tr>\n",
       "      <th>2</th>\n",
       "      <td>333</td>\n",
       "      <td>Mitch</td>\n",
       "      <td>10000</td>\n",
       "      <td>9</td>\n",
       "    </tr>\n",
       "    <tr>\n",
       "      <th>3</th>\n",
       "      <td>444</td>\n",
       "      <td>Ryan</td>\n",
       "      <td>2000</td>\n",
       "      <td>5</td>\n",
       "    </tr>\n",
       "  </tbody>\n",
       "</table>\n",
       "</div>"
      ],
      "text/plain": [
       "   Bank Client ID Bank Client Name  Net Worth [$]  Years with bank\n",
       "2             333            Mitch          10000                9\n",
       "3             444             Ryan           2000                5"
      ]
     },
     "execution_count": 65,
     "metadata": {},
     "output_type": "execute_result"
    }
   ],
   "source": [
    "# Pick certain rows that satisfy a certain criteria \n",
    "df_loyal = bank_client_df[bank_client_df['Years with bank'] >= 5]\n",
    "df_loyal"
   ]
  },
  {
   "cell_type": "code",
   "execution_count": 66,
   "metadata": {},
   "outputs": [
    {
     "data": {
      "text/html": [
       "<div>\n",
       "<style scoped>\n",
       "    .dataframe tbody tr th:only-of-type {\n",
       "        vertical-align: middle;\n",
       "    }\n",
       "\n",
       "    .dataframe tbody tr th {\n",
       "        vertical-align: top;\n",
       "    }\n",
       "\n",
       "    .dataframe thead th {\n",
       "        text-align: right;\n",
       "    }\n",
       "</style>\n",
       "<table border=\"1\" class=\"dataframe\">\n",
       "  <thead>\n",
       "    <tr style=\"text-align: right;\">\n",
       "      <th></th>\n",
       "      <th>Bank Client ID</th>\n",
       "      <th>Net Worth [$]</th>\n",
       "      <th>Years with bank</th>\n",
       "    </tr>\n",
       "  </thead>\n",
       "  <tbody>\n",
       "    <tr>\n",
       "      <th>0</th>\n",
       "      <td>111</td>\n",
       "      <td>3500</td>\n",
       "      <td>3</td>\n",
       "    </tr>\n",
       "    <tr>\n",
       "      <th>1</th>\n",
       "      <td>222</td>\n",
       "      <td>29000</td>\n",
       "      <td>4</td>\n",
       "    </tr>\n",
       "    <tr>\n",
       "      <th>2</th>\n",
       "      <td>333</td>\n",
       "      <td>10000</td>\n",
       "      <td>9</td>\n",
       "    </tr>\n",
       "    <tr>\n",
       "      <th>3</th>\n",
       "      <td>444</td>\n",
       "      <td>2000</td>\n",
       "      <td>5</td>\n",
       "    </tr>\n",
       "  </tbody>\n",
       "</table>\n",
       "</div>"
      ],
      "text/plain": [
       "   Bank Client ID  Net Worth [$]  Years with bank\n",
       "0             111           3500                3\n",
       "1             222          29000                4\n",
       "2             333          10000                9\n",
       "3             444           2000                5"
      ]
     },
     "execution_count": 66,
     "metadata": {},
     "output_type": "execute_result"
    }
   ],
   "source": [
    "del bank_client_df['Bank Client Name']\n",
    "bank_client_df"
   ]
  },
  {
   "cell_type": "code",
   "execution_count": 67,
   "metadata": {},
   "outputs": [
    {
     "data": {
      "text/html": [
       "<div>\n",
       "<style scoped>\n",
       "    .dataframe tbody tr th:only-of-type {\n",
       "        vertical-align: middle;\n",
       "    }\n",
       "\n",
       "    .dataframe tbody tr th {\n",
       "        vertical-align: top;\n",
       "    }\n",
       "\n",
       "    .dataframe thead th {\n",
       "        text-align: right;\n",
       "    }\n",
       "</style>\n",
       "<table border=\"1\" class=\"dataframe\">\n",
       "  <thead>\n",
       "    <tr style=\"text-align: right;\">\n",
       "      <th></th>\n",
       "      <th>Bank Client ID</th>\n",
       "      <th>Net Worth [$]</th>\n",
       "      <th>Years with bank</th>\n",
       "    </tr>\n",
       "  </thead>\n",
       "  <tbody>\n",
       "    <tr>\n",
       "      <th>1</th>\n",
       "      <td>222</td>\n",
       "      <td>29000</td>\n",
       "      <td>4</td>\n",
       "    </tr>\n",
       "    <tr>\n",
       "      <th>2</th>\n",
       "      <td>333</td>\n",
       "      <td>10000</td>\n",
       "      <td>9</td>\n",
       "    </tr>\n",
       "  </tbody>\n",
       "</table>\n",
       "</div>"
      ],
      "text/plain": [
       "   Bank Client ID  Net Worth [$]  Years with bank\n",
       "1             222          29000                4\n",
       "2             333          10000                9"
      ]
     },
     "execution_count": 67,
     "metadata": {},
     "output_type": "execute_result"
    }
   ],
   "source": [
    "new_pd = bank_client_df[bank_client_df['Net Worth [$]'] >= 5000]\n",
    "new_pd"
   ]
  },
  {
   "cell_type": "code",
   "execution_count": 68,
   "metadata": {},
   "outputs": [
    {
     "data": {
      "text/plain": [
       "39000"
      ]
     },
     "execution_count": 68,
     "metadata": {},
     "output_type": "execute_result"
    }
   ],
   "source": [
    "combined_nw = new_pd['Net Worth [$]'].sum()\n",
    "combined_nw"
   ]
  },
  {
   "cell_type": "code",
   "execution_count": 69,
   "metadata": {},
   "outputs": [
    {
     "data": {
      "text/html": [
       "<div>\n",
       "<style scoped>\n",
       "    .dataframe tbody tr th:only-of-type {\n",
       "        vertical-align: middle;\n",
       "    }\n",
       "\n",
       "    .dataframe tbody tr th {\n",
       "        vertical-align: top;\n",
       "    }\n",
       "\n",
       "    .dataframe thead th {\n",
       "        text-align: right;\n",
       "    }\n",
       "</style>\n",
       "<table border=\"1\" class=\"dataframe\">\n",
       "  <thead>\n",
       "    <tr style=\"text-align: right;\">\n",
       "      <th></th>\n",
       "      <th>Bank client ID</th>\n",
       "      <th>Bank Client Name</th>\n",
       "      <th>Net worth [$]</th>\n",
       "      <th>Years with bank</th>\n",
       "    </tr>\n",
       "  </thead>\n",
       "  <tbody>\n",
       "    <tr>\n",
       "      <th>0</th>\n",
       "      <td>111</td>\n",
       "      <td>Chanel</td>\n",
       "      <td>3500</td>\n",
       "      <td>3</td>\n",
       "    </tr>\n",
       "    <tr>\n",
       "      <th>1</th>\n",
       "      <td>222</td>\n",
       "      <td>Steve</td>\n",
       "      <td>29000</td>\n",
       "      <td>4</td>\n",
       "    </tr>\n",
       "    <tr>\n",
       "      <th>2</th>\n",
       "      <td>333</td>\n",
       "      <td>Mitch</td>\n",
       "      <td>10000</td>\n",
       "      <td>9</td>\n",
       "    </tr>\n",
       "    <tr>\n",
       "      <th>3</th>\n",
       "      <td>444</td>\n",
       "      <td>Ryan</td>\n",
       "      <td>2000</td>\n",
       "      <td>5</td>\n",
       "    </tr>\n",
       "  </tbody>\n",
       "</table>\n",
       "</div>"
      ],
      "text/plain": [
       "   Bank client ID Bank Client Name  Net worth [$]  Years with bank\n",
       "0             111           Chanel           3500                3\n",
       "1             222            Steve          29000                4\n",
       "2             333            Mitch          10000                9\n",
       "3             444             Ryan           2000                5"
      ]
     },
     "execution_count": 69,
     "metadata": {},
     "output_type": "execute_result"
    }
   ],
   "source": [
    "#task 9:\n",
    "# Let's define a dataframe as follows:\n",
    "bank_client_df = pd.DataFrame({'Bank client ID':[111, 222, 333, 444], \n",
    "                               'Bank Client Name':['Chanel', 'Steve', 'Mitch', 'Ryan'], \n",
    "                               'Net worth [$]':[3500, 29000, 10000, 2000], \n",
    "                               'Years with bank':[3, 4, 9, 5]})\n",
    "bank_client_df"
   ]
  },
  {
   "cell_type": "code",
   "execution_count": 70,
   "metadata": {},
   "outputs": [
    {
     "data": {
      "text/plain": [
       "0     4200.0\n",
       "1    34800.0\n",
       "2    12000.0\n",
       "3     2400.0\n",
       "Name: Net worth [$], dtype: float64"
      ]
     },
     "execution_count": 70,
     "metadata": {},
     "output_type": "execute_result"
    }
   ],
   "source": [
    "# Define a function that increases all clients networth (stocks) by a fixed value of 20% (for simplicity sake) \n",
    "def networth_update(balance):\n",
    "    return balance * 1.2\n",
    "\n",
    "bank_client_df['Net worth [$]'].apply(networth_update)"
   ]
  },
  {
   "cell_type": "code",
   "execution_count": 71,
   "metadata": {},
   "outputs": [
    {
     "data": {
      "text/plain": [
       "0    6\n",
       "1    5\n",
       "2    5\n",
       "3    4\n",
       "Name: Bank Client Name, dtype: int64"
      ]
     },
     "execution_count": 71,
     "metadata": {},
     "output_type": "execute_result"
    }
   ],
   "source": [
    "# You can apply a function to the DataFrame \n",
    "bank_client_df['Bank Client Name'].apply(len)"
   ]
  },
  {
   "cell_type": "code",
   "execution_count": 72,
   "metadata": {},
   "outputs": [
    {
     "data": {
      "text/html": [
       "<div>\n",
       "<style scoped>\n",
       "    .dataframe tbody tr th:only-of-type {\n",
       "        vertical-align: middle;\n",
       "    }\n",
       "\n",
       "    .dataframe tbody tr th {\n",
       "        vertical-align: top;\n",
       "    }\n",
       "\n",
       "    .dataframe thead th {\n",
       "        text-align: right;\n",
       "    }\n",
       "</style>\n",
       "<table border=\"1\" class=\"dataframe\">\n",
       "  <thead>\n",
       "    <tr style=\"text-align: right;\">\n",
       "      <th></th>\n",
       "      <th>stocks</th>\n",
       "      <th>number of shares</th>\n",
       "      <th>price per share</th>\n",
       "    </tr>\n",
       "  </thead>\n",
       "  <tbody>\n",
       "    <tr>\n",
       "      <th>0</th>\n",
       "      <td>apple</td>\n",
       "      <td>5000</td>\n",
       "      <td>500</td>\n",
       "    </tr>\n",
       "    <tr>\n",
       "      <th>1</th>\n",
       "      <td>ms</td>\n",
       "      <td>2000</td>\n",
       "      <td>1000</td>\n",
       "    </tr>\n",
       "    <tr>\n",
       "      <th>2</th>\n",
       "      <td>verizon</td>\n",
       "      <td>20000</td>\n",
       "      <td>50</td>\n",
       "    </tr>\n",
       "  </tbody>\n",
       "</table>\n",
       "</div>"
      ],
      "text/plain": [
       "    stocks  number of shares  price per share\n",
       "0    apple              5000              500\n",
       "1       ms              2000             1000\n",
       "2  verizon             20000               50"
      ]
     },
     "execution_count": 72,
     "metadata": {},
     "output_type": "execute_result"
    }
   ],
   "source": [
    "portfolio_df = pd.DataFrame({'stocks': ['apple', 'ms', 'verizon'],\n",
    "                            'number of shares': [5000, 2000, 20000],\n",
    "                            'price per share': [500, 1000, 50]})\n",
    "portfolio_df"
   ]
  },
  {
   "cell_type": "code",
   "execution_count": 73,
   "metadata": {},
   "outputs": [
    {
     "data": {
      "text/plain": [
       "134300"
      ]
     },
     "execution_count": 73,
     "metadata": {},
     "output_type": "execute_result"
    }
   ],
   "source": [
    "def stock_prices(price):\n",
    "    return (price * 3)+200\n",
    "bank_client_df['Net worth [$]'].apply(stock_prices).sum()\n",
    "#bank_client_df['Net worth [$]'].sum()"
   ]
  },
  {
   "cell_type": "code",
   "execution_count": 74,
   "metadata": {},
   "outputs": [
    {
     "data": {
      "text/html": [
       "<div>\n",
       "<style scoped>\n",
       "    .dataframe tbody tr th:only-of-type {\n",
       "        vertical-align: middle;\n",
       "    }\n",
       "\n",
       "    .dataframe tbody tr th {\n",
       "        vertical-align: top;\n",
       "    }\n",
       "\n",
       "    .dataframe thead th {\n",
       "        text-align: right;\n",
       "    }\n",
       "</style>\n",
       "<table border=\"1\" class=\"dataframe\">\n",
       "  <thead>\n",
       "    <tr style=\"text-align: right;\">\n",
       "      <th></th>\n",
       "      <th>Bank client ID</th>\n",
       "      <th>Bank Client Name</th>\n",
       "      <th>Net worth [$]</th>\n",
       "      <th>Years with bank</th>\n",
       "    </tr>\n",
       "  </thead>\n",
       "  <tbody>\n",
       "    <tr>\n",
       "      <th>0</th>\n",
       "      <td>111</td>\n",
       "      <td>Chanel</td>\n",
       "      <td>3500</td>\n",
       "      <td>3</td>\n",
       "    </tr>\n",
       "    <tr>\n",
       "      <th>1</th>\n",
       "      <td>222</td>\n",
       "      <td>Steve</td>\n",
       "      <td>29000</td>\n",
       "      <td>4</td>\n",
       "    </tr>\n",
       "    <tr>\n",
       "      <th>2</th>\n",
       "      <td>333</td>\n",
       "      <td>Mitch</td>\n",
       "      <td>10000</td>\n",
       "      <td>9</td>\n",
       "    </tr>\n",
       "    <tr>\n",
       "      <th>3</th>\n",
       "      <td>444</td>\n",
       "      <td>Ryan</td>\n",
       "      <td>2000</td>\n",
       "      <td>5</td>\n",
       "    </tr>\n",
       "  </tbody>\n",
       "</table>\n",
       "</div>"
      ],
      "text/plain": [
       "   Bank client ID Bank Client Name  Net worth [$]  Years with bank\n",
       "0             111           Chanel           3500                3\n",
       "1             222            Steve          29000                4\n",
       "2             333            Mitch          10000                9\n",
       "3             444             Ryan           2000                5"
      ]
     },
     "execution_count": 74,
     "metadata": {},
     "output_type": "execute_result"
    }
   ],
   "source": [
    "#task 10:\n",
    "# Let's define a dataframe as follows:\n",
    "bank_client_df = pd.DataFrame({'Bank client ID':[111, 222, 333, 444], \n",
    "                               'Bank Client Name':['Chanel', 'Steve', 'Mitch', 'Ryan'], \n",
    "                               'Net worth [$]':[3500, 29000, 10000, 2000], \n",
    "                               'Years with bank':[3, 4, 9, 5]})\n",
    "bank_client_df"
   ]
  },
  {
   "cell_type": "code",
   "execution_count": 75,
   "metadata": {},
   "outputs": [],
   "source": [
    "# You can sort the values in the dataframe according to number of years with bank\n",
    "bank_client_df.sort_values(by='Years with bank', inplace=True)"
   ]
  },
  {
   "cell_type": "code",
   "execution_count": 76,
   "metadata": {},
   "outputs": [
    {
     "data": {
      "text/html": [
       "<div>\n",
       "<style scoped>\n",
       "    .dataframe tbody tr th:only-of-type {\n",
       "        vertical-align: middle;\n",
       "    }\n",
       "\n",
       "    .dataframe tbody tr th {\n",
       "        vertical-align: top;\n",
       "    }\n",
       "\n",
       "    .dataframe thead th {\n",
       "        text-align: right;\n",
       "    }\n",
       "</style>\n",
       "<table border=\"1\" class=\"dataframe\">\n",
       "  <thead>\n",
       "    <tr style=\"text-align: right;\">\n",
       "      <th></th>\n",
       "      <th>Bank client ID</th>\n",
       "      <th>Bank Client Name</th>\n",
       "      <th>Net worth [$]</th>\n",
       "      <th>Years with bank</th>\n",
       "    </tr>\n",
       "  </thead>\n",
       "  <tbody>\n",
       "    <tr>\n",
       "      <th>0</th>\n",
       "      <td>111</td>\n",
       "      <td>Chanel</td>\n",
       "      <td>3500</td>\n",
       "      <td>3</td>\n",
       "    </tr>\n",
       "    <tr>\n",
       "      <th>1</th>\n",
       "      <td>222</td>\n",
       "      <td>Steve</td>\n",
       "      <td>29000</td>\n",
       "      <td>4</td>\n",
       "    </tr>\n",
       "    <tr>\n",
       "      <th>3</th>\n",
       "      <td>444</td>\n",
       "      <td>Ryan</td>\n",
       "      <td>2000</td>\n",
       "      <td>5</td>\n",
       "    </tr>\n",
       "    <tr>\n",
       "      <th>2</th>\n",
       "      <td>333</td>\n",
       "      <td>Mitch</td>\n",
       "      <td>10000</td>\n",
       "      <td>9</td>\n",
       "    </tr>\n",
       "  </tbody>\n",
       "</table>\n",
       "</div>"
      ],
      "text/plain": [
       "   Bank client ID Bank Client Name  Net worth [$]  Years with bank\n",
       "0             111           Chanel           3500                3\n",
       "1             222            Steve          29000                4\n",
       "3             444             Ryan           2000                5\n",
       "2             333            Mitch          10000                9"
      ]
     },
     "execution_count": 76,
     "metadata": {},
     "output_type": "execute_result"
    }
   ],
   "source": [
    "# Note that nothing changed in memory! you have to make sure that inplace is set to True\n",
    "bank_client_df"
   ]
  },
  {
   "cell_type": "code",
   "execution_count": 77,
   "metadata": {},
   "outputs": [],
   "source": [
    "df1 = pd.DataFrame({'A': ['A0', 'A1', 'A2', 'A3'],\n",
    "                   'B': ['B0', 'B1', 'B2', 'B3'],\n",
    "                   'C': ['C0', 'C1', 'C2', 'C3'],\n",
    "                   'D': ['D0', 'D1', 'D2', 'D3']},index = [0,1,2,3])"
   ]
  },
  {
   "cell_type": "code",
   "execution_count": 78,
   "metadata": {},
   "outputs": [
    {
     "data": {
      "text/html": [
       "<div>\n",
       "<style scoped>\n",
       "    .dataframe tbody tr th:only-of-type {\n",
       "        vertical-align: middle;\n",
       "    }\n",
       "\n",
       "    .dataframe tbody tr th {\n",
       "        vertical-align: top;\n",
       "    }\n",
       "\n",
       "    .dataframe thead th {\n",
       "        text-align: right;\n",
       "    }\n",
       "</style>\n",
       "<table border=\"1\" class=\"dataframe\">\n",
       "  <thead>\n",
       "    <tr style=\"text-align: right;\">\n",
       "      <th></th>\n",
       "      <th>A</th>\n",
       "      <th>B</th>\n",
       "      <th>C</th>\n",
       "      <th>D</th>\n",
       "    </tr>\n",
       "  </thead>\n",
       "  <tbody>\n",
       "    <tr>\n",
       "      <th>0</th>\n",
       "      <td>A0</td>\n",
       "      <td>B0</td>\n",
       "      <td>C0</td>\n",
       "      <td>D0</td>\n",
       "    </tr>\n",
       "    <tr>\n",
       "      <th>1</th>\n",
       "      <td>A1</td>\n",
       "      <td>B1</td>\n",
       "      <td>C1</td>\n",
       "      <td>D1</td>\n",
       "    </tr>\n",
       "    <tr>\n",
       "      <th>2</th>\n",
       "      <td>A2</td>\n",
       "      <td>B2</td>\n",
       "      <td>C2</td>\n",
       "      <td>D2</td>\n",
       "    </tr>\n",
       "    <tr>\n",
       "      <th>3</th>\n",
       "      <td>A3</td>\n",
       "      <td>B3</td>\n",
       "      <td>C3</td>\n",
       "      <td>D3</td>\n",
       "    </tr>\n",
       "  </tbody>\n",
       "</table>\n",
       "</div>"
      ],
      "text/plain": [
       "    A   B   C   D\n",
       "0  A0  B0  C0  D0\n",
       "1  A1  B1  C1  D1\n",
       "2  A2  B2  C2  D2\n",
       "3  A3  B3  C3  D3"
      ]
     },
     "execution_count": 78,
     "metadata": {},
     "output_type": "execute_result"
    }
   ],
   "source": [
    "df1"
   ]
  },
  {
   "cell_type": "code",
   "execution_count": 79,
   "metadata": {},
   "outputs": [],
   "source": [
    "df2 = pd.DataFrame({'A': ['A4', 'A5', 'A6', 'A7'],\n",
    "                   'B': ['B4', 'B5', 'B6', 'B7'],\n",
    "                   'C': ['C4', 'C5', 'C6', 'C7'],\n",
    "                   'D': ['D4', 'D5', 'D6', 'D7']},index = [4,5,6,7])"
   ]
  },
  {
   "cell_type": "code",
   "execution_count": 80,
   "metadata": {},
   "outputs": [
    {
     "data": {
      "text/html": [
       "<div>\n",
       "<style scoped>\n",
       "    .dataframe tbody tr th:only-of-type {\n",
       "        vertical-align: middle;\n",
       "    }\n",
       "\n",
       "    .dataframe tbody tr th {\n",
       "        vertical-align: top;\n",
       "    }\n",
       "\n",
       "    .dataframe thead th {\n",
       "        text-align: right;\n",
       "    }\n",
       "</style>\n",
       "<table border=\"1\" class=\"dataframe\">\n",
       "  <thead>\n",
       "    <tr style=\"text-align: right;\">\n",
       "      <th></th>\n",
       "      <th>A</th>\n",
       "      <th>B</th>\n",
       "      <th>C</th>\n",
       "      <th>D</th>\n",
       "    </tr>\n",
       "  </thead>\n",
       "  <tbody>\n",
       "    <tr>\n",
       "      <th>4</th>\n",
       "      <td>A4</td>\n",
       "      <td>B4</td>\n",
       "      <td>C4</td>\n",
       "      <td>D4</td>\n",
       "    </tr>\n",
       "    <tr>\n",
       "      <th>5</th>\n",
       "      <td>A5</td>\n",
       "      <td>B5</td>\n",
       "      <td>C5</td>\n",
       "      <td>D5</td>\n",
       "    </tr>\n",
       "    <tr>\n",
       "      <th>6</th>\n",
       "      <td>A6</td>\n",
       "      <td>B6</td>\n",
       "      <td>C6</td>\n",
       "      <td>D6</td>\n",
       "    </tr>\n",
       "    <tr>\n",
       "      <th>7</th>\n",
       "      <td>A7</td>\n",
       "      <td>B7</td>\n",
       "      <td>C7</td>\n",
       "      <td>D7</td>\n",
       "    </tr>\n",
       "  </tbody>\n",
       "</table>\n",
       "</div>"
      ],
      "text/plain": [
       "    A   B   C   D\n",
       "4  A4  B4  C4  D4\n",
       "5  A5  B5  C5  D5\n",
       "6  A6  B6  C6  D6\n",
       "7  A7  B7  C7  D7"
      ]
     },
     "execution_count": 80,
     "metadata": {},
     "output_type": "execute_result"
    }
   ],
   "source": [
    "df2"
   ]
  },
  {
   "cell_type": "code",
   "execution_count": 81,
   "metadata": {},
   "outputs": [],
   "source": [
    "df3 = pd.DataFrame({'A': ['A8', 'A9', 'A10', 'A11'],\n",
    "                   'B': ['B8', 'B9', 'B10', 'B11'],\n",
    "                   'C': ['C8', 'C9', 'C10', 'C11'],\n",
    "                   'D': ['D8', 'D9', 'D10', 'D11']},index = [8,9,10,11])"
   ]
  },
  {
   "cell_type": "code",
   "execution_count": 82,
   "metadata": {},
   "outputs": [
    {
     "data": {
      "text/html": [
       "<div>\n",
       "<style scoped>\n",
       "    .dataframe tbody tr th:only-of-type {\n",
       "        vertical-align: middle;\n",
       "    }\n",
       "\n",
       "    .dataframe tbody tr th {\n",
       "        vertical-align: top;\n",
       "    }\n",
       "\n",
       "    .dataframe thead th {\n",
       "        text-align: right;\n",
       "    }\n",
       "</style>\n",
       "<table border=\"1\" class=\"dataframe\">\n",
       "  <thead>\n",
       "    <tr style=\"text-align: right;\">\n",
       "      <th></th>\n",
       "      <th>A</th>\n",
       "      <th>B</th>\n",
       "      <th>C</th>\n",
       "      <th>D</th>\n",
       "    </tr>\n",
       "  </thead>\n",
       "  <tbody>\n",
       "    <tr>\n",
       "      <th>8</th>\n",
       "      <td>A8</td>\n",
       "      <td>B8</td>\n",
       "      <td>C8</td>\n",
       "      <td>D8</td>\n",
       "    </tr>\n",
       "    <tr>\n",
       "      <th>9</th>\n",
       "      <td>A9</td>\n",
       "      <td>B9</td>\n",
       "      <td>C9</td>\n",
       "      <td>D9</td>\n",
       "    </tr>\n",
       "    <tr>\n",
       "      <th>10</th>\n",
       "      <td>A10</td>\n",
       "      <td>B10</td>\n",
       "      <td>C10</td>\n",
       "      <td>D10</td>\n",
       "    </tr>\n",
       "    <tr>\n",
       "      <th>11</th>\n",
       "      <td>A11</td>\n",
       "      <td>B11</td>\n",
       "      <td>C11</td>\n",
       "      <td>D11</td>\n",
       "    </tr>\n",
       "  </tbody>\n",
       "</table>\n",
       "</div>"
      ],
      "text/plain": [
       "      A    B    C    D\n",
       "8    A8   B8   C8   D8\n",
       "9    A9   B9   C9   D9\n",
       "10  A10  B10  C10  D10\n",
       "11  A11  B11  C11  D11"
      ]
     },
     "execution_count": 82,
     "metadata": {},
     "output_type": "execute_result"
    }
   ],
   "source": [
    "df3"
   ]
  },
  {
   "cell_type": "code",
   "execution_count": 83,
   "metadata": {},
   "outputs": [
    {
     "data": {
      "text/html": [
       "<div>\n",
       "<style scoped>\n",
       "    .dataframe tbody tr th:only-of-type {\n",
       "        vertical-align: middle;\n",
       "    }\n",
       "\n",
       "    .dataframe tbody tr th {\n",
       "        vertical-align: top;\n",
       "    }\n",
       "\n",
       "    .dataframe thead th {\n",
       "        text-align: right;\n",
       "    }\n",
       "</style>\n",
       "<table border=\"1\" class=\"dataframe\">\n",
       "  <thead>\n",
       "    <tr style=\"text-align: right;\">\n",
       "      <th></th>\n",
       "      <th>A</th>\n",
       "      <th>B</th>\n",
       "      <th>C</th>\n",
       "      <th>D</th>\n",
       "    </tr>\n",
       "  </thead>\n",
       "  <tbody>\n",
       "    <tr>\n",
       "      <th>0</th>\n",
       "      <td>A0</td>\n",
       "      <td>B0</td>\n",
       "      <td>C0</td>\n",
       "      <td>D0</td>\n",
       "    </tr>\n",
       "    <tr>\n",
       "      <th>1</th>\n",
       "      <td>A1</td>\n",
       "      <td>B1</td>\n",
       "      <td>C1</td>\n",
       "      <td>D1</td>\n",
       "    </tr>\n",
       "    <tr>\n",
       "      <th>2</th>\n",
       "      <td>A2</td>\n",
       "      <td>B2</td>\n",
       "      <td>C2</td>\n",
       "      <td>D2</td>\n",
       "    </tr>\n",
       "    <tr>\n",
       "      <th>3</th>\n",
       "      <td>A3</td>\n",
       "      <td>B3</td>\n",
       "      <td>C3</td>\n",
       "      <td>D3</td>\n",
       "    </tr>\n",
       "    <tr>\n",
       "      <th>4</th>\n",
       "      <td>A4</td>\n",
       "      <td>B4</td>\n",
       "      <td>C4</td>\n",
       "      <td>D4</td>\n",
       "    </tr>\n",
       "    <tr>\n",
       "      <th>5</th>\n",
       "      <td>A5</td>\n",
       "      <td>B5</td>\n",
       "      <td>C5</td>\n",
       "      <td>D5</td>\n",
       "    </tr>\n",
       "    <tr>\n",
       "      <th>6</th>\n",
       "      <td>A6</td>\n",
       "      <td>B6</td>\n",
       "      <td>C6</td>\n",
       "      <td>D6</td>\n",
       "    </tr>\n",
       "    <tr>\n",
       "      <th>7</th>\n",
       "      <td>A7</td>\n",
       "      <td>B7</td>\n",
       "      <td>C7</td>\n",
       "      <td>D7</td>\n",
       "    </tr>\n",
       "    <tr>\n",
       "      <th>8</th>\n",
       "      <td>A8</td>\n",
       "      <td>B8</td>\n",
       "      <td>C8</td>\n",
       "      <td>D8</td>\n",
       "    </tr>\n",
       "    <tr>\n",
       "      <th>9</th>\n",
       "      <td>A9</td>\n",
       "      <td>B9</td>\n",
       "      <td>C9</td>\n",
       "      <td>D9</td>\n",
       "    </tr>\n",
       "    <tr>\n",
       "      <th>10</th>\n",
       "      <td>A10</td>\n",
       "      <td>B10</td>\n",
       "      <td>C10</td>\n",
       "      <td>D10</td>\n",
       "    </tr>\n",
       "    <tr>\n",
       "      <th>11</th>\n",
       "      <td>A11</td>\n",
       "      <td>B11</td>\n",
       "      <td>C11</td>\n",
       "      <td>D11</td>\n",
       "    </tr>\n",
       "  </tbody>\n",
       "</table>\n",
       "</div>"
      ],
      "text/plain": [
       "      A    B    C    D\n",
       "0    A0   B0   C0   D0\n",
       "1    A1   B1   C1   D1\n",
       "2    A2   B2   C2   D2\n",
       "3    A3   B3   C3   D3\n",
       "4    A4   B4   C4   D4\n",
       "5    A5   B5   C5   D5\n",
       "6    A6   B6   C6   D6\n",
       "7    A7   B7   C7   D7\n",
       "8    A8   B8   C8   D8\n",
       "9    A9   B9   C9   D9\n",
       "10  A10  B10  C10  D10\n",
       "11  A11  B11  C11  D11"
      ]
     },
     "execution_count": 83,
     "metadata": {},
     "output_type": "execute_result"
    }
   ],
   "source": [
    "df4 = pd.concat([df1, df2, df3])\n",
    "df4"
   ]
  },
  {
   "cell_type": "code",
   "execution_count": 84,
   "metadata": {},
   "outputs": [
    {
     "data": {
      "text/html": [
       "<div>\n",
       "<style scoped>\n",
       "    .dataframe tbody tr th:only-of-type {\n",
       "        vertical-align: middle;\n",
       "    }\n",
       "\n",
       "    .dataframe tbody tr th {\n",
       "        vertical-align: top;\n",
       "    }\n",
       "\n",
       "    .dataframe thead th {\n",
       "        text-align: right;\n",
       "    }\n",
       "</style>\n",
       "<table border=\"1\" class=\"dataframe\">\n",
       "  <thead>\n",
       "    <tr style=\"text-align: right;\">\n",
       "      <th></th>\n",
       "      <th>Bank Client ID</th>\n",
       "      <th>First Name</th>\n",
       "      <th>Last Name</th>\n",
       "      <th>Annual Salary [$/year]</th>\n",
       "    </tr>\n",
       "  </thead>\n",
       "  <tbody>\n",
       "    <tr>\n",
       "      <th>0</th>\n",
       "      <td>1</td>\n",
       "      <td>Nancy</td>\n",
       "      <td>Rob</td>\n",
       "      <td>25000</td>\n",
       "    </tr>\n",
       "    <tr>\n",
       "      <th>1</th>\n",
       "      <td>2</td>\n",
       "      <td>Alex</td>\n",
       "      <td>Ali</td>\n",
       "      <td>35000</td>\n",
       "    </tr>\n",
       "    <tr>\n",
       "      <th>2</th>\n",
       "      <td>3</td>\n",
       "      <td>Shep</td>\n",
       "      <td>George</td>\n",
       "      <td>45000</td>\n",
       "    </tr>\n",
       "    <tr>\n",
       "      <th>3</th>\n",
       "      <td>4</td>\n",
       "      <td>Max</td>\n",
       "      <td>Mitch</td>\n",
       "      <td>48000</td>\n",
       "    </tr>\n",
       "    <tr>\n",
       "      <th>4</th>\n",
       "      <td>5</td>\n",
       "      <td>Allen</td>\n",
       "      <td>Steve</td>\n",
       "      <td>49000</td>\n",
       "    </tr>\n",
       "    <tr>\n",
       "      <th>5</th>\n",
       "      <td>6</td>\n",
       "      <td>Bill</td>\n",
       "      <td>Christian</td>\n",
       "      <td>32000</td>\n",
       "    </tr>\n",
       "    <tr>\n",
       "      <th>6</th>\n",
       "      <td>7</td>\n",
       "      <td>Dina</td>\n",
       "      <td>Mo</td>\n",
       "      <td>33000</td>\n",
       "    </tr>\n",
       "    <tr>\n",
       "      <th>7</th>\n",
       "      <td>8</td>\n",
       "      <td>Sarah</td>\n",
       "      <td>Steve</td>\n",
       "      <td>34000</td>\n",
       "    </tr>\n",
       "    <tr>\n",
       "      <th>8</th>\n",
       "      <td>9</td>\n",
       "      <td>Heather</td>\n",
       "      <td>Bob</td>\n",
       "      <td>23000</td>\n",
       "    </tr>\n",
       "    <tr>\n",
       "      <th>9</th>\n",
       "      <td>10</td>\n",
       "      <td>Holly</td>\n",
       "      <td>Michelle</td>\n",
       "      <td>22000</td>\n",
       "    </tr>\n",
       "  </tbody>\n",
       "</table>\n",
       "</div>"
      ],
      "text/plain": [
       "  Bank Client ID First Name  Last Name  Annual Salary [$/year]\n",
       "0              1      Nancy        Rob                   25000\n",
       "1              2       Alex        Ali                   35000\n",
       "2              3       Shep     George                   45000\n",
       "3              4        Max      Mitch                   48000\n",
       "4              5      Allen      Steve                   49000\n",
       "5              6       Bill  Christian                   32000\n",
       "6              7       Dina         Mo                   33000\n",
       "7              8      Sarah      Steve                   34000\n",
       "8              9    Heather        Bob                   23000\n",
       "9             10      Holly   Michelle                   22000"
      ]
     },
     "execution_count": 84,
     "metadata": {},
     "output_type": "execute_result"
    }
   ],
   "source": [
    "# Creating a dataframe from a dictionary\n",
    "# Let's define a dataframe with a list of bank clients with IDs = 1, 2, 3, 4, 5 \n",
    "\n",
    "raw_data = {'Bank Client ID': ['1', '2', '3', '4', '5'],\n",
    "            'First Name': ['Nancy', 'Alex', 'Shep', 'Max', 'Allen'], \n",
    "            'Last Name': ['Rob', 'Ali', 'George', 'Mitch', 'Steve']}\n",
    "\n",
    "Bank_df_1 = pd.DataFrame(raw_data, columns = ['Bank Client ID', 'First Name', 'Last Name'])\n",
    "Bank_df_1\n",
    "\n",
    "\n",
    "# Let's define another dataframe for a separate list of clients (IDs = 6, 7, 8, 9, 10)\n",
    "raw_data = {\n",
    "        'Bank Client ID': ['6', '7', '8', '9', '10'],\n",
    "        'First Name': ['Bill', 'Dina', 'Sarah', 'Heather', 'Holly'], \n",
    "        'Last Name': ['Christian', 'Mo', 'Steve', 'Bob', 'Michelle']}\n",
    "Bank_df_2 = pd.DataFrame(raw_data, columns = ['Bank Client ID', 'First Name', 'Last Name'])\n",
    "Bank_df_2\n",
    "\n",
    "\n",
    "# Let's assume we obtained additional information (Annual Salary) about our bank customers \n",
    "# Note that data obtained is for all clients with IDs 1 to 10 \n",
    "raw_data = {\n",
    "        'Bank Client ID': ['1', '2', '3', '4', '5', '6', '7', '8', '9', '10'],\n",
    "        'Annual Salary [$/year]': [25000, 35000, 45000, 48000, 49000, 32000, 33000, 34000, 23000, 22000]}\n",
    "bank_df_salary = pd.DataFrame(raw_data, columns = ['Bank Client ID','Annual Salary [$/year]'])\n",
    "bank_df_salary\n",
    "\n",
    "\n",
    "# Let's concatenate both dataframes #1 and #2\n",
    "# Note that we now have client IDs from 1 to 10\n",
    "bank_df_all = pd.concat([Bank_df_1, Bank_df_2])\n",
    "bank_df_all\n",
    "\n",
    "\n",
    "# Let's merge all data on 'Bank Client ID'\n",
    "bank_df_all = pd.merge(bank_df_all, bank_df_salary, on = 'Bank Client ID')\n",
    "bank_df_all\n"
   ]
  },
  {
   "cell_type": "code",
   "execution_count": 85,
   "metadata": {},
   "outputs": [
    {
     "data": {
      "text/html": [
       "<div>\n",
       "<style scoped>\n",
       "    .dataframe tbody tr th:only-of-type {\n",
       "        vertical-align: middle;\n",
       "    }\n",
       "\n",
       "    .dataframe tbody tr th {\n",
       "        vertical-align: top;\n",
       "    }\n",
       "\n",
       "    .dataframe thead th {\n",
       "        text-align: right;\n",
       "    }\n",
       "</style>\n",
       "<table border=\"1\" class=\"dataframe\">\n",
       "  <thead>\n",
       "    <tr style=\"text-align: right;\">\n",
       "      <th></th>\n",
       "      <th>Bank Client ID</th>\n",
       "      <th>First Name</th>\n",
       "      <th>Last Name</th>\n",
       "      <th>Annual Salary [$/year]</th>\n",
       "    </tr>\n",
       "  </thead>\n",
       "  <tbody>\n",
       "    <tr>\n",
       "      <th>0</th>\n",
       "      <td>11</td>\n",
       "      <td>Ry</td>\n",
       "      <td>Aly</td>\n",
       "      <td>1000</td>\n",
       "    </tr>\n",
       "  </tbody>\n",
       "</table>\n",
       "</div>"
      ],
      "text/plain": [
       "  Bank Client ID First Name Last Name  Annual Salary [$/year]\n",
       "0             11         Ry       Aly                    1000"
      ]
     },
     "execution_count": 85,
     "metadata": {},
     "output_type": "execute_result"
    }
   ],
   "source": [
    "new_client = {\n",
    "        'Bank Client ID': ['11'],\n",
    "        'First Name': ['Ry'], \n",
    "        'Last Name': ['Aly'],\n",
    "        'Annual Salary [$/year]' : [1000]}\n",
    "new_client_df = pd.DataFrame(new_client, columns = ['Bank Client ID', 'First Name', 'Last Name', 'Annual Salary [$/year]'])\n",
    "new_client_df"
   ]
  },
  {
   "cell_type": "code",
   "execution_count": 86,
   "metadata": {},
   "outputs": [
    {
     "data": {
      "text/html": [
       "<div>\n",
       "<style scoped>\n",
       "    .dataframe tbody tr th:only-of-type {\n",
       "        vertical-align: middle;\n",
       "    }\n",
       "\n",
       "    .dataframe tbody tr th {\n",
       "        vertical-align: top;\n",
       "    }\n",
       "\n",
       "    .dataframe thead th {\n",
       "        text-align: right;\n",
       "    }\n",
       "</style>\n",
       "<table border=\"1\" class=\"dataframe\">\n",
       "  <thead>\n",
       "    <tr style=\"text-align: right;\">\n",
       "      <th></th>\n",
       "      <th>Bank Client ID</th>\n",
       "      <th>First Name</th>\n",
       "      <th>Last Name</th>\n",
       "      <th>Annual Salary [$/year]</th>\n",
       "    </tr>\n",
       "  </thead>\n",
       "  <tbody>\n",
       "    <tr>\n",
       "      <th>0</th>\n",
       "      <td>1</td>\n",
       "      <td>Nancy</td>\n",
       "      <td>Rob</td>\n",
       "      <td>25000</td>\n",
       "    </tr>\n",
       "    <tr>\n",
       "      <th>1</th>\n",
       "      <td>2</td>\n",
       "      <td>Alex</td>\n",
       "      <td>Ali</td>\n",
       "      <td>35000</td>\n",
       "    </tr>\n",
       "    <tr>\n",
       "      <th>2</th>\n",
       "      <td>3</td>\n",
       "      <td>Shep</td>\n",
       "      <td>George</td>\n",
       "      <td>45000</td>\n",
       "    </tr>\n",
       "    <tr>\n",
       "      <th>3</th>\n",
       "      <td>4</td>\n",
       "      <td>Max</td>\n",
       "      <td>Mitch</td>\n",
       "      <td>48000</td>\n",
       "    </tr>\n",
       "    <tr>\n",
       "      <th>4</th>\n",
       "      <td>5</td>\n",
       "      <td>Allen</td>\n",
       "      <td>Steve</td>\n",
       "      <td>49000</td>\n",
       "    </tr>\n",
       "    <tr>\n",
       "      <th>5</th>\n",
       "      <td>6</td>\n",
       "      <td>Bill</td>\n",
       "      <td>Christian</td>\n",
       "      <td>32000</td>\n",
       "    </tr>\n",
       "    <tr>\n",
       "      <th>6</th>\n",
       "      <td>7</td>\n",
       "      <td>Dina</td>\n",
       "      <td>Mo</td>\n",
       "      <td>33000</td>\n",
       "    </tr>\n",
       "    <tr>\n",
       "      <th>7</th>\n",
       "      <td>8</td>\n",
       "      <td>Sarah</td>\n",
       "      <td>Steve</td>\n",
       "      <td>34000</td>\n",
       "    </tr>\n",
       "    <tr>\n",
       "      <th>8</th>\n",
       "      <td>9</td>\n",
       "      <td>Heather</td>\n",
       "      <td>Bob</td>\n",
       "      <td>23000</td>\n",
       "    </tr>\n",
       "    <tr>\n",
       "      <th>9</th>\n",
       "      <td>10</td>\n",
       "      <td>Holly</td>\n",
       "      <td>Michelle</td>\n",
       "      <td>22000</td>\n",
       "    </tr>\n",
       "    <tr>\n",
       "      <th>0</th>\n",
       "      <td>11</td>\n",
       "      <td>Ry</td>\n",
       "      <td>Aly</td>\n",
       "      <td>1000</td>\n",
       "    </tr>\n",
       "  </tbody>\n",
       "</table>\n",
       "</div>"
      ],
      "text/plain": [
       "  Bank Client ID First Name  Last Name  Annual Salary [$/year]\n",
       "0              1      Nancy        Rob                   25000\n",
       "1              2       Alex        Ali                   35000\n",
       "2              3       Shep     George                   45000\n",
       "3              4        Max      Mitch                   48000\n",
       "4              5      Allen      Steve                   49000\n",
       "5              6       Bill  Christian                   32000\n",
       "6              7       Dina         Mo                   33000\n",
       "7              8      Sarah      Steve                   34000\n",
       "8              9    Heather        Bob                   23000\n",
       "9             10      Holly   Michelle                   22000\n",
       "0             11         Ry        Aly                    1000"
      ]
     },
     "execution_count": 86,
     "metadata": {},
     "output_type": "execute_result"
    }
   ],
   "source": [
    "new_df = pd.concat([bank_df_all, new_client_df], axis = 0)\n",
    "new_df"
   ]
  },
  {
   "cell_type": "code",
   "execution_count": null,
   "metadata": {},
   "outputs": [],
   "source": []
  }
 ],
 "metadata": {
  "kernelspec": {
   "display_name": "Python 3",
   "language": "python",
   "name": "python3"
  },
  "language_info": {
   "codemirror_mode": {
    "name": "ipython",
    "version": 3
   },
   "file_extension": ".py",
   "mimetype": "text/x-python",
   "name": "python",
   "nbconvert_exporter": "python",
   "pygments_lexer": "ipython3",
   "version": "3.8.3"
  }
 },
 "nbformat": 4,
 "nbformat_minor": 4
}
