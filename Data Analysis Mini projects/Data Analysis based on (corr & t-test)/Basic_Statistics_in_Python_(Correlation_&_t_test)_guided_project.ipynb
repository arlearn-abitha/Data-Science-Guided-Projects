{
 "cells": [
  {
   "cell_type": "markdown",
   "metadata": {
    "id": "OGqjrm015Ase"
   },
   "source": [
    "\n",
    "# World Bank Science and Technology Data Analysis\n",
    "\n",
    "## Importing the Data"
   ]
  },
  {
   "cell_type": "code",
   "execution_count": 1,
   "metadata": {
    "id": "QV8ovrrn36hi"
   },
   "outputs": [],
   "source": [
    "import pandas as pd"
   ]
  },
  {
   "cell_type": "code",
   "execution_count": 2,
   "metadata": {
    "id": "JUMbVZBf7DYU"
   },
   "outputs": [],
   "source": [
    "st_data_2018 = pd.read_csv('/content/drive/MyDrive/Coursera/science_tech_2018.csv')"
   ]
  },
  {
   "cell_type": "code",
   "execution_count": 3,
   "metadata": {
    "colab": {
     "base_uri": "https://localhost:8080/",
     "height": 326
    },
    "id": "uFKNTIyY7PO-",
    "outputId": "e1462535-9484-48cb-db51-4336b9ec554a"
   },
   "outputs": [
    {
     "data": {
      "text/html": [
       "<div>\n",
       "<style scoped>\n",
       "    .dataframe tbody tr th:only-of-type {\n",
       "        vertical-align: middle;\n",
       "    }\n",
       "\n",
       "    .dataframe tbody tr th {\n",
       "        vertical-align: top;\n",
       "    }\n",
       "\n",
       "    .dataframe thead th {\n",
       "        text-align: right;\n",
       "    }\n",
       "</style>\n",
       "<table border=\"1\" class=\"dataframe\">\n",
       "  <thead>\n",
       "    <tr style=\"text-align: right;\">\n",
       "      <th></th>\n",
       "      <th>Country Name</th>\n",
       "      <th>High-technology exports (% of manufactured exports)</th>\n",
       "      <th>High-technology exports (current US$)</th>\n",
       "      <th>Trademark applications, total</th>\n",
       "      <th>Trademark applications, direct resident</th>\n",
       "      <th>Trademark applications, direct nonresident</th>\n",
       "      <th>Patent applications, residents</th>\n",
       "      <th>Patent applications, nonresidents</th>\n",
       "      <th>Scientific and technical journal articles</th>\n",
       "      <th>Research and development expenditure (% of GDP)</th>\n",
       "    </tr>\n",
       "  </thead>\n",
       "  <tbody>\n",
       "    <tr>\n",
       "      <th>0</th>\n",
       "      <td>Afghanistan</td>\n",
       "      <td>NaN</td>\n",
       "      <td>NaN</td>\n",
       "      <td>NaN</td>\n",
       "      <td>NaN</td>\n",
       "      <td>NaN</td>\n",
       "      <td>NaN</td>\n",
       "      <td>NaN</td>\n",
       "      <td>111.72</td>\n",
       "      <td>NaN</td>\n",
       "    </tr>\n",
       "    <tr>\n",
       "      <th>1</th>\n",
       "      <td>Albania</td>\n",
       "      <td>0.049514</td>\n",
       "      <td>591717.0</td>\n",
       "      <td>3713.0</td>\n",
       "      <td>917.0</td>\n",
       "      <td>2796.0</td>\n",
       "      <td>15.0</td>\n",
       "      <td>3.0</td>\n",
       "      <td>180.36</td>\n",
       "      <td>NaN</td>\n",
       "    </tr>\n",
       "    <tr>\n",
       "      <th>2</th>\n",
       "      <td>Algeria</td>\n",
       "      <td>NaN</td>\n",
       "      <td>NaN</td>\n",
       "      <td>9490.0</td>\n",
       "      <td>5469.0</td>\n",
       "      <td>4021.0</td>\n",
       "      <td>152.0</td>\n",
       "      <td>521.0</td>\n",
       "      <td>5231.44</td>\n",
       "      <td>NaN</td>\n",
       "    </tr>\n",
       "    <tr>\n",
       "      <th>3</th>\n",
       "      <td>American Samoa</td>\n",
       "      <td>NaN</td>\n",
       "      <td>NaN</td>\n",
       "      <td>NaN</td>\n",
       "      <td>NaN</td>\n",
       "      <td>NaN</td>\n",
       "      <td>NaN</td>\n",
       "      <td>NaN</td>\n",
       "      <td>NaN</td>\n",
       "      <td>NaN</td>\n",
       "    </tr>\n",
       "    <tr>\n",
       "      <th>4</th>\n",
       "      <td>Andorra</td>\n",
       "      <td>28.460560</td>\n",
       "      <td>33913480.0</td>\n",
       "      <td>1180.0</td>\n",
       "      <td>256.0</td>\n",
       "      <td>924.0</td>\n",
       "      <td>1.0</td>\n",
       "      <td>10.0</td>\n",
       "      <td>3.60</td>\n",
       "      <td>NaN</td>\n",
       "    </tr>\n",
       "  </tbody>\n",
       "</table>\n",
       "</div>"
      ],
      "text/plain": [
       "     Country Name  ...  Research and development expenditure (% of GDP)\n",
       "0     Afghanistan  ...                                              NaN\n",
       "1         Albania  ...                                              NaN\n",
       "2         Algeria  ...                                              NaN\n",
       "3  American Samoa  ...                                              NaN\n",
       "4         Andorra  ...                                              NaN\n",
       "\n",
       "[5 rows x 10 columns]"
      ]
     },
     "execution_count": 3,
     "metadata": {
      "tags": []
     },
     "output_type": "execute_result"
    }
   ],
   "source": [
    "st_data_2018.head()"
   ]
  },
  {
   "cell_type": "markdown",
   "metadata": {
    "id": "HRN6g5pQ43YM"
   },
   "source": []
  },
  {
   "cell_type": "code",
   "execution_count": 4,
   "metadata": {
    "colab": {
     "base_uri": "https://localhost:8080/"
    },
    "id": "OwtGsEZo7gIY",
    "outputId": "915255e4-3476-4f3f-b6bb-8086a74bb923"
   },
   "outputs": [
    {
     "data": {
      "text/plain": [
       "(219, 10)"
      ]
     },
     "execution_count": 4,
     "metadata": {
      "tags": []
     },
     "output_type": "execute_result"
    }
   ],
   "source": [
    "st_data_2018.shape"
   ]
  },
  {
   "cell_type": "code",
   "execution_count": 5,
   "metadata": {
    "colab": {
     "base_uri": "https://localhost:8080/"
    },
    "id": "W1Z2LFtv7ijr",
    "outputId": "99d17dd6-d6c2-4ebd-b91d-5b2e9b82fd9c"
   },
   "outputs": [
    {
     "data": {
      "text/plain": [
       "2190"
      ]
     },
     "execution_count": 5,
     "metadata": {
      "tags": []
     },
     "output_type": "execute_result"
    }
   ],
   "source": [
    "st_data_2018.size"
   ]
  },
  {
   "cell_type": "code",
   "execution_count": 6,
   "metadata": {
    "colab": {
     "base_uri": "https://localhost:8080/"
    },
    "id": "CW_Jqp5H71kT",
    "outputId": "85dfd16c-83ba-4e91-adf2-ec0b9c8f130c"
   },
   "outputs": [
    {
     "data": {
      "text/plain": [
       "Index(['Country Name', 'High-technology exports (% of manufactured exports)',\n",
       "       'High-technology exports (current US$)',\n",
       "       'Trademark applications, total',\n",
       "       'Trademark applications, direct resident',\n",
       "       'Trademark applications, direct nonresident',\n",
       "       'Patent applications, residents', 'Patent applications, nonresidents',\n",
       "       'Scientific and technical journal articles',\n",
       "       'Research and development expenditure (% of GDP)'],\n",
       "      dtype='object')"
      ]
     },
     "execution_count": 6,
     "metadata": {
      "tags": []
     },
     "output_type": "execute_result"
    }
   ],
   "source": [
    "st_data_2018.columns"
   ]
  },
  {
   "cell_type": "code",
   "execution_count": 7,
   "metadata": {
    "id": "6RAIQmar75tT"
   },
   "outputs": [],
   "source": [
    "st_data_2009 = pd.read_csv('/content/drive/MyDrive/Coursera/science_tech_2009.csv')"
   ]
  },
  {
   "cell_type": "code",
   "execution_count": 8,
   "metadata": {
    "colab": {
     "base_uri": "https://localhost:8080/",
     "height": 326
    },
    "id": "FVA-SalC8Mb3",
    "outputId": "63ce31f7-58c1-43a2-d90a-d6732aa2b708"
   },
   "outputs": [
    {
     "data": {
      "text/html": [
       "<div>\n",
       "<style scoped>\n",
       "    .dataframe tbody tr th:only-of-type {\n",
       "        vertical-align: middle;\n",
       "    }\n",
       "\n",
       "    .dataframe tbody tr th {\n",
       "        vertical-align: top;\n",
       "    }\n",
       "\n",
       "    .dataframe thead th {\n",
       "        text-align: right;\n",
       "    }\n",
       "</style>\n",
       "<table border=\"1\" class=\"dataframe\">\n",
       "  <thead>\n",
       "    <tr style=\"text-align: right;\">\n",
       "      <th></th>\n",
       "      <th>Country Name</th>\n",
       "      <th>High-technology exports (% of manufactured exports)</th>\n",
       "      <th>High-technology exports (current US$)</th>\n",
       "      <th>Trademark applications, total</th>\n",
       "      <th>Trademark applications, direct resident</th>\n",
       "      <th>Trademark applications, direct nonresident</th>\n",
       "      <th>Patent applications, residents</th>\n",
       "      <th>Patent applications, nonresidents</th>\n",
       "      <th>Scientific and technical journal articles</th>\n",
       "      <th>Research and development expenditure (% of GDP)</th>\n",
       "    </tr>\n",
       "  </thead>\n",
       "  <tbody>\n",
       "    <tr>\n",
       "      <th>0</th>\n",
       "      <td>Afghanistan</td>\n",
       "      <td>NaN</td>\n",
       "      <td>NaN</td>\n",
       "      <td>NaN</td>\n",
       "      <td>NaN</td>\n",
       "      <td>NaN</td>\n",
       "      <td>NaN</td>\n",
       "      <td>NaN</td>\n",
       "      <td>26.30</td>\n",
       "      <td>NaN</td>\n",
       "    </tr>\n",
       "    <tr>\n",
       "      <th>1</th>\n",
       "      <td>Albania</td>\n",
       "      <td>1.328024</td>\n",
       "      <td>10128935.0</td>\n",
       "      <td>3456.0</td>\n",
       "      <td>213.0</td>\n",
       "      <td>3243.0</td>\n",
       "      <td>NaN</td>\n",
       "      <td>361.0</td>\n",
       "      <td>70.35</td>\n",
       "      <td>NaN</td>\n",
       "    </tr>\n",
       "    <tr>\n",
       "      <th>2</th>\n",
       "      <td>Algeria</td>\n",
       "      <td>0.653887</td>\n",
       "      <td>4616076.0</td>\n",
       "      <td>5345.0</td>\n",
       "      <td>NaN</td>\n",
       "      <td>NaN</td>\n",
       "      <td>NaN</td>\n",
       "      <td>NaN</td>\n",
       "      <td>2135.32</td>\n",
       "      <td>NaN</td>\n",
       "    </tr>\n",
       "    <tr>\n",
       "      <th>3</th>\n",
       "      <td>American Samoa</td>\n",
       "      <td>NaN</td>\n",
       "      <td>NaN</td>\n",
       "      <td>NaN</td>\n",
       "      <td>NaN</td>\n",
       "      <td>NaN</td>\n",
       "      <td>NaN</td>\n",
       "      <td>NaN</td>\n",
       "      <td>NaN</td>\n",
       "      <td>NaN</td>\n",
       "    </tr>\n",
       "    <tr>\n",
       "      <th>4</th>\n",
       "      <td>Andorra</td>\n",
       "      <td>12.192161</td>\n",
       "      <td>10402350.0</td>\n",
       "      <td>785.0</td>\n",
       "      <td>243.0</td>\n",
       "      <td>542.0</td>\n",
       "      <td>NaN</td>\n",
       "      <td>NaN</td>\n",
       "      <td>2.55</td>\n",
       "      <td>NaN</td>\n",
       "    </tr>\n",
       "  </tbody>\n",
       "</table>\n",
       "</div>"
      ],
      "text/plain": [
       "     Country Name  ...  Research and development expenditure (% of GDP)\n",
       "0     Afghanistan  ...                                              NaN\n",
       "1         Albania  ...                                              NaN\n",
       "2         Algeria  ...                                              NaN\n",
       "3  American Samoa  ...                                              NaN\n",
       "4         Andorra  ...                                              NaN\n",
       "\n",
       "[5 rows x 10 columns]"
      ]
     },
     "execution_count": 8,
     "metadata": {
      "tags": []
     },
     "output_type": "execute_result"
    }
   ],
   "source": [
    "st_data_2009.head()"
   ]
  },
  {
   "cell_type": "code",
   "execution_count": 9,
   "metadata": {
    "colab": {
     "base_uri": "https://localhost:8080/"
    },
    "id": "jHPet1Vq8Q2u",
    "outputId": "36dccfb4-3b8b-4dd5-eaa9-e876b0b07052"
   },
   "outputs": [
    {
     "data": {
      "text/plain": [
       "(219, 10)"
      ]
     },
     "execution_count": 9,
     "metadata": {
      "tags": []
     },
     "output_type": "execute_result"
    }
   ],
   "source": [
    "st_data_2009.shape"
   ]
  },
  {
   "cell_type": "code",
   "execution_count": 10,
   "metadata": {
    "colab": {
     "base_uri": "https://localhost:8080/"
    },
    "id": "1zlAS1a18Vpx",
    "outputId": "b158185d-1004-4de6-ec85-e2e6b079180e"
   },
   "outputs": [
    {
     "data": {
      "text/plain": [
       "2190"
      ]
     },
     "execution_count": 10,
     "metadata": {
      "tags": []
     },
     "output_type": "execute_result"
    }
   ],
   "source": [
    "st_data_2009.size"
   ]
  },
  {
   "cell_type": "code",
   "execution_count": 11,
   "metadata": {
    "colab": {
     "base_uri": "https://localhost:8080/"
    },
    "id": "O6NTRlVb8ZpO",
    "outputId": "f9e27fa8-9e4a-45c8-a2e3-42cebce7b575"
   },
   "outputs": [
    {
     "data": {
      "text/plain": [
       "Index(['Country Name', 'High-technology exports (% of manufactured exports)',\n",
       "       'High-technology exports (current US$)',\n",
       "       'Trademark applications, total',\n",
       "       'Trademark applications, direct resident',\n",
       "       'Trademark applications, direct nonresident',\n",
       "       'Patent applications, residents', 'Patent applications, nonresidents',\n",
       "       'Scientific and technical journal articles',\n",
       "       'Research and development expenditure (% of GDP)'],\n",
       "      dtype='object')"
      ]
     },
     "execution_count": 11,
     "metadata": {
      "tags": []
     },
     "output_type": "execute_result"
    }
   ],
   "source": [
    "st_data_2009.columns"
   ]
  },
  {
   "cell_type": "markdown",
   "metadata": {
    "id": "ZjXwAhs99SK4"
   },
   "source": [
    "## Cleaning the Data\n",
    "\n",
    "### Missing Data"
   ]
  },
  {
   "cell_type": "code",
   "execution_count": 12,
   "metadata": {
    "colab": {
     "base_uri": "https://localhost:8080/",
     "height": 522
    },
    "id": "cPTpzV-Z8e3h",
    "outputId": "b417c784-84a6-4cbd-9151-b9d7cd24c88a"
   },
   "outputs": [
    {
     "data": {
      "text/html": [
       "<div>\n",
       "<style scoped>\n",
       "    .dataframe tbody tr th:only-of-type {\n",
       "        vertical-align: middle;\n",
       "    }\n",
       "\n",
       "    .dataframe tbody tr th {\n",
       "        vertical-align: top;\n",
       "    }\n",
       "\n",
       "    .dataframe thead th {\n",
       "        text-align: right;\n",
       "    }\n",
       "</style>\n",
       "<table border=\"1\" class=\"dataframe\">\n",
       "  <thead>\n",
       "    <tr style=\"text-align: right;\">\n",
       "      <th></th>\n",
       "      <th>Country Name</th>\n",
       "      <th>High-technology exports (% of manufactured exports)</th>\n",
       "      <th>High-technology exports (current US$)</th>\n",
       "      <th>Trademark applications, total</th>\n",
       "      <th>Trademark applications, direct resident</th>\n",
       "      <th>Trademark applications, direct nonresident</th>\n",
       "      <th>Patent applications, residents</th>\n",
       "      <th>Patent applications, nonresidents</th>\n",
       "      <th>Scientific and technical journal articles</th>\n",
       "      <th>Research and development expenditure (% of GDP)</th>\n",
       "    </tr>\n",
       "  </thead>\n",
       "  <tbody>\n",
       "    <tr>\n",
       "      <th>0</th>\n",
       "      <td>False</td>\n",
       "      <td>True</td>\n",
       "      <td>True</td>\n",
       "      <td>True</td>\n",
       "      <td>True</td>\n",
       "      <td>True</td>\n",
       "      <td>True</td>\n",
       "      <td>True</td>\n",
       "      <td>False</td>\n",
       "      <td>True</td>\n",
       "    </tr>\n",
       "    <tr>\n",
       "      <th>1</th>\n",
       "      <td>False</td>\n",
       "      <td>False</td>\n",
       "      <td>False</td>\n",
       "      <td>False</td>\n",
       "      <td>False</td>\n",
       "      <td>False</td>\n",
       "      <td>False</td>\n",
       "      <td>False</td>\n",
       "      <td>False</td>\n",
       "      <td>True</td>\n",
       "    </tr>\n",
       "    <tr>\n",
       "      <th>2</th>\n",
       "      <td>False</td>\n",
       "      <td>True</td>\n",
       "      <td>True</td>\n",
       "      <td>False</td>\n",
       "      <td>False</td>\n",
       "      <td>False</td>\n",
       "      <td>False</td>\n",
       "      <td>False</td>\n",
       "      <td>False</td>\n",
       "      <td>True</td>\n",
       "    </tr>\n",
       "    <tr>\n",
       "      <th>3</th>\n",
       "      <td>False</td>\n",
       "      <td>True</td>\n",
       "      <td>True</td>\n",
       "      <td>True</td>\n",
       "      <td>True</td>\n",
       "      <td>True</td>\n",
       "      <td>True</td>\n",
       "      <td>True</td>\n",
       "      <td>True</td>\n",
       "      <td>True</td>\n",
       "    </tr>\n",
       "    <tr>\n",
       "      <th>4</th>\n",
       "      <td>False</td>\n",
       "      <td>False</td>\n",
       "      <td>False</td>\n",
       "      <td>False</td>\n",
       "      <td>False</td>\n",
       "      <td>False</td>\n",
       "      <td>False</td>\n",
       "      <td>False</td>\n",
       "      <td>False</td>\n",
       "      <td>True</td>\n",
       "    </tr>\n",
       "    <tr>\n",
       "      <th>...</th>\n",
       "      <td>...</td>\n",
       "      <td>...</td>\n",
       "      <td>...</td>\n",
       "      <td>...</td>\n",
       "      <td>...</td>\n",
       "      <td>...</td>\n",
       "      <td>...</td>\n",
       "      <td>...</td>\n",
       "      <td>...</td>\n",
       "      <td>...</td>\n",
       "    </tr>\n",
       "    <tr>\n",
       "      <th>214</th>\n",
       "      <td>False</td>\n",
       "      <td>False</td>\n",
       "      <td>False</td>\n",
       "      <td>True</td>\n",
       "      <td>True</td>\n",
       "      <td>True</td>\n",
       "      <td>True</td>\n",
       "      <td>True</td>\n",
       "      <td>False</td>\n",
       "      <td>True</td>\n",
       "    </tr>\n",
       "    <tr>\n",
       "      <th>215</th>\n",
       "      <td>False</td>\n",
       "      <td>False</td>\n",
       "      <td>True</td>\n",
       "      <td>False</td>\n",
       "      <td>False</td>\n",
       "      <td>False</td>\n",
       "      <td>False</td>\n",
       "      <td>False</td>\n",
       "      <td>False</td>\n",
       "      <td>False</td>\n",
       "    </tr>\n",
       "    <tr>\n",
       "      <th>216</th>\n",
       "      <td>False</td>\n",
       "      <td>True</td>\n",
       "      <td>True</td>\n",
       "      <td>False</td>\n",
       "      <td>False</td>\n",
       "      <td>False</td>\n",
       "      <td>True</td>\n",
       "      <td>True</td>\n",
       "      <td>False</td>\n",
       "      <td>True</td>\n",
       "    </tr>\n",
       "    <tr>\n",
       "      <th>217</th>\n",
       "      <td>False</td>\n",
       "      <td>False</td>\n",
       "      <td>False</td>\n",
       "      <td>True</td>\n",
       "      <td>True</td>\n",
       "      <td>True</td>\n",
       "      <td>True</td>\n",
       "      <td>True</td>\n",
       "      <td>False</td>\n",
       "      <td>True</td>\n",
       "    </tr>\n",
       "    <tr>\n",
       "      <th>218</th>\n",
       "      <td>False</td>\n",
       "      <td>False</td>\n",
       "      <td>False</td>\n",
       "      <td>True</td>\n",
       "      <td>True</td>\n",
       "      <td>True</td>\n",
       "      <td>True</td>\n",
       "      <td>True</td>\n",
       "      <td>False</td>\n",
       "      <td>True</td>\n",
       "    </tr>\n",
       "  </tbody>\n",
       "</table>\n",
       "<p>219 rows × 10 columns</p>\n",
       "</div>"
      ],
      "text/plain": [
       "     Country Name  ...  Research and development expenditure (% of GDP)\n",
       "0           False  ...                                             True\n",
       "1           False  ...                                             True\n",
       "2           False  ...                                             True\n",
       "3           False  ...                                             True\n",
       "4           False  ...                                             True\n",
       "..            ...  ...                                              ...\n",
       "214         False  ...                                             True\n",
       "215         False  ...                                            False\n",
       "216         False  ...                                             True\n",
       "217         False  ...                                             True\n",
       "218         False  ...                                             True\n",
       "\n",
       "[219 rows x 10 columns]"
      ]
     },
     "execution_count": 12,
     "metadata": {
      "tags": []
     },
     "output_type": "execute_result"
    }
   ],
   "source": [
    "st_data_2018.isna()"
   ]
  },
  {
   "cell_type": "code",
   "execution_count": 13,
   "metadata": {
    "colab": {
     "base_uri": "https://localhost:8080/"
    },
    "id": "1VKczqa69ksp",
    "outputId": "8f04b097-40bd-4a41-c15f-0045de6c8bcc"
   },
   "outputs": [
    {
     "data": {
      "text/plain": [
       "Country Name                                             0\n",
       "High-technology exports (% of manufactured exports)     87\n",
       "High-technology exports (current US$)                   88\n",
       "Trademark applications, total                           86\n",
       "Trademark applications, direct resident                 91\n",
       "Trademark applications, direct nonresident              90\n",
       "Patent applications, residents                         101\n",
       "Patent applications, nonresidents                      100\n",
       "Scientific and technical journal articles               20\n",
       "Research and development expenditure (% of GDP)        146\n",
       "dtype: int64"
      ]
     },
     "execution_count": 13,
     "metadata": {
      "tags": []
     },
     "output_type": "execute_result"
    }
   ],
   "source": [
    "st_data_2018.isna().sum()"
   ]
  },
  {
   "cell_type": "code",
   "execution_count": 14,
   "metadata": {
    "id": "EzXkpDd_9wYa"
   },
   "outputs": [],
   "source": [
    "st_data_2018_clean = st_data_2018.dropna()"
   ]
  },
  {
   "cell_type": "code",
   "execution_count": 15,
   "metadata": {
    "colab": {
     "base_uri": "https://localhost:8080/"
    },
    "id": "mrPgjnG5-edq",
    "outputId": "9e83904e-c524-4e21-e349-ad05be7ebc07"
   },
   "outputs": [
    {
     "data": {
      "text/plain": [
       "(51, 10)"
      ]
     },
     "execution_count": 15,
     "metadata": {
      "tags": []
     },
     "output_type": "execute_result"
    }
   ],
   "source": [
    "st_data_2018_clean.shape"
   ]
  },
  {
   "cell_type": "code",
   "execution_count": 16,
   "metadata": {
    "colab": {
     "base_uri": "https://localhost:8080/",
     "height": 522
    },
    "id": "OH9jfdWL-h_j",
    "outputId": "aad91873-12a2-48b2-b71a-6fba9b9b3ae5"
   },
   "outputs": [
    {
     "data": {
      "text/html": [
       "<div>\n",
       "<style scoped>\n",
       "    .dataframe tbody tr th:only-of-type {\n",
       "        vertical-align: middle;\n",
       "    }\n",
       "\n",
       "    .dataframe tbody tr th {\n",
       "        vertical-align: top;\n",
       "    }\n",
       "\n",
       "    .dataframe thead th {\n",
       "        text-align: right;\n",
       "    }\n",
       "</style>\n",
       "<table border=\"1\" class=\"dataframe\">\n",
       "  <thead>\n",
       "    <tr style=\"text-align: right;\">\n",
       "      <th></th>\n",
       "      <th>Country Name</th>\n",
       "      <th>High-technology exports (% of manufactured exports)</th>\n",
       "      <th>High-technology exports (current US$)</th>\n",
       "      <th>Trademark applications, total</th>\n",
       "      <th>Trademark applications, direct resident</th>\n",
       "      <th>Trademark applications, direct nonresident</th>\n",
       "      <th>Patent applications, residents</th>\n",
       "      <th>Patent applications, nonresidents</th>\n",
       "      <th>Scientific and technical journal articles</th>\n",
       "      <th>Research and development expenditure (% of GDP)</th>\n",
       "    </tr>\n",
       "  </thead>\n",
       "  <tbody>\n",
       "    <tr>\n",
       "      <th>0</th>\n",
       "      <td>False</td>\n",
       "      <td>True</td>\n",
       "      <td>True</td>\n",
       "      <td>True</td>\n",
       "      <td>True</td>\n",
       "      <td>True</td>\n",
       "      <td>True</td>\n",
       "      <td>True</td>\n",
       "      <td>False</td>\n",
       "      <td>True</td>\n",
       "    </tr>\n",
       "    <tr>\n",
       "      <th>1</th>\n",
       "      <td>False</td>\n",
       "      <td>False</td>\n",
       "      <td>False</td>\n",
       "      <td>False</td>\n",
       "      <td>False</td>\n",
       "      <td>False</td>\n",
       "      <td>True</td>\n",
       "      <td>False</td>\n",
       "      <td>False</td>\n",
       "      <td>True</td>\n",
       "    </tr>\n",
       "    <tr>\n",
       "      <th>2</th>\n",
       "      <td>False</td>\n",
       "      <td>False</td>\n",
       "      <td>False</td>\n",
       "      <td>False</td>\n",
       "      <td>True</td>\n",
       "      <td>True</td>\n",
       "      <td>True</td>\n",
       "      <td>True</td>\n",
       "      <td>False</td>\n",
       "      <td>True</td>\n",
       "    </tr>\n",
       "    <tr>\n",
       "      <th>3</th>\n",
       "      <td>False</td>\n",
       "      <td>True</td>\n",
       "      <td>True</td>\n",
       "      <td>True</td>\n",
       "      <td>True</td>\n",
       "      <td>True</td>\n",
       "      <td>True</td>\n",
       "      <td>True</td>\n",
       "      <td>True</td>\n",
       "      <td>True</td>\n",
       "    </tr>\n",
       "    <tr>\n",
       "      <th>4</th>\n",
       "      <td>False</td>\n",
       "      <td>False</td>\n",
       "      <td>False</td>\n",
       "      <td>False</td>\n",
       "      <td>False</td>\n",
       "      <td>False</td>\n",
       "      <td>True</td>\n",
       "      <td>True</td>\n",
       "      <td>False</td>\n",
       "      <td>True</td>\n",
       "    </tr>\n",
       "    <tr>\n",
       "      <th>...</th>\n",
       "      <td>...</td>\n",
       "      <td>...</td>\n",
       "      <td>...</td>\n",
       "      <td>...</td>\n",
       "      <td>...</td>\n",
       "      <td>...</td>\n",
       "      <td>...</td>\n",
       "      <td>...</td>\n",
       "      <td>...</td>\n",
       "      <td>...</td>\n",
       "    </tr>\n",
       "    <tr>\n",
       "      <th>214</th>\n",
       "      <td>False</td>\n",
       "      <td>False</td>\n",
       "      <td>False</td>\n",
       "      <td>True</td>\n",
       "      <td>True</td>\n",
       "      <td>True</td>\n",
       "      <td>True</td>\n",
       "      <td>True</td>\n",
       "      <td>False</td>\n",
       "      <td>False</td>\n",
       "    </tr>\n",
       "    <tr>\n",
       "      <th>215</th>\n",
       "      <td>False</td>\n",
       "      <td>False</td>\n",
       "      <td>True</td>\n",
       "      <td>False</td>\n",
       "      <td>False</td>\n",
       "      <td>False</td>\n",
       "      <td>False</td>\n",
       "      <td>False</td>\n",
       "      <td>False</td>\n",
       "      <td>False</td>\n",
       "    </tr>\n",
       "    <tr>\n",
       "      <th>216</th>\n",
       "      <td>False</td>\n",
       "      <td>False</td>\n",
       "      <td>False</td>\n",
       "      <td>False</td>\n",
       "      <td>True</td>\n",
       "      <td>True</td>\n",
       "      <td>True</td>\n",
       "      <td>True</td>\n",
       "      <td>False</td>\n",
       "      <td>True</td>\n",
       "    </tr>\n",
       "    <tr>\n",
       "      <th>217</th>\n",
       "      <td>False</td>\n",
       "      <td>False</td>\n",
       "      <td>False</td>\n",
       "      <td>False</td>\n",
       "      <td>False</td>\n",
       "      <td>False</td>\n",
       "      <td>False</td>\n",
       "      <td>False</td>\n",
       "      <td>False</td>\n",
       "      <td>True</td>\n",
       "    </tr>\n",
       "    <tr>\n",
       "      <th>218</th>\n",
       "      <td>False</td>\n",
       "      <td>False</td>\n",
       "      <td>False</td>\n",
       "      <td>True</td>\n",
       "      <td>True</td>\n",
       "      <td>True</td>\n",
       "      <td>True</td>\n",
       "      <td>True</td>\n",
       "      <td>False</td>\n",
       "      <td>True</td>\n",
       "    </tr>\n",
       "  </tbody>\n",
       "</table>\n",
       "<p>219 rows × 10 columns</p>\n",
       "</div>"
      ],
      "text/plain": [
       "     Country Name  ...  Research and development expenditure (% of GDP)\n",
       "0           False  ...                                             True\n",
       "1           False  ...                                             True\n",
       "2           False  ...                                             True\n",
       "3           False  ...                                             True\n",
       "4           False  ...                                             True\n",
       "..            ...  ...                                              ...\n",
       "214         False  ...                                            False\n",
       "215         False  ...                                            False\n",
       "216         False  ...                                             True\n",
       "217         False  ...                                             True\n",
       "218         False  ...                                             True\n",
       "\n",
       "[219 rows x 10 columns]"
      ]
     },
     "execution_count": 16,
     "metadata": {
      "tags": []
     },
     "output_type": "execute_result"
    }
   ],
   "source": [
    "st_data_2009.isna()"
   ]
  },
  {
   "cell_type": "code",
   "execution_count": 17,
   "metadata": {
    "colab": {
     "base_uri": "https://localhost:8080/"
    },
    "id": "thWHgsb3-vGm",
    "outputId": "17dbfe04-7c41-4509-d88a-68746f566413"
   },
   "outputs": [
    {
     "data": {
      "text/plain": [
       "Country Name                                             0\n",
       "High-technology exports (% of manufactured exports)     88\n",
       "High-technology exports (current US$)                   88\n",
       "Trademark applications, total                          108\n",
       "Trademark applications, direct resident                118\n",
       "Trademark applications, direct nonresident             118\n",
       "Patent applications, residents                         126\n",
       "Patent applications, nonresidents                      118\n",
       "Scientific and technical journal articles               20\n",
       "Research and development expenditure (% of GDP)        122\n",
       "dtype: int64"
      ]
     },
     "execution_count": 17,
     "metadata": {
      "tags": []
     },
     "output_type": "execute_result"
    }
   ],
   "source": [
    "st_data_2009.isna().sum()"
   ]
  },
  {
   "cell_type": "code",
   "execution_count": 18,
   "metadata": {
    "id": "gdk5rhhB-0YZ"
   },
   "outputs": [],
   "source": [
    "st_data_2009_clean = st_data_2009.dropna()"
   ]
  },
  {
   "cell_type": "code",
   "execution_count": 19,
   "metadata": {
    "colab": {
     "base_uri": "https://localhost:8080/"
    },
    "id": "Q2JgYyJx_Bob",
    "outputId": "3deb6192-0eca-4a6f-8e94-2816a6ef1925"
   },
   "outputs": [
    {
     "data": {
      "text/plain": [
       "(56, 10)"
      ]
     },
     "execution_count": 19,
     "metadata": {
      "tags": []
     },
     "output_type": "execute_result"
    }
   ],
   "source": [
    "st_data_2009_clean.shape"
   ]
  },
  {
   "cell_type": "markdown",
   "metadata": {
    "id": "G4xpGTg1_hlK"
   },
   "source": [
    "## Exploratory Data Analysis"
   ]
  },
  {
   "cell_type": "markdown",
   "metadata": {
    "id": "Yr50nZFy_4Y5"
   },
   "source": [
    "### Descriptive Statistics"
   ]
  },
  {
   "cell_type": "code",
   "execution_count": 25,
   "metadata": {
    "colab": {
     "base_uri": "https://localhost:8080/",
     "height": 240
    },
    "id": "E2q8GKT0_pLP",
    "outputId": "75d463ee-0bd7-4fda-ca02-e0193d70111a"
   },
   "outputs": [
    {
     "data": {
      "text/html": [
       "<style  type=\"text/css\" >\n",
       "</style><table id=\"T_cb011a38_530f_11eb_92b6_0242ac1c0002\" ><thead>    <tr>        <th class=\"blank level0\" ></th>        <th class=\"col_heading level0 col0\" >High-technology exports (% of manufactured exports)</th>        <th class=\"col_heading level0 col1\" >High-technology exports (current US$)</th>        <th class=\"col_heading level0 col2\" >Trademark applications, total</th>        <th class=\"col_heading level0 col3\" >Trademark applications, direct resident</th>        <th class=\"col_heading level0 col4\" >Trademark applications, direct nonresident</th>        <th class=\"col_heading level0 col5\" >Patent applications, residents</th>        <th class=\"col_heading level0 col6\" >Patent applications, nonresidents</th>        <th class=\"col_heading level0 col7\" >Scientific and technical journal articles</th>        <th class=\"col_heading level0 col8\" >Research and development expenditure (% of GDP)</th>    </tr></thead><tbody>\n",
       "                <tr>\n",
       "                        <th id=\"T_cb011a38_530f_11eb_92b6_0242ac1c0002level0_row0\" class=\"row_heading level0 row0\" >count</th>\n",
       "                        <td id=\"T_cb011a38_530f_11eb_92b6_0242ac1c0002row0_col0\" class=\"data row0 col0\" >51</td>\n",
       "                        <td id=\"T_cb011a38_530f_11eb_92b6_0242ac1c0002row0_col1\" class=\"data row0 col1\" >51</td>\n",
       "                        <td id=\"T_cb011a38_530f_11eb_92b6_0242ac1c0002row0_col2\" class=\"data row0 col2\" >51</td>\n",
       "                        <td id=\"T_cb011a38_530f_11eb_92b6_0242ac1c0002row0_col3\" class=\"data row0 col3\" >51</td>\n",
       "                        <td id=\"T_cb011a38_530f_11eb_92b6_0242ac1c0002row0_col4\" class=\"data row0 col4\" >51</td>\n",
       "                        <td id=\"T_cb011a38_530f_11eb_92b6_0242ac1c0002row0_col5\" class=\"data row0 col5\" >51</td>\n",
       "                        <td id=\"T_cb011a38_530f_11eb_92b6_0242ac1c0002row0_col6\" class=\"data row0 col6\" >51</td>\n",
       "                        <td id=\"T_cb011a38_530f_11eb_92b6_0242ac1c0002row0_col7\" class=\"data row0 col7\" >51</td>\n",
       "                        <td id=\"T_cb011a38_530f_11eb_92b6_0242ac1c0002row0_col8\" class=\"data row0 col8\" >51</td>\n",
       "            </tr>\n",
       "            <tr>\n",
       "                        <th id=\"T_cb011a38_530f_11eb_92b6_0242ac1c0002level0_row1\" class=\"row_heading level0 row1\" >mean</th>\n",
       "                        <td id=\"T_cb011a38_530f_11eb_92b6_0242ac1c0002row1_col0\" class=\"data row1 col0\" >12</td>\n",
       "                        <td id=\"T_cb011a38_530f_11eb_92b6_0242ac1c0002row1_col1\" class=\"data row1 col1\" >25,697,867,097</td>\n",
       "                        <td id=\"T_cb011a38_530f_11eb_92b6_0242ac1c0002row1_col2\" class=\"data row1 col2\" >44,515</td>\n",
       "                        <td id=\"T_cb011a38_530f_11eb_92b6_0242ac1c0002row1_col3\" class=\"data row1 col3\" >33,921</td>\n",
       "                        <td id=\"T_cb011a38_530f_11eb_92b6_0242ac1c0002row1_col4\" class=\"data row1 col4\" >10,594</td>\n",
       "                        <td id=\"T_cb011a38_530f_11eb_92b6_0242ac1c0002row1_col5\" class=\"data row1 col5\" >16,828</td>\n",
       "                        <td id=\"T_cb011a38_530f_11eb_92b6_0242ac1c0002row1_col6\" class=\"data row1 col6\" >11,187</td>\n",
       "                        <td id=\"T_cb011a38_530f_11eb_92b6_0242ac1c0002row1_col7\" class=\"data row1 col7\" >30,499</td>\n",
       "                        <td id=\"T_cb011a38_530f_11eb_92b6_0242ac1c0002row1_col8\" class=\"data row1 col8\" >1</td>\n",
       "            </tr>\n",
       "            <tr>\n",
       "                        <th id=\"T_cb011a38_530f_11eb_92b6_0242ac1c0002level0_row2\" class=\"row_heading level0 row2\" >std</th>\n",
       "                        <td id=\"T_cb011a38_530f_11eb_92b6_0242ac1c0002row2_col0\" class=\"data row2 col0\" >8</td>\n",
       "                        <td id=\"T_cb011a38_530f_11eb_92b6_0242ac1c0002row2_col1\" class=\"data row2 col1\" >48,690,230,336</td>\n",
       "                        <td id=\"T_cb011a38_530f_11eb_92b6_0242ac1c0002row2_col2\" class=\"data row2 col2\" >85,394</td>\n",
       "                        <td id=\"T_cb011a38_530f_11eb_92b6_0242ac1c0002row2_col3\" class=\"data row2 col3\" >69,219</td>\n",
       "                        <td id=\"T_cb011a38_530f_11eb_92b6_0242ac1c0002row2_col4\" class=\"data row2 col4\" >18,797</td>\n",
       "                        <td id=\"T_cb011a38_530f_11eb_92b6_0242ac1c0002row2_col5\" class=\"data row2 col5\" >56,775</td>\n",
       "                        <td id=\"T_cb011a38_530f_11eb_92b6_0242ac1c0002row2_col6\" class=\"data row2 col6\" >44,725</td>\n",
       "                        <td id=\"T_cb011a38_530f_11eb_92b6_0242ac1c0002row2_col7\" class=\"data row2 col7\" >65,091</td>\n",
       "                        <td id=\"T_cb011a38_530f_11eb_92b6_0242ac1c0002row2_col8\" class=\"data row2 col8\" >1</td>\n",
       "            </tr>\n",
       "            <tr>\n",
       "                        <th id=\"T_cb011a38_530f_11eb_92b6_0242ac1c0002level0_row3\" class=\"row_heading level0 row3\" >min</th>\n",
       "                        <td id=\"T_cb011a38_530f_11eb_92b6_0242ac1c0002row3_col0\" class=\"data row3 col0\" >0</td>\n",
       "                        <td id=\"T_cb011a38_530f_11eb_92b6_0242ac1c0002row3_col1\" class=\"data row3 col1\" >115,051</td>\n",
       "                        <td id=\"T_cb011a38_530f_11eb_92b6_0242ac1c0002row3_col2\" class=\"data row3 col2\" >1,974</td>\n",
       "                        <td id=\"T_cb011a38_530f_11eb_92b6_0242ac1c0002row3_col3\" class=\"data row3 col3\" >141</td>\n",
       "                        <td id=\"T_cb011a38_530f_11eb_92b6_0242ac1c0002row3_col4\" class=\"data row3 col4\" >1,008</td>\n",
       "                        <td id=\"T_cb011a38_530f_11eb_92b6_0242ac1c0002row3_col5\" class=\"data row3 col5\" >1</td>\n",
       "                        <td id=\"T_cb011a38_530f_11eb_92b6_0242ac1c0002row3_col6\" class=\"data row3 col6\" >4</td>\n",
       "                        <td id=\"T_cb011a38_530f_11eb_92b6_0242ac1c0002row3_col7\" class=\"data row3 col7\" >127</td>\n",
       "                        <td id=\"T_cb011a38_530f_11eb_92b6_0242ac1c0002row3_col8\" class=\"data row3 col8\" >0</td>\n",
       "            </tr>\n",
       "            <tr>\n",
       "                        <th id=\"T_cb011a38_530f_11eb_92b6_0242ac1c0002level0_row4\" class=\"row_heading level0 row4\" >25%</th>\n",
       "                        <td id=\"T_cb011a38_530f_11eb_92b6_0242ac1c0002row4_col0\" class=\"data row4 col0\" >5</td>\n",
       "                        <td id=\"T_cb011a38_530f_11eb_92b6_0242ac1c0002row4_col1\" class=\"data row4 col1\" >433,839,196</td>\n",
       "                        <td id=\"T_cb011a38_530f_11eb_92b6_0242ac1c0002row4_col2\" class=\"data row4 col2\" >4,203</td>\n",
       "                        <td id=\"T_cb011a38_530f_11eb_92b6_0242ac1c0002row4_col3\" class=\"data row4 col3\" >1,858</td>\n",
       "                        <td id=\"T_cb011a38_530f_11eb_92b6_0242ac1c0002row4_col4\" class=\"data row4 col4\" >1,937</td>\n",
       "                        <td id=\"T_cb011a38_530f_11eb_92b6_0242ac1c0002row4_col5\" class=\"data row4 col5\" >96</td>\n",
       "                        <td id=\"T_cb011a38_530f_11eb_92b6_0242ac1c0002row4_col6\" class=\"data row4 col6\" >26</td>\n",
       "                        <td id=\"T_cb011a38_530f_11eb_92b6_0242ac1c0002row4_col7\" class=\"data row4 col7\" >1,416</td>\n",
       "                        <td id=\"T_cb011a38_530f_11eb_92b6_0242ac1c0002row4_col8\" class=\"data row4 col8\" >0</td>\n",
       "            </tr>\n",
       "            <tr>\n",
       "                        <th id=\"T_cb011a38_530f_11eb_92b6_0242ac1c0002level0_row5\" class=\"row_heading level0 row5\" >50%</th>\n",
       "                        <td id=\"T_cb011a38_530f_11eb_92b6_0242ac1c0002row5_col0\" class=\"data row5 col0\" >10</td>\n",
       "                        <td id=\"T_cb011a38_530f_11eb_92b6_0242ac1c0002row5_col1\" class=\"data row5 col1\" >4,294,542,879</td>\n",
       "                        <td id=\"T_cb011a38_530f_11eb_92b6_0242ac1c0002row5_col2\" class=\"data row5 col2\" >10,025</td>\n",
       "                        <td id=\"T_cb011a38_530f_11eb_92b6_0242ac1c0002row5_col3\" class=\"data row5 col3\" >4,711</td>\n",
       "                        <td id=\"T_cb011a38_530f_11eb_92b6_0242ac1c0002row5_col4\" class=\"data row5 col4\" >3,417</td>\n",
       "                        <td id=\"T_cb011a38_530f_11eb_92b6_0242ac1c0002row5_col5\" class=\"data row5 col5\" >678</td>\n",
       "                        <td id=\"T_cb011a38_530f_11eb_92b6_0242ac1c0002row5_col6\" class=\"data row5 col6\" >168</td>\n",
       "                        <td id=\"T_cb011a38_530f_11eb_92b6_0242ac1c0002row5_col7\" class=\"data row5 col7\" >10,345</td>\n",
       "                        <td id=\"T_cb011a38_530f_11eb_92b6_0242ac1c0002row5_col8\" class=\"data row5 col8\" >1</td>\n",
       "            </tr>\n",
       "            <tr>\n",
       "                        <th id=\"T_cb011a38_530f_11eb_92b6_0242ac1c0002level0_row6\" class=\"row_heading level0 row6\" >75%</th>\n",
       "                        <td id=\"T_cb011a38_530f_11eb_92b6_0242ac1c0002row6_col0\" class=\"data row6 col0\" >17</td>\n",
       "                        <td id=\"T_cb011a38_530f_11eb_92b6_0242ac1c0002row6_col1\" class=\"data row6 col1\" >21,254,931,313</td>\n",
       "                        <td id=\"T_cb011a38_530f_11eb_92b6_0242ac1c0002row6_col2\" class=\"data row6 col2\" >40,292</td>\n",
       "                        <td id=\"T_cb011a38_530f_11eb_92b6_0242ac1c0002row6_col3\" class=\"data row6 col3\" >27,325</td>\n",
       "                        <td id=\"T_cb011a38_530f_11eb_92b6_0242ac1c0002row6_col4\" class=\"data row6 col4\" >9,829</td>\n",
       "                        <td id=\"T_cb011a38_530f_11eb_92b6_0242ac1c0002row6_col5\" class=\"data row6 col5\" >1,938</td>\n",
       "                        <td id=\"T_cb011a38_530f_11eb_92b6_0242ac1c0002row6_col6\" class=\"data row6 col6\" >1,834</td>\n",
       "                        <td id=\"T_cb011a38_530f_11eb_92b6_0242ac1c0002row6_col7\" class=\"data row6 col7\" >23,684</td>\n",
       "                        <td id=\"T_cb011a38_530f_11eb_92b6_0242ac1c0002row6_col8\" class=\"data row6 col8\" >2</td>\n",
       "            </tr>\n",
       "            <tr>\n",
       "                        <th id=\"T_cb011a38_530f_11eb_92b6_0242ac1c0002level0_row7\" class=\"row_heading level0 row7\" >max</th>\n",
       "                        <td id=\"T_cb011a38_530f_11eb_92b6_0242ac1c0002row7_col0\" class=\"data row7 col0\" >36</td>\n",
       "                        <td id=\"T_cb011a38_530f_11eb_92b6_0242ac1c0002row7_col1\" class=\"data row7 col1\" >210,082,307,180</td>\n",
       "                        <td id=\"T_cb011a38_530f_11eb_92b6_0242ac1c0002row7_col2\" class=\"data row7 col2\" >464,786</td>\n",
       "                        <td id=\"T_cb011a38_530f_11eb_92b6_0242ac1c0002row7_col3\" class=\"data row7 col3\" >342,150</td>\n",
       "                        <td id=\"T_cb011a38_530f_11eb_92b6_0242ac1c0002row7_col4\" class=\"data row7 col4\" >122,636</td>\n",
       "                        <td id=\"T_cb011a38_530f_11eb_92b6_0242ac1c0002row7_col5\" class=\"data row7 col5\" >285,095</td>\n",
       "                        <td id=\"T_cb011a38_530f_11eb_92b6_0242ac1c0002row7_col6\" class=\"data row7 col6\" >312,046</td>\n",
       "                        <td id=\"T_cb011a38_530f_11eb_92b6_0242ac1c0002row7_col7\" class=\"data row7 col7\" >422,808</td>\n",
       "                        <td id=\"T_cb011a38_530f_11eb_92b6_0242ac1c0002row7_col8\" class=\"data row7 col8\" >5</td>\n",
       "            </tr>\n",
       "    </tbody></table>"
      ],
      "text/plain": [
       "<pandas.io.formats.style.Styler at 0x7f2e4829aef0>"
      ]
     },
     "execution_count": 25,
     "metadata": {
      "tags": []
     },
     "output_type": "execute_result"
    }
   ],
   "source": [
    "pd.set_option('display.float_format', lambda x: '%.3f' %x)\n",
    "st_data_2018_clean.describe().style.format('{:,.0f}')"
   ]
  },
  {
   "cell_type": "code",
   "execution_count": 27,
   "metadata": {
    "id": "eZlmM9-n_Gag"
   },
   "outputs": [],
   "source": [
    "import matplotlib.pyplot as plt\n",
    "import seaborn as sns\n",
    "%matplotlib inline"
   ]
  },
  {
   "cell_type": "code",
   "execution_count": 28,
   "metadata": {
    "colab": {
     "base_uri": "https://localhost:8080/",
     "height": 297
    },
    "id": "9qB9CUV-D16n",
    "outputId": "cc499398-b76c-446e-c509-db00cd523a36"
   },
   "outputs": [
    {
     "data": {
      "text/plain": [
       "<matplotlib.axes._subplots.AxesSubplot at 0x7f2e3057fc18>"
      ]
     },
     "execution_count": 28,
     "metadata": {
      "tags": []
     },
     "output_type": "execute_result"
    },
    {
     "data": {
      "image/png": "[encoded data removed]",
      "text/plain": [
       "<Figure size 432x288 with 1 Axes>"
      ]
     },
     "metadata": {
      "needs_background": "light",
      "tags": []
     },
     "output_type": "display_data"
    }
   ],
   "source": [
    "sns.boxplot(x=st_data_2018_clean['High-technology exports (% of manufactured exports)'])"
   ]
  },
  {
   "cell_type": "code",
   "execution_count": 33,
   "metadata": {
    "colab": {
     "base_uri": "https://localhost:8080/",
     "height": 295
    },
    "id": "vCy7-g-uEFVx",
    "outputId": "3e821f73-200e-4ee4-c08b-1ecae417359f"
   },
   "outputs": [
    {
     "data": {
      "text/html": [
       "<style  type=\"text/css\" >\n",
       "</style><table id=\"T_16977108_5311_11eb_92b6_0242ac1c0002\" ><thead>    <tr>        <th class=\"blank level0\" ></th>        <th class=\"col_heading level0 col0\" >High-technology exports (% of manufactured exports)</th>        <th class=\"col_heading level0 col1\" >High-technology exports (current US$)</th>        <th class=\"col_heading level0 col2\" >Trademark applications, total</th>        <th class=\"col_heading level0 col3\" >Trademark applications, direct resident</th>        <th class=\"col_heading level0 col4\" >Trademark applications, direct nonresident</th>        <th class=\"col_heading level0 col5\" >Patent applications, residents</th>        <th class=\"col_heading level0 col6\" >Patent applications, nonresidents</th>        <th class=\"col_heading level0 col7\" >Scientific and technical journal articles</th>        <th class=\"col_heading level0 col8\" >Research and development expenditure (% of GDP)</th>    </tr></thead><tbody>\n",
       "                <tr>\n",
       "                        <th id=\"T_16977108_5311_11eb_92b6_0242ac1c0002level0_row0\" class=\"row_heading level0 row0\" >count</th>\n",
       "                        <td id=\"T_16977108_5311_11eb_92b6_0242ac1c0002row0_col0\" class=\"data row0 col0\" >56</td>\n",
       "                        <td id=\"T_16977108_5311_11eb_92b6_0242ac1c0002row0_col1\" class=\"data row0 col1\" >56</td>\n",
       "                        <td id=\"T_16977108_5311_11eb_92b6_0242ac1c0002row0_col2\" class=\"data row0 col2\" >56</td>\n",
       "                        <td id=\"T_16977108_5311_11eb_92b6_0242ac1c0002row0_col3\" class=\"data row0 col3\" >56</td>\n",
       "                        <td id=\"T_16977108_5311_11eb_92b6_0242ac1c0002row0_col4\" class=\"data row0 col4\" >56</td>\n",
       "                        <td id=\"T_16977108_5311_11eb_92b6_0242ac1c0002row0_col5\" class=\"data row0 col5\" >56</td>\n",
       "                        <td id=\"T_16977108_5311_11eb_92b6_0242ac1c0002row0_col6\" class=\"data row0 col6\" >56</td>\n",
       "                        <td id=\"T_16977108_5311_11eb_92b6_0242ac1c0002row0_col7\" class=\"data row0 col7\" >56</td>\n",
       "                        <td id=\"T_16977108_5311_11eb_92b6_0242ac1c0002row0_col8\" class=\"data row0 col8\" >56</td>\n",
       "            </tr>\n",
       "            <tr>\n",
       "                        <th id=\"T_16977108_5311_11eb_92b6_0242ac1c0002level0_row1\" class=\"row_heading level0 row1\" >mean</th>\n",
       "                        <td id=\"T_16977108_5311_11eb_92b6_0242ac1c0002row1_col0\" class=\"data row1 col0\" >15</td>\n",
       "                        <td id=\"T_16977108_5311_11eb_92b6_0242ac1c0002row1_col1\" class=\"data row1 col1\" >26,983,628,831</td>\n",
       "                        <td id=\"T_16977108_5311_11eb_92b6_0242ac1c0002row1_col2\" class=\"data row1 col2\" >49,843</td>\n",
       "                        <td id=\"T_16977108_5311_11eb_92b6_0242ac1c0002row1_col3\" class=\"data row1 col3\" >40,669</td>\n",
       "                        <td id=\"T_16977108_5311_11eb_92b6_0242ac1c0002row1_col4\" class=\"data row1 col4\" >9,173</td>\n",
       "                        <td id=\"T_16977108_5311_11eb_92b6_0242ac1c0002row1_col5\" class=\"data row1 col5\" >18,743</td>\n",
       "                        <td id=\"T_16977108_5311_11eb_92b6_0242ac1c0002row1_col6\" class=\"data row1 col6\" >10,847</td>\n",
       "                        <td id=\"T_16977108_5311_11eb_92b6_0242ac1c0002row1_col7\" class=\"data row1 col7\" >30,421</td>\n",
       "                        <td id=\"T_16977108_5311_11eb_92b6_0242ac1c0002row1_col8\" class=\"data row1 col8\" >1</td>\n",
       "            </tr>\n",
       "            <tr>\n",
       "                        <th id=\"T_16977108_5311_11eb_92b6_0242ac1c0002level0_row2\" class=\"row_heading level0 row2\" >std</th>\n",
       "                        <td id=\"T_16977108_5311_11eb_92b6_0242ac1c0002row2_col0\" class=\"data row2 col0\" >12</td>\n",
       "                        <td id=\"T_16977108_5311_11eb_92b6_0242ac1c0002row2_col1\" class=\"data row2 col1\" >58,687,616,358</td>\n",
       "                        <td id=\"T_16977108_5311_11eb_92b6_0242ac1c0002row2_col2\" class=\"data row2 col2\" >114,676</td>\n",
       "                        <td id=\"T_16977108_5311_11eb_92b6_0242ac1c0002row2_col3\" class=\"data row2 col3\" >105,257</td>\n",
       "                        <td id=\"T_16977108_5311_11eb_92b6_0242ac1c0002row2_col4\" class=\"data row2 col4\" >10,702</td>\n",
       "                        <td id=\"T_16977108_5311_11eb_92b6_0242ac1c0002row2_col5\" class=\"data row2 col5\" >58,855</td>\n",
       "                        <td id=\"T_16977108_5311_11eb_92b6_0242ac1c0002row2_col6\" class=\"data row2 col6\" >33,561</td>\n",
       "                        <td id=\"T_16977108_5311_11eb_92b6_0242ac1c0002row2_col7\" class=\"data row2 col7\" >67,078</td>\n",
       "                        <td id=\"T_16977108_5311_11eb_92b6_0242ac1c0002row2_col8\" class=\"data row2 col8\" >1</td>\n",
       "            </tr>\n",
       "            <tr>\n",
       "                        <th id=\"T_16977108_5311_11eb_92b6_0242ac1c0002level0_row3\" class=\"row_heading level0 row3\" >min</th>\n",
       "                        <td id=\"T_16977108_5311_11eb_92b6_0242ac1c0002row3_col0\" class=\"data row3 col0\" >1</td>\n",
       "                        <td id=\"T_16977108_5311_11eb_92b6_0242ac1c0002row3_col1\" class=\"data row3 col1\" >4,537,422</td>\n",
       "                        <td id=\"T_16977108_5311_11eb_92b6_0242ac1c0002row3_col2\" class=\"data row3 col2\" >911</td>\n",
       "                        <td id=\"T_16977108_5311_11eb_92b6_0242ac1c0002row3_col3\" class=\"data row3 col3\" >446</td>\n",
       "                        <td id=\"T_16977108_5311_11eb_92b6_0242ac1c0002row3_col4\" class=\"data row3 col4\" >465</td>\n",
       "                        <td id=\"T_16977108_5311_11eb_92b6_0242ac1c0002row3_col5\" class=\"data row3 col5\" >1</td>\n",
       "                        <td id=\"T_16977108_5311_11eb_92b6_0242ac1c0002row3_col6\" class=\"data row3 col6\" >3</td>\n",
       "                        <td id=\"T_16977108_5311_11eb_92b6_0242ac1c0002row3_col7\" class=\"data row3 col7\" >54</td>\n",
       "                        <td id=\"T_16977108_5311_11eb_92b6_0242ac1c0002row3_col8\" class=\"data row3 col8\" >0</td>\n",
       "            </tr>\n",
       "            <tr>\n",
       "                        <th id=\"T_16977108_5311_11eb_92b6_0242ac1c0002level0_row4\" class=\"row_heading level0 row4\" >25%</th>\n",
       "                        <td id=\"T_16977108_5311_11eb_92b6_0242ac1c0002row4_col0\" class=\"data row4 col0\" >6</td>\n",
       "                        <td id=\"T_16977108_5311_11eb_92b6_0242ac1c0002row4_col1\" class=\"data row4 col1\" >514,534,600</td>\n",
       "                        <td id=\"T_16977108_5311_11eb_92b6_0242ac1c0002row4_col2\" class=\"data row4 col2\" >6,095</td>\n",
       "                        <td id=\"T_16977108_5311_11eb_92b6_0242ac1c0002row4_col3\" class=\"data row4 col3\" >2,598</td>\n",
       "                        <td id=\"T_16977108_5311_11eb_92b6_0242ac1c0002row4_col4\" class=\"data row4 col4\" >2,936</td>\n",
       "                        <td id=\"T_16977108_5311_11eb_92b6_0242ac1c0002row4_col5\" class=\"data row4 col5\" >242</td>\n",
       "                        <td id=\"T_16977108_5311_11eb_92b6_0242ac1c0002row4_col6\" class=\"data row4 col6\" >45</td>\n",
       "                        <td id=\"T_16977108_5311_11eb_92b6_0242ac1c0002row4_col7\" class=\"data row4 col7\" >2,020</td>\n",
       "                        <td id=\"T_16977108_5311_11eb_92b6_0242ac1c0002row4_col8\" class=\"data row4 col8\" >0</td>\n",
       "            </tr>\n",
       "            <tr>\n",
       "                        <th id=\"T_16977108_5311_11eb_92b6_0242ac1c0002level0_row5\" class=\"row_heading level0 row5\" >50%</th>\n",
       "                        <td id=\"T_16977108_5311_11eb_92b6_0242ac1c0002row5_col0\" class=\"data row5 col0\" >10</td>\n",
       "                        <td id=\"T_16977108_5311_11eb_92b6_0242ac1c0002row5_col1\" class=\"data row5 col1\" >4,063,042,924</td>\n",
       "                        <td id=\"T_16977108_5311_11eb_92b6_0242ac1c0002row5_col2\" class=\"data row5 col2\" >14,560</td>\n",
       "                        <td id=\"T_16977108_5311_11eb_92b6_0242ac1c0002row5_col3\" class=\"data row5 col3\" >8,744</td>\n",
       "                        <td id=\"T_16977108_5311_11eb_92b6_0242ac1c0002row5_col4\" class=\"data row5 col4\" >5,674</td>\n",
       "                        <td id=\"T_16977108_5311_11eb_92b6_0242ac1c0002row5_col5\" class=\"data row5 col5\" >924</td>\n",
       "                        <td id=\"T_16977108_5311_11eb_92b6_0242ac1c0002row5_col6\" class=\"data row5 col6\" >392</td>\n",
       "                        <td id=\"T_16977108_5311_11eb_92b6_0242ac1c0002row5_col7\" class=\"data row5 col7\" >8,399</td>\n",
       "                        <td id=\"T_16977108_5311_11eb_92b6_0242ac1c0002row5_col8\" class=\"data row5 col8\" >1</td>\n",
       "            </tr>\n",
       "            <tr>\n",
       "                        <th id=\"T_16977108_5311_11eb_92b6_0242ac1c0002level0_row6\" class=\"row_heading level0 row6\" >75%</th>\n",
       "                        <td id=\"T_16977108_5311_11eb_92b6_0242ac1c0002row6_col0\" class=\"data row6 col0\" >21</td>\n",
       "                        <td id=\"T_16977108_5311_11eb_92b6_0242ac1c0002row6_col1\" class=\"data row6 col1\" >20,547,291,738</td>\n",
       "                        <td id=\"T_16977108_5311_11eb_92b6_0242ac1c0002row6_col2\" class=\"data row6 col2\" >42,294</td>\n",
       "                        <td id=\"T_16977108_5311_11eb_92b6_0242ac1c0002row6_col3\" class=\"data row6 col3\" >29,086</td>\n",
       "                        <td id=\"T_16977108_5311_11eb_92b6_0242ac1c0002row6_col4\" class=\"data row6 col4\" >10,500</td>\n",
       "                        <td id=\"T_16977108_5311_11eb_92b6_0242ac1c0002row6_col5\" class=\"data row6 col5\" >3,073</td>\n",
       "                        <td id=\"T_16977108_5311_11eb_92b6_0242ac1c0002row6_col6\" class=\"data row6 col6\" >5,518</td>\n",
       "                        <td id=\"T_16977108_5311_11eb_92b6_0242ac1c0002row6_col7\" class=\"data row6 col7\" >26,997</td>\n",
       "                        <td id=\"T_16977108_5311_11eb_92b6_0242ac1c0002row6_col8\" class=\"data row6 col8\" >2</td>\n",
       "            </tr>\n",
       "            <tr>\n",
       "                        <th id=\"T_16977108_5311_11eb_92b6_0242ac1c0002level0_row7\" class=\"row_heading level0 row7\" >max</th>\n",
       "                        <td id=\"T_16977108_5311_11eb_92b6_0242ac1c0002row7_col0\" class=\"data row7 col0\" >51</td>\n",
       "                        <td id=\"T_16977108_5311_11eb_92b6_0242ac1c0002row7_col1\" class=\"data row7 col1\" >359,273,932,009</td>\n",
       "                        <td id=\"T_16977108_5311_11eb_92b6_0242ac1c0002row7_col2\" class=\"data row7 col2\" >806,906</td>\n",
       "                        <td id=\"T_16977108_5311_11eb_92b6_0242ac1c0002row7_col3\" class=\"data row7 col3\" >741,785</td>\n",
       "                        <td id=\"T_16977108_5311_11eb_92b6_0242ac1c0002row7_col4\" class=\"data row7 col4\" >65,121</td>\n",
       "                        <td id=\"T_16977108_5311_11eb_92b6_0242ac1c0002row7_col5\" class=\"data row7 col5\" >295,315</td>\n",
       "                        <td id=\"T_16977108_5311_11eb_92b6_0242ac1c0002row7_col6\" class=\"data row7 col6\" >231,194</td>\n",
       "                        <td id=\"T_16977108_5311_11eb_92b6_0242ac1c0002row7_col7\" class=\"data row7 col7\" >399,350</td>\n",
       "                        <td id=\"T_16977108_5311_11eb_92b6_0242ac1c0002row7_col8\" class=\"data row7 col8\" >4</td>\n",
       "            </tr>\n",
       "    </tbody></table>"
      ],
      "text/plain": [
       "<pandas.io.formats.style.Styler at 0x7f2e30e7ca90>"
      ]
     },
     "execution_count": 33,
     "metadata": {
      "tags": []
     },
     "output_type": "execute_result"
    }
   ],
   "source": [
    "st_data_2009_clean.describe().style.format('{:,.0f}')"
   ]
  },
  {
   "cell_type": "code",
   "execution_count": 34,
   "metadata": {
    "colab": {
     "base_uri": "https://localhost:8080/",
     "height": 297
    },
    "id": "KTlHi5fcFc8n",
    "outputId": "47f720d6-822e-40e7-b8a2-08f61ff39fd5"
   },
   "outputs": [
    {
     "data": {
      "text/plain": [
       "<matplotlib.axes._subplots.AxesSubplot at 0x7f2e2ff5b2b0>"
      ]
     },
     "execution_count": 34,
     "metadata": {
      "tags": []
     },
     "output_type": "execute_result"
    },
    {
     "data": {
      "image/png": "[encoded data removed]",
      "text/plain": [
       "<Figure size 432x288 with 1 Axes>"
      ]
     },
     "metadata": {
      "needs_background": "light",
      "tags": []
     },
     "output_type": "display_data"
    }
   ],
   "source": [
    "sns.boxplot(x=st_data_2009_clean['High-technology exports (% of manufactured exports)'])"
   ]
  },
  {
   "cell_type": "markdown",
   "metadata": {
    "id": "ksvGGzUfGJ6B"
   },
   "source": [
    "## Outliers"
   ]
  },
  {
   "cell_type": "code",
   "execution_count": 36,
   "metadata": {
    "colab": {
     "base_uri": "https://localhost:8080/",
     "height": 1000
    },
    "id": "R_cttbNXGJPA",
    "outputId": "6990643c-8913-44e7-d868-b4a831709f07"
   },
   "outputs": [
    {
     "data": {
      "image/png": "[encoded data removed]",
      "text/plain": [
       "<Figure size 720x360 with 1 Axes>"
      ]
     },
     "metadata": {
      "needs_background": "light",
      "tags": []
     },
     "output_type": "display_data"
    },
    {
     "data": {
      "image/png": "[encoded data removed]",
      "text/plain": [
       "<Figure size 720x360 with 1 Axes>"
      ]
     },
     "metadata": {
      "needs_background": "light",
      "tags": []
     },
     "output_type": "display_data"
    },
    {
     "data": {
      "image/png": "[encoded data removed]",
      "text/plain": [
       "<Figure size 720x360 with 1 Axes>"
      ]
     },
     "metadata": {
      "needs_background": "light",
      "tags": []
     },
     "output_type": "display_data"
    },
    {
     "data": {
      "image/png": "[encoded data removed]",
      "text/plain": [
       "<Figure size 720x360 with 1 Axes>"
      ]
     },
     "metadata": {
      "needs_background": "light",
      "tags": []
     },
     "output_type": "display_data"
    },
    {
     "data": {
      "image/png": "[encoded data removed]",
      "text/plain": [
       "<Figure size 720x360 with 1 Axes>"
      ]
     },
     "metadata": {
      "needs_background": "light",
      "tags": []
     },
     "output_type": "display_data"
    },
    {
     "data": {
      "image/png": "[encoded data removed]",
      "text/plain": [
       "<Figure size 720x360 with 1 Axes>"
      ]
     },
     "metadata": {
      "needs_background": "light",
      "tags": []
     },
     "output_type": "display_data"
    },
    {
     "data": {
      "image/png": "[encoded data removed]",
      "text/plain": [
       "<Figure size 720x360 with 1 Axes>"
      ]
     },
     "metadata": {
      "needs_background": "light",
      "tags": []
     },
     "output_type": "display_data"
    },
    {
     "data": {
      "image/png": "[encoded data removed]",
      "text/plain": [
       "<Figure size 720x360 with 1 Axes>"
      ]
     },
     "metadata": {
      "needs_background": "light",
      "tags": []
     },
     "output_type": "display_data"
    },
    {
     "data": {
      "image/png": "[encoded data removed]",
      "text/plain": [
       "<Figure size 720x360 with 1 Axes>"
      ]
     },
     "metadata": {
      "needs_background": "light",
      "tags": []
     },
     "output_type": "display_data"
    }
   ],
   "source": [
    "columns = st_data_2018_clean.columns\n",
    "\n",
    "for i in range(1, len(columns)):\n",
    "  fig = plt.figure(figsize=(10,5))\n",
    "  sns.boxplot(x=st_data_2018_clean[columns[i]])"
   ]
  },
  {
   "cell_type": "code",
   "execution_count": 38,
   "metadata": {
    "id": "9dknnqlYGNc_"
   },
   "outputs": [],
   "source": [
    "articles_max = st_data_2018_clean['Scientific and technical journal articles'].max()"
   ]
  },
  {
   "cell_type": "code",
   "execution_count": 40,
   "metadata": {
    "colab": {
     "base_uri": "https://localhost:8080/",
     "height": 203
    },
    "id": "9SvPWXqKU11J",
    "outputId": "0e05bf51-b86f-4add-aa17-8138ee0b9c69"
   },
   "outputs": [
    {
     "data": {
      "text/html": [
       "<div>\n",
       "<style scoped>\n",
       "    .dataframe tbody tr th:only-of-type {\n",
       "        vertical-align: middle;\n",
       "    }\n",
       "\n",
       "    .dataframe tbody tr th {\n",
       "        vertical-align: top;\n",
       "    }\n",
       "\n",
       "    .dataframe thead th {\n",
       "        text-align: right;\n",
       "    }\n",
       "</style>\n",
       "<table border=\"1\" class=\"dataframe\">\n",
       "  <thead>\n",
       "    <tr style=\"text-align: right;\">\n",
       "      <th></th>\n",
       "      <th>Country Name</th>\n",
       "      <th>High-technology exports (% of manufactured exports)</th>\n",
       "      <th>High-technology exports (current US$)</th>\n",
       "      <th>Trademark applications, total</th>\n",
       "      <th>Trademark applications, direct resident</th>\n",
       "      <th>Trademark applications, direct nonresident</th>\n",
       "      <th>Patent applications, residents</th>\n",
       "      <th>Patent applications, nonresidents</th>\n",
       "      <th>Scientific and technical journal articles</th>\n",
       "      <th>Research and development expenditure (% of GDP)</th>\n",
       "    </tr>\n",
       "  </thead>\n",
       "  <tbody>\n",
       "    <tr>\n",
       "      <th>207</th>\n",
       "      <td>United States</td>\n",
       "      <td>18.896</td>\n",
       "      <td>156365524736.000</td>\n",
       "      <td>464786.000</td>\n",
       "      <td>342150.000</td>\n",
       "      <td>122636.000</td>\n",
       "      <td>285095.000</td>\n",
       "      <td>312046.000</td>\n",
       "      <td>422807.710</td>\n",
       "      <td>2.838</td>\n",
       "    </tr>\n",
       "  </tbody>\n",
       "</table>\n",
       "</div>"
      ],
      "text/plain": [
       "      Country Name  ...  Research and development expenditure (% of GDP)\n",
       "207  United States  ...                                            2.838\n",
       "\n",
       "[1 rows x 10 columns]"
      ]
     },
     "execution_count": 40,
     "metadata": {
      "tags": []
     },
     "output_type": "execute_result"
    }
   ],
   "source": [
    "st_data_2018_clean[st_data_2018_clean['Scientific and technical journal articles']==articles_max]"
   ]
  },
  {
   "cell_type": "code",
   "execution_count": 42,
   "metadata": {
    "colab": {
     "base_uri": "https://localhost:8080/",
     "height": 501
    },
    "id": "bOLp95ZxVMf4",
    "outputId": "d620bad9-340e-4305-dcb9-3a7e690c8e90"
   },
   "outputs": [
    {
     "data": {
      "text/html": [
       "<div>\n",
       "<style scoped>\n",
       "    .dataframe tbody tr th:only-of-type {\n",
       "        vertical-align: middle;\n",
       "    }\n",
       "\n",
       "    .dataframe tbody tr th {\n",
       "        vertical-align: top;\n",
       "    }\n",
       "\n",
       "    .dataframe thead th {\n",
       "        text-align: right;\n",
       "    }\n",
       "</style>\n",
       "<table border=\"1\" class=\"dataframe\">\n",
       "  <thead>\n",
       "    <tr style=\"text-align: right;\">\n",
       "      <th></th>\n",
       "      <th>Country Name</th>\n",
       "      <th>High-technology exports (% of manufactured exports)</th>\n",
       "      <th>High-technology exports (current US$)</th>\n",
       "      <th>Trademark applications, total</th>\n",
       "      <th>Trademark applications, direct resident</th>\n",
       "      <th>Trademark applications, direct nonresident</th>\n",
       "      <th>Patent applications, residents</th>\n",
       "      <th>Patent applications, nonresidents</th>\n",
       "      <th>Scientific and technical journal articles</th>\n",
       "      <th>Research and development expenditure (% of GDP)</th>\n",
       "    </tr>\n",
       "  </thead>\n",
       "  <tbody>\n",
       "    <tr>\n",
       "      <th>68</th>\n",
       "      <td>France</td>\n",
       "      <td>25.920</td>\n",
       "      <td>117814412441.000</td>\n",
       "      <td>98279.000</td>\n",
       "      <td>90581.000</td>\n",
       "      <td>7698.000</td>\n",
       "      <td>14303.000</td>\n",
       "      <td>1919.000</td>\n",
       "      <td>66352.180</td>\n",
       "      <td>2.200</td>\n",
       "    </tr>\n",
       "    <tr>\n",
       "      <th>73</th>\n",
       "      <td>Germany</td>\n",
       "      <td>15.778</td>\n",
       "      <td>210082307180.000</td>\n",
       "      <td>75236.000</td>\n",
       "      <td>65686.000</td>\n",
       "      <td>9550.000</td>\n",
       "      <td>46617.000</td>\n",
       "      <td>21281.000</td>\n",
       "      <td>104396.120</td>\n",
       "      <td>3.094</td>\n",
       "    </tr>\n",
       "    <tr>\n",
       "      <th>89</th>\n",
       "      <td>India</td>\n",
       "      <td>9.008</td>\n",
       "      <td>20273090235.000</td>\n",
       "      <td>323970.000</td>\n",
       "      <td>297750.000</td>\n",
       "      <td>26220.000</td>\n",
       "      <td>16289.000</td>\n",
       "      <td>33766.000</td>\n",
       "      <td>135787.790</td>\n",
       "      <td>0.650</td>\n",
       "    </tr>\n",
       "    <tr>\n",
       "      <th>96</th>\n",
       "      <td>Italy</td>\n",
       "      <td>7.505</td>\n",
       "      <td>32581025234.000</td>\n",
       "      <td>42580.000</td>\n",
       "      <td>37320.000</td>\n",
       "      <td>5260.000</td>\n",
       "      <td>8921.000</td>\n",
       "      <td>900.000</td>\n",
       "      <td>71240.280</td>\n",
       "      <td>1.399</td>\n",
       "    </tr>\n",
       "    <tr>\n",
       "      <th>98</th>\n",
       "      <td>Japan</td>\n",
       "      <td>17.268</td>\n",
       "      <td>111020443595.000</td>\n",
       "      <td>183657.000</td>\n",
       "      <td>145269.000</td>\n",
       "      <td>38388.000</td>\n",
       "      <td>253630.000</td>\n",
       "      <td>59937.000</td>\n",
       "      <td>98792.500</td>\n",
       "      <td>3.265</td>\n",
       "    </tr>\n",
       "    <tr>\n",
       "      <th>104</th>\n",
       "      <td>Korea, Rep.</td>\n",
       "      <td>36.347</td>\n",
       "      <td>192789656676.000</td>\n",
       "      <td>199476.000</td>\n",
       "      <td>170541.000</td>\n",
       "      <td>28935.000</td>\n",
       "      <td>162561.000</td>\n",
       "      <td>47431.000</td>\n",
       "      <td>66376.170</td>\n",
       "      <td>4.810</td>\n",
       "    </tr>\n",
       "    <tr>\n",
       "      <th>161</th>\n",
       "      <td>Russian Federation</td>\n",
       "      <td>10.963</td>\n",
       "      <td>10183007833.000</td>\n",
       "      <td>75081.000</td>\n",
       "      <td>49132.000</td>\n",
       "      <td>25949.000</td>\n",
       "      <td>24926.000</td>\n",
       "      <td>13031.000</td>\n",
       "      <td>81579.360</td>\n",
       "      <td>0.990</td>\n",
       "    </tr>\n",
       "    <tr>\n",
       "      <th>206</th>\n",
       "      <td>United Kingdom</td>\n",
       "      <td>22.643</td>\n",
       "      <td>76926541023.000</td>\n",
       "      <td>94915.000</td>\n",
       "      <td>66833.000</td>\n",
       "      <td>28082.000</td>\n",
       "      <td>12865.000</td>\n",
       "      <td>8076.000</td>\n",
       "      <td>97680.900</td>\n",
       "      <td>1.724</td>\n",
       "    </tr>\n",
       "    <tr>\n",
       "      <th>207</th>\n",
       "      <td>United States</td>\n",
       "      <td>18.896</td>\n",
       "      <td>156365524736.000</td>\n",
       "      <td>464786.000</td>\n",
       "      <td>342150.000</td>\n",
       "      <td>122636.000</td>\n",
       "      <td>285095.000</td>\n",
       "      <td>312046.000</td>\n",
       "      <td>422807.710</td>\n",
       "      <td>2.838</td>\n",
       "    </tr>\n",
       "  </tbody>\n",
       "</table>\n",
       "</div>"
      ],
      "text/plain": [
       "           Country Name  ...  Research and development expenditure (% of GDP)\n",
       "68               France  ...                                            2.200\n",
       "73              Germany  ...                                            3.094\n",
       "89                India  ...                                            0.650\n",
       "96                Italy  ...                                            1.399\n",
       "98                Japan  ...                                            3.265\n",
       "104         Korea, Rep.  ...                                            4.810\n",
       "161  Russian Federation  ...                                            0.990\n",
       "206      United Kingdom  ...                                            1.724\n",
       "207       United States  ...                                            2.838\n",
       "\n",
       "[9 rows x 10 columns]"
      ]
     },
     "execution_count": 42,
     "metadata": {
      "tags": []
     },
     "output_type": "execute_result"
    }
   ],
   "source": [
    "st_data_2018_clean[st_data_2018_clean['Scientific and technical journal articles'] > 60000]"
   ]
  },
  {
   "cell_type": "code",
   "execution_count": 44,
   "metadata": {
    "colab": {
     "base_uri": "https://localhost:8080/",
     "height": 1000
    },
    "id": "4ce7AAH-W8Yz",
    "outputId": "85577a99-27c3-42d8-c2b0-869991320794"
   },
   "outputs": [
    {
     "data": {
      "image/png": "[encoded data removed]",
      "text/plain": [
       "<Figure size 720x360 with 1 Axes>"
      ]
     },
     "metadata": {
      "needs_background": "light",
      "tags": []
     },
     "output_type": "display_data"
    },
    {
     "data": {
      "image/png": "[encoded data removed]",
      "text/plain": [
       "<Figure size 720x360 with 1 Axes>"
      ]
     },
     "metadata": {
      "needs_background": "light",
      "tags": []
     },
     "output_type": "display_data"
    },
    {
     "data": {
      "image/png": "[encoded data removed]",
      "text/plain": [
       "<Figure size 720x360 with 1 Axes>"
      ]
     },
     "metadata": {
      "needs_background": "light",
      "tags": []
     },
     "output_type": "display_data"
    },
    {
     "data": {
      "image/png": "[encoded data removed]",
      "text/plain": [
       "<Figure size 720x360 with 1 Axes>"
      ]
     },
     "metadata": {
      "needs_background": "light",
      "tags": []
     },
     "output_type": "display_data"
    },
    {
     "data": {
      "image/png": "[encoded data removed]",
      "text/plain": [
       "<Figure size 720x360 with 1 Axes>"
      ]
     },
     "metadata": {
      "needs_background": "light",
      "tags": []
     },
     "output_type": "display_data"
    },
    {
     "data": {
      "image/png": "[encoded data removed]",
      "text/plain": [
       "<Figure size 720x360 with 1 Axes>"
      ]
     },
     "metadata": {
      "needs_background": "light",
      "tags": []
     },
     "output_type": "display_data"
    },
    {
     "data": {
      "image/png": "[encoded data removed]",
      "text/plain": [
       "<Figure size 720x360 with 1 Axes>"
      ]
     },
     "metadata": {
      "needs_background": "light",
      "tags": []
     },
     "output_type": "display_data"
    },
    {
     "data": {
      "image/png": "[encoded data removed]",
      "text/plain": [
       "<Figure size 720x360 with 1 Axes>"
      ]
     },
     "metadata": {
      "needs_background": "light",
      "tags": []
     },
     "output_type": "display_data"
    },
    {
     "data": {
      "image/png": "[encoded data removed]",
      "text/plain": [
       "<Figure size 720x360 with 1 Axes>"
      ]
     },
     "metadata": {
      "needs_background": "light",
      "tags": []
     },
     "output_type": "display_data"
    }
   ],
   "source": [
    "columns = st_data_2009_clean.columns\n",
    "\n",
    "for i in range(1, len(columns)):\n",
    "  fig = plt.figure(figsize=(10,5))\n",
    "  sns.boxplot(x=st_data_2009_clean[columns[i]])"
   ]
  },
  {
   "cell_type": "code",
   "execution_count": 47,
   "metadata": {
    "colab": {
     "base_uri": "https://localhost:8080/"
    },
    "id": "CLN9wJ7QX7pc",
    "outputId": "b9ed03f2-eae4-4bcc-9b5e-42a9262ae510"
   },
   "outputs": [
    {
     "data": {
      "text/plain": [
       "231194.0"
      ]
     },
     "execution_count": 47,
     "metadata": {
      "tags": []
     },
     "output_type": "execute_result"
    }
   ],
   "source": [
    "st_data_2009_clean['Patent applications, nonresidents'].max()"
   ]
  },
  {
   "cell_type": "code",
   "execution_count": 48,
   "metadata": {
    "colab": {
     "base_uri": "https://localhost:8080/",
     "height": 422
    },
    "id": "j50GZUTeYI2S",
    "outputId": "7fa3ba3c-53ac-4294-e60c-3dd7ec99f59b"
   },
   "outputs": [
    {
     "data": {
      "text/html": [
       "<div>\n",
       "<style scoped>\n",
       "    .dataframe tbody tr th:only-of-type {\n",
       "        vertical-align: middle;\n",
       "    }\n",
       "\n",
       "    .dataframe tbody tr th {\n",
       "        vertical-align: top;\n",
       "    }\n",
       "\n",
       "    .dataframe thead th {\n",
       "        text-align: right;\n",
       "    }\n",
       "</style>\n",
       "<table border=\"1\" class=\"dataframe\">\n",
       "  <thead>\n",
       "    <tr style=\"text-align: right;\">\n",
       "      <th></th>\n",
       "      <th>Country Name</th>\n",
       "      <th>High-technology exports (% of manufactured exports)</th>\n",
       "      <th>High-technology exports (current US$)</th>\n",
       "      <th>Trademark applications, total</th>\n",
       "      <th>Trademark applications, direct resident</th>\n",
       "      <th>Trademark applications, direct nonresident</th>\n",
       "      <th>Patent applications, residents</th>\n",
       "      <th>Patent applications, nonresidents</th>\n",
       "      <th>Scientific and technical journal articles</th>\n",
       "      <th>Research and development expenditure (% of GDP)</th>\n",
       "    </tr>\n",
       "  </thead>\n",
       "  <tbody>\n",
       "    <tr>\n",
       "      <th>35</th>\n",
       "      <td>Canada</td>\n",
       "      <td>18.317</td>\n",
       "      <td>26149995016.000</td>\n",
       "      <td>40956.000</td>\n",
       "      <td>18663.000</td>\n",
       "      <td>22293.000</td>\n",
       "      <td>5067.000</td>\n",
       "      <td>32410.000</td>\n",
       "      <td>55378.230</td>\n",
       "      <td>1.922</td>\n",
       "    </tr>\n",
       "    <tr>\n",
       "      <th>41</th>\n",
       "      <td>China</td>\n",
       "      <td>31.952</td>\n",
       "      <td>359273932009.000</td>\n",
       "      <td>806906.000</td>\n",
       "      <td>741785.000</td>\n",
       "      <td>65121.000</td>\n",
       "      <td>229096.000</td>\n",
       "      <td>85508.000</td>\n",
       "      <td>286371.910</td>\n",
       "      <td>1.665</td>\n",
       "    </tr>\n",
       "    <tr>\n",
       "      <th>89</th>\n",
       "      <td>India</td>\n",
       "      <td>9.618</td>\n",
       "      <td>11347424854.000</td>\n",
       "      <td>141943.000</td>\n",
       "      <td>134403.000</td>\n",
       "      <td>7540.000</td>\n",
       "      <td>7262.000</td>\n",
       "      <td>27025.000</td>\n",
       "      <td>54797.650</td>\n",
       "      <td>0.833</td>\n",
       "    </tr>\n",
       "    <tr>\n",
       "      <th>98</th>\n",
       "      <td>Japan</td>\n",
       "      <td>20.586</td>\n",
       "      <td>104428943952.000</td>\n",
       "      <td>109614.000</td>\n",
       "      <td>90473.000</td>\n",
       "      <td>19141.000</td>\n",
       "      <td>295315.000</td>\n",
       "      <td>53281.000</td>\n",
       "      <td>109131.250</td>\n",
       "      <td>3.231</td>\n",
       "    </tr>\n",
       "    <tr>\n",
       "      <th>104</th>\n",
       "      <td>Korea, Rep.</td>\n",
       "      <td>32.027</td>\n",
       "      <td>103496484580.000</td>\n",
       "      <td>133116.000</td>\n",
       "      <td>108170.000</td>\n",
       "      <td>24946.000</td>\n",
       "      <td>127316.000</td>\n",
       "      <td>36207.000</td>\n",
       "      <td>45913.840</td>\n",
       "      <td>3.293</td>\n",
       "    </tr>\n",
       "    <tr>\n",
       "      <th>178</th>\n",
       "      <td>South Asia</td>\n",
       "      <td>8.310</td>\n",
       "      <td>11674908636.000</td>\n",
       "      <td>171910.000</td>\n",
       "      <td>157299.000</td>\n",
       "      <td>14611.000</td>\n",
       "      <td>7519.000</td>\n",
       "      <td>27500.000</td>\n",
       "      <td>61863.100</td>\n",
       "      <td>0.786</td>\n",
       "    </tr>\n",
       "    <tr>\n",
       "      <th>207</th>\n",
       "      <td>United States</td>\n",
       "      <td>25.010</td>\n",
       "      <td>154108484413.000</td>\n",
       "      <td>265943.000</td>\n",
       "      <td>225045.000</td>\n",
       "      <td>40898.000</td>\n",
       "      <td>224912.000</td>\n",
       "      <td>231194.000</td>\n",
       "      <td>399350.310</td>\n",
       "      <td>2.813</td>\n",
       "    </tr>\n",
       "  </tbody>\n",
       "</table>\n",
       "</div>"
      ],
      "text/plain": [
       "      Country Name  ...  Research and development expenditure (% of GDP)\n",
       "35          Canada  ...                                            1.922\n",
       "41           China  ...                                            1.665\n",
       "89           India  ...                                            0.833\n",
       "98           Japan  ...                                            3.231\n",
       "104    Korea, Rep.  ...                                            3.293\n",
       "178     South Asia  ...                                            0.786\n",
       "207  United States  ...                                            2.813\n",
       "\n",
       "[7 rows x 10 columns]"
      ]
     },
     "execution_count": 48,
     "metadata": {
      "tags": []
     },
     "output_type": "execute_result"
    }
   ],
   "source": [
    "st_data_2009_clean[st_data_2009_clean['Patent applications, nonresidents'] > 20000]"
   ]
  },
  {
   "cell_type": "markdown",
   "metadata": {
    "id": "2_9KStzsZfqA"
   },
   "source": [
    "## Exploring Relationships"
   ]
  },
  {
   "cell_type": "markdown",
   "metadata": {
    "id": "XOBNui1tZtW0"
   },
   "source": [
    "### Correlations"
   ]
  },
  {
   "cell_type": "code",
   "execution_count": 53,
   "metadata": {
    "colab": {
     "base_uri": "https://localhost:8080/",
     "height": 749
    },
    "id": "DkYwOB-SZjYz",
    "outputId": "a5fc8750-6fd4-4093-e042-f8ad067f175d"
   },
   "outputs": [
    {
     "data": {
      "text/html": [
       "<style  type=\"text/css\" >\n",
       "#T_192bf1a6_531f_11eb_92b6_0242ac1c0002row0_col0,#T_192bf1a6_531f_11eb_92b6_0242ac1c0002row1_col1,#T_192bf1a6_531f_11eb_92b6_0242ac1c0002row2_col2,#T_192bf1a6_531f_11eb_92b6_0242ac1c0002row3_col3,#T_192bf1a6_531f_11eb_92b6_0242ac1c0002row4_col4,#T_192bf1a6_531f_11eb_92b6_0242ac1c0002row5_col5,#T_192bf1a6_531f_11eb_92b6_0242ac1c0002row6_col6,#T_192bf1a6_531f_11eb_92b6_0242ac1c0002row7_col7,#T_192bf1a6_531f_11eb_92b6_0242ac1c0002row8_col8{\n",
       "            background-color:  #fde725;\n",
       "            color:  #000000;\n",
       "        }#T_192bf1a6_531f_11eb_92b6_0242ac1c0002row0_col1{\n",
       "            background-color:  #482374;\n",
       "            color:  #f1f1f1;\n",
       "        }#T_192bf1a6_531f_11eb_92b6_0242ac1c0002row0_col2{\n",
       "            background-color:  #48186a;\n",
       "            color:  #f1f1f1;\n",
       "        }#T_192bf1a6_531f_11eb_92b6_0242ac1c0002row0_col3,#T_192bf1a6_531f_11eb_92b6_0242ac1c0002row8_col1,#T_192bf1a6_531f_11eb_92b6_0242ac1c0002row8_col6{\n",
       "            background-color:  #481769;\n",
       "            color:  #f1f1f1;\n",
       "        }#T_192bf1a6_531f_11eb_92b6_0242ac1c0002row0_col4,#T_192bf1a6_531f_11eb_92b6_0242ac1c0002row8_col7{\n",
       "            background-color:  #481b6d;\n",
       "            color:  #f1f1f1;\n",
       "        }#T_192bf1a6_531f_11eb_92b6_0242ac1c0002row0_col5,#T_192bf1a6_531f_11eb_92b6_0242ac1c0002row0_col6,#T_192bf1a6_531f_11eb_92b6_0242ac1c0002row0_col7,#T_192bf1a6_531f_11eb_92b6_0242ac1c0002row4_col8,#T_192bf1a6_531f_11eb_92b6_0242ac1c0002row6_col0,#T_192bf1a6_531f_11eb_92b6_0242ac1c0002row6_col1,#T_192bf1a6_531f_11eb_92b6_0242ac1c0002row8_col2,#T_192bf1a6_531f_11eb_92b6_0242ac1c0002row8_col3,#T_192bf1a6_531f_11eb_92b6_0242ac1c0002row8_col4{\n",
       "            background-color:  #440154;\n",
       "            color:  #f1f1f1;\n",
       "        }#T_192bf1a6_531f_11eb_92b6_0242ac1c0002row0_col8{\n",
       "            background-color:  #218e8d;\n",
       "            color:  #000000;\n",
       "        }#T_192bf1a6_531f_11eb_92b6_0242ac1c0002row1_col0{\n",
       "            background-color:  #25858e;\n",
       "            color:  #000000;\n",
       "        }#T_192bf1a6_531f_11eb_92b6_0242ac1c0002row1_col2,#T_192bf1a6_531f_11eb_92b6_0242ac1c0002row1_col3,#T_192bf1a6_531f_11eb_92b6_0242ac1c0002row1_col7{\n",
       "            background-color:  #20928c;\n",
       "            color:  #000000;\n",
       "        }#T_192bf1a6_531f_11eb_92b6_0242ac1c0002row1_col4{\n",
       "            background-color:  #277e8e;\n",
       "            color:  #000000;\n",
       "        }#T_192bf1a6_531f_11eb_92b6_0242ac1c0002row1_col5{\n",
       "            background-color:  #1f988b;\n",
       "            color:  #000000;\n",
       "        }#T_192bf1a6_531f_11eb_92b6_0242ac1c0002row1_col6{\n",
       "            background-color:  #2a788e;\n",
       "            color:  #000000;\n",
       "        }#T_192bf1a6_531f_11eb_92b6_0242ac1c0002row1_col8{\n",
       "            background-color:  #277f8e;\n",
       "            color:  #000000;\n",
       "        }#T_192bf1a6_531f_11eb_92b6_0242ac1c0002row2_col0{\n",
       "            background-color:  #482979;\n",
       "            color:  #f1f1f1;\n",
       "        }#T_192bf1a6_531f_11eb_92b6_0242ac1c0002row2_col1{\n",
       "            background-color:  #3e4a89;\n",
       "            color:  #f1f1f1;\n",
       "        }#T_192bf1a6_531f_11eb_92b6_0242ac1c0002row2_col3,#T_192bf1a6_531f_11eb_92b6_0242ac1c0002row3_col2{\n",
       "            background-color:  #f8e621;\n",
       "            color:  #000000;\n",
       "        }#T_192bf1a6_531f_11eb_92b6_0242ac1c0002row2_col4{\n",
       "            background-color:  #9dd93b;\n",
       "            color:  #000000;\n",
       "        }#T_192bf1a6_531f_11eb_92b6_0242ac1c0002row2_col5{\n",
       "            background-color:  #32b67a;\n",
       "            color:  #000000;\n",
       "        }#T_192bf1a6_531f_11eb_92b6_0242ac1c0002row2_col6{\n",
       "            background-color:  #73d056;\n",
       "            color:  #000000;\n",
       "        }#T_192bf1a6_531f_11eb_92b6_0242ac1c0002row2_col7{\n",
       "            background-color:  #a5db36;\n",
       "            color:  #000000;\n",
       "        }#T_192bf1a6_531f_11eb_92b6_0242ac1c0002row2_col8{\n",
       "            background-color:  #471063;\n",
       "            color:  #f1f1f1;\n",
       "        }#T_192bf1a6_531f_11eb_92b6_0242ac1c0002row3_col0{\n",
       "            background-color:  #482878;\n",
       "            color:  #f1f1f1;\n",
       "        }#T_192bf1a6_531f_11eb_92b6_0242ac1c0002row3_col1{\n",
       "            background-color:  #3e4989;\n",
       "            color:  #f1f1f1;\n",
       "        }#T_192bf1a6_531f_11eb_92b6_0242ac1c0002row3_col4,#T_192bf1a6_531f_11eb_92b6_0242ac1c0002row5_col6{\n",
       "            background-color:  #69cd5b;\n",
       "            color:  #000000;\n",
       "        }#T_192bf1a6_531f_11eb_92b6_0242ac1c0002row3_col5{\n",
       "            background-color:  #22a884;\n",
       "            color:  #000000;\n",
       "        }#T_192bf1a6_531f_11eb_92b6_0242ac1c0002row3_col6{\n",
       "            background-color:  #48c16e;\n",
       "            color:  #000000;\n",
       "        }#T_192bf1a6_531f_11eb_92b6_0242ac1c0002row3_col7,#T_192bf1a6_531f_11eb_92b6_0242ac1c0002row7_col3{\n",
       "            background-color:  #81d34d;\n",
       "            color:  #000000;\n",
       "        }#T_192bf1a6_531f_11eb_92b6_0242ac1c0002row3_col8{\n",
       "            background-color:  #470e61;\n",
       "            color:  #f1f1f1;\n",
       "        }#T_192bf1a6_531f_11eb_92b6_0242ac1c0002row4_col0{\n",
       "            background-color:  #481f70;\n",
       "            color:  #f1f1f1;\n",
       "        }#T_192bf1a6_531f_11eb_92b6_0242ac1c0002row4_col1{\n",
       "            background-color:  #481668;\n",
       "            color:  #f1f1f1;\n",
       "        }#T_192bf1a6_531f_11eb_92b6_0242ac1c0002row4_col2{\n",
       "            background-color:  #9bd93c;\n",
       "            color:  #000000;\n",
       "        }#T_192bf1a6_531f_11eb_92b6_0242ac1c0002row4_col3{\n",
       "            background-color:  #63cb5f;\n",
       "            color:  #000000;\n",
       "        }#T_192bf1a6_531f_11eb_92b6_0242ac1c0002row4_col5,#T_192bf1a6_531f_11eb_92b6_0242ac1c0002row5_col2,#T_192bf1a6_531f_11eb_92b6_0242ac1c0002row5_col7,#T_192bf1a6_531f_11eb_92b6_0242ac1c0002row6_col3{\n",
       "            background-color:  #40bd72;\n",
       "            color:  #000000;\n",
       "        }#T_192bf1a6_531f_11eb_92b6_0242ac1c0002row4_col6,#T_192bf1a6_531f_11eb_92b6_0242ac1c0002row6_col4{\n",
       "            background-color:  #cae11f;\n",
       "            color:  #000000;\n",
       "        }#T_192bf1a6_531f_11eb_92b6_0242ac1c0002row4_col7{\n",
       "            background-color:  #b0dd2f;\n",
       "            color:  #000000;\n",
       "        }#T_192bf1a6_531f_11eb_92b6_0242ac1c0002row5_col0{\n",
       "            background-color:  #453581;\n",
       "            color:  #f1f1f1;\n",
       "        }#T_192bf1a6_531f_11eb_92b6_0242ac1c0002row5_col1{\n",
       "            background-color:  #306a8e;\n",
       "            color:  #f1f1f1;\n",
       "        }#T_192bf1a6_531f_11eb_92b6_0242ac1c0002row5_col3{\n",
       "            background-color:  #2db27d;\n",
       "            color:  #000000;\n",
       "        }#T_192bf1a6_531f_11eb_92b6_0242ac1c0002row5_col4{\n",
       "            background-color:  #56c667;\n",
       "            color:  #000000;\n",
       "        }#T_192bf1a6_531f_11eb_92b6_0242ac1c0002row5_col8{\n",
       "            background-color:  #38588c;\n",
       "            color:  #f1f1f1;\n",
       "        }#T_192bf1a6_531f_11eb_92b6_0242ac1c0002row6_col2{\n",
       "            background-color:  #6ccd5a;\n",
       "            color:  #000000;\n",
       "        }#T_192bf1a6_531f_11eb_92b6_0242ac1c0002row6_col5{\n",
       "            background-color:  #52c569;\n",
       "            color:  #000000;\n",
       "        }#T_192bf1a6_531f_11eb_92b6_0242ac1c0002row6_col7{\n",
       "            background-color:  #bddf26;\n",
       "            color:  #000000;\n",
       "        }#T_192bf1a6_531f_11eb_92b6_0242ac1c0002row6_col8{\n",
       "            background-color:  #471164;\n",
       "            color:  #f1f1f1;\n",
       "        }#T_192bf1a6_531f_11eb_92b6_0242ac1c0002row7_col0{\n",
       "            background-color:  #471365;\n",
       "            color:  #f1f1f1;\n",
       "        }#T_192bf1a6_531f_11eb_92b6_0242ac1c0002row7_col1{\n",
       "            background-color:  #3f4889;\n",
       "            color:  #f1f1f1;\n",
       "        }#T_192bf1a6_531f_11eb_92b6_0242ac1c0002row7_col2{\n",
       "            background-color:  #a2da37;\n",
       "            color:  #000000;\n",
       "        }#T_192bf1a6_531f_11eb_92b6_0242ac1c0002row7_col4{\n",
       "            background-color:  #b2dd2d;\n",
       "            color:  #000000;\n",
       "        }#T_192bf1a6_531f_11eb_92b6_0242ac1c0002row7_col5{\n",
       "            background-color:  #31b57b;\n",
       "            color:  #000000;\n",
       "        }#T_192bf1a6_531f_11eb_92b6_0242ac1c0002row7_col6{\n",
       "            background-color:  #c0df25;\n",
       "            color:  #000000;\n",
       "        }#T_192bf1a6_531f_11eb_92b6_0242ac1c0002row7_col8{\n",
       "            background-color:  #482677;\n",
       "            color:  #f1f1f1;\n",
       "        }#T_192bf1a6_531f_11eb_92b6_0242ac1c0002row8_col0{\n",
       "            background-color:  #21908d;\n",
       "            color:  #000000;\n",
       "        }#T_192bf1a6_531f_11eb_92b6_0242ac1c0002row8_col5{\n",
       "            background-color:  #463480;\n",
       "            color:  #f1f1f1;\n",
       "        }</style><table id=\"T_192bf1a6_531f_11eb_92b6_0242ac1c0002\" ><thead>    <tr>        <th class=\"blank level0\" ></th>        <th class=\"col_heading level0 col0\" >High-technology exports (% of manufactured exports)</th>        <th class=\"col_heading level0 col1\" >High-technology exports (current US$)</th>        <th class=\"col_heading level0 col2\" >Trademark applications, total</th>        <th class=\"col_heading level0 col3\" >Trademark applications, direct resident</th>        <th class=\"col_heading level0 col4\" >Trademark applications, direct nonresident</th>        <th class=\"col_heading level0 col5\" >Patent applications, residents</th>        <th class=\"col_heading level0 col6\" >Patent applications, nonresidents</th>        <th class=\"col_heading level0 col7\" >Scientific and technical journal articles</th>        <th class=\"col_heading level0 col8\" >Research and development expenditure (% of GDP)</th>    </tr></thead><tbody>\n",
       "                <tr>\n",
       "                        <th id=\"T_192bf1a6_531f_11eb_92b6_0242ac1c0002level0_row0\" class=\"row_heading level0 row0\" >High-technology exports (% of manufactured exports)</th>\n",
       "                        <td id=\"T_192bf1a6_531f_11eb_92b6_0242ac1c0002row0_col0\" class=\"data row0 col0\" >1.000000</td>\n",
       "                        <td id=\"T_192bf1a6_531f_11eb_92b6_0242ac1c0002row0_col1\" class=\"data row0 col1\" >0.580170</td>\n",
       "                        <td id=\"T_192bf1a6_531f_11eb_92b6_0242ac1c0002row0_col2\" class=\"data row0 col2\" >0.317002</td>\n",
       "                        <td id=\"T_192bf1a6_531f_11eb_92b6_0242ac1c0002row0_col3\" class=\"data row0 col3\" >0.311593</td>\n",
       "                        <td id=\"T_192bf1a6_531f_11eb_92b6_0242ac1c0002row0_col4\" class=\"data row0 col4\" >0.292695</td>\n",
       "                        <td id=\"T_192bf1a6_531f_11eb_92b6_0242ac1c0002row0_col5\" class=\"data row0 col5\" >0.346438</td>\n",
       "                        <td id=\"T_192bf1a6_531f_11eb_92b6_0242ac1c0002row0_col6\" class=\"data row0 col6\" >0.226806</td>\n",
       "                        <td id=\"T_192bf1a6_531f_11eb_92b6_0242ac1c0002row0_col7\" class=\"data row0 col7\" >0.265684</td>\n",
       "                        <td id=\"T_192bf1a6_531f_11eb_92b6_0242ac1c0002row0_col8\" class=\"data row0 col8\" >0.612370</td>\n",
       "            </tr>\n",
       "            <tr>\n",
       "                        <th id=\"T_192bf1a6_531f_11eb_92b6_0242ac1c0002level0_row1\" class=\"row_heading level0 row1\" >High-technology exports (current US$)</th>\n",
       "                        <td id=\"T_192bf1a6_531f_11eb_92b6_0242ac1c0002row1_col0\" class=\"data row1 col0\" >0.580170</td>\n",
       "                        <td id=\"T_192bf1a6_531f_11eb_92b6_0242ac1c0002row1_col1\" class=\"data row1 col1\" >1.000000</td>\n",
       "                        <td id=\"T_192bf1a6_531f_11eb_92b6_0242ac1c0002row1_col2\" class=\"data row1 col2\" >0.641144</td>\n",
       "                        <td id=\"T_192bf1a6_531f_11eb_92b6_0242ac1c0002row1_col3\" class=\"data row1 col3\" >0.638493</td>\n",
       "                        <td id=\"T_192bf1a6_531f_11eb_92b6_0242ac1c0002row1_col4\" class=\"data row1 col4\" >0.561467</td>\n",
       "                        <td id=\"T_192bf1a6_531f_11eb_92b6_0242ac1c0002row1_col5\" class=\"data row1 col5\" >0.694110</td>\n",
       "                        <td id=\"T_192bf1a6_531f_11eb_92b6_0242ac1c0002row1_col6\" class=\"data row1 col6\" >0.536050</td>\n",
       "                        <td id=\"T_192bf1a6_531f_11eb_92b6_0242ac1c0002row1_col7\" class=\"data row1 col7\" >0.635776</td>\n",
       "                        <td id=\"T_192bf1a6_531f_11eb_92b6_0242ac1c0002row1_col8\" class=\"data row1 col8\" >0.564181</td>\n",
       "            </tr>\n",
       "            <tr>\n",
       "                        <th id=\"T_192bf1a6_531f_11eb_92b6_0242ac1c0002level0_row2\" class=\"row_heading level0 row2\" >Trademark applications, total</th>\n",
       "                        <td id=\"T_192bf1a6_531f_11eb_92b6_0242ac1c0002row2_col0\" class=\"data row2 col0\" >0.317002</td>\n",
       "                        <td id=\"T_192bf1a6_531f_11eb_92b6_0242ac1c0002row2_col1\" class=\"data row2 col1\" >0.641144</td>\n",
       "                        <td id=\"T_192bf1a6_531f_11eb_92b6_0242ac1c0002row2_col2\" class=\"data row2 col2\" >1.000000</td>\n",
       "                        <td id=\"T_192bf1a6_531f_11eb_92b6_0242ac1c0002row2_col3\" class=\"data row2 col3\" >0.992243</td>\n",
       "                        <td id=\"T_192bf1a6_531f_11eb_92b6_0242ac1c0002row2_col4\" class=\"data row2 col4\" >0.889062</td>\n",
       "                        <td id=\"T_192bf1a6_531f_11eb_92b6_0242ac1c0002row2_col5\" class=\"data row2 col5\" >0.775550</td>\n",
       "                        <td id=\"T_192bf1a6_531f_11eb_92b6_0242ac1c0002row2_col6\" class=\"data row2 col6\" >0.836150</td>\n",
       "                        <td id=\"T_192bf1a6_531f_11eb_92b6_0242ac1c0002row2_col7\" class=\"data row2 col7\" >0.899688</td>\n",
       "                        <td id=\"T_192bf1a6_531f_11eb_92b6_0242ac1c0002row2_col8\" class=\"data row2 col8\" >0.269173</td>\n",
       "            </tr>\n",
       "            <tr>\n",
       "                        <th id=\"T_192bf1a6_531f_11eb_92b6_0242ac1c0002level0_row3\" class=\"row_heading level0 row3\" >Trademark applications, direct resident</th>\n",
       "                        <td id=\"T_192bf1a6_531f_11eb_92b6_0242ac1c0002row3_col0\" class=\"data row3 col0\" >0.311593</td>\n",
       "                        <td id=\"T_192bf1a6_531f_11eb_92b6_0242ac1c0002row3_col1\" class=\"data row3 col1\" >0.638493</td>\n",
       "                        <td id=\"T_192bf1a6_531f_11eb_92b6_0242ac1c0002row3_col2\" class=\"data row3 col2\" >0.992243</td>\n",
       "                        <td id=\"T_192bf1a6_531f_11eb_92b6_0242ac1c0002row3_col3\" class=\"data row3 col3\" >1.000000</td>\n",
       "                        <td id=\"T_192bf1a6_531f_11eb_92b6_0242ac1c0002row3_col4\" class=\"data row3 col4\" >0.825255</td>\n",
       "                        <td id=\"T_192bf1a6_531f_11eb_92b6_0242ac1c0002row3_col5\" class=\"data row3 col5\" >0.739478</td>\n",
       "                        <td id=\"T_192bf1a6_531f_11eb_92b6_0242ac1c0002row3_col6\" class=\"data row3 col6\" >0.776488</td>\n",
       "                        <td id=\"T_192bf1a6_531f_11eb_92b6_0242ac1c0002row3_col7\" class=\"data row3 col7\" >0.861888</td>\n",
       "                        <td id=\"T_192bf1a6_531f_11eb_92b6_0242ac1c0002row3_col8\" class=\"data row3 col8\" >0.267180</td>\n",
       "            </tr>\n",
       "            <tr>\n",
       "                        <th id=\"T_192bf1a6_531f_11eb_92b6_0242ac1c0002level0_row4\" class=\"row_heading level0 row4\" >Trademark applications, direct nonresident</th>\n",
       "                        <td id=\"T_192bf1a6_531f_11eb_92b6_0242ac1c0002row4_col0\" class=\"data row4 col0\" >0.292695</td>\n",
       "                        <td id=\"T_192bf1a6_531f_11eb_92b6_0242ac1c0002row4_col1\" class=\"data row4 col1\" >0.561467</td>\n",
       "                        <td id=\"T_192bf1a6_531f_11eb_92b6_0242ac1c0002row4_col2\" class=\"data row4 col2\" >0.889062</td>\n",
       "                        <td id=\"T_192bf1a6_531f_11eb_92b6_0242ac1c0002row4_col3\" class=\"data row4 col3\" >0.825255</td>\n",
       "                        <td id=\"T_192bf1a6_531f_11eb_92b6_0242ac1c0002row4_col4\" class=\"data row4 col4\" >1.000000</td>\n",
       "                        <td id=\"T_192bf1a6_531f_11eb_92b6_0242ac1c0002row4_col5\" class=\"data row4 col5\" >0.800193</td>\n",
       "                        <td id=\"T_192bf1a6_531f_11eb_92b6_0242ac1c0002row4_col6\" class=\"data row4 col6\" >0.939207</td>\n",
       "                        <td id=\"T_192bf1a6_531f_11eb_92b6_0242ac1c0002row4_col7\" class=\"data row4 col7\" >0.913375</td>\n",
       "                        <td id=\"T_192bf1a6_531f_11eb_92b6_0242ac1c0002row4_col8\" class=\"data row4 col8\" >0.238961</td>\n",
       "            </tr>\n",
       "            <tr>\n",
       "                        <th id=\"T_192bf1a6_531f_11eb_92b6_0242ac1c0002level0_row5\" class=\"row_heading level0 row5\" >Patent applications, residents</th>\n",
       "                        <td id=\"T_192bf1a6_531f_11eb_92b6_0242ac1c0002row5_col0\" class=\"data row5 col0\" >0.346438</td>\n",
       "                        <td id=\"T_192bf1a6_531f_11eb_92b6_0242ac1c0002row5_col1\" class=\"data row5 col1\" >0.694110</td>\n",
       "                        <td id=\"T_192bf1a6_531f_11eb_92b6_0242ac1c0002row5_col2\" class=\"data row5 col2\" >0.775550</td>\n",
       "                        <td id=\"T_192bf1a6_531f_11eb_92b6_0242ac1c0002row5_col3\" class=\"data row5 col3\" >0.739478</td>\n",
       "                        <td id=\"T_192bf1a6_531f_11eb_92b6_0242ac1c0002row5_col4\" class=\"data row5 col4\" >0.800193</td>\n",
       "                        <td id=\"T_192bf1a6_531f_11eb_92b6_0242ac1c0002row5_col5\" class=\"data row5 col5\" >1.000000</td>\n",
       "                        <td id=\"T_192bf1a6_531f_11eb_92b6_0242ac1c0002row5_col6\" class=\"data row5 col6\" >0.822861</td>\n",
       "                        <td id=\"T_192bf1a6_531f_11eb_92b6_0242ac1c0002row5_col7\" class=\"data row5 col7\" >0.773602</td>\n",
       "                        <td id=\"T_192bf1a6_531f_11eb_92b6_0242ac1c0002row5_col8\" class=\"data row5 col8\" >0.445426</td>\n",
       "            </tr>\n",
       "            <tr>\n",
       "                        <th id=\"T_192bf1a6_531f_11eb_92b6_0242ac1c0002level0_row6\" class=\"row_heading level0 row6\" >Patent applications, nonresidents</th>\n",
       "                        <td id=\"T_192bf1a6_531f_11eb_92b6_0242ac1c0002row6_col0\" class=\"data row6 col0\" >0.226806</td>\n",
       "                        <td id=\"T_192bf1a6_531f_11eb_92b6_0242ac1c0002row6_col1\" class=\"data row6 col1\" >0.536050</td>\n",
       "                        <td id=\"T_192bf1a6_531f_11eb_92b6_0242ac1c0002row6_col2\" class=\"data row6 col2\" >0.836150</td>\n",
       "                        <td id=\"T_192bf1a6_531f_11eb_92b6_0242ac1c0002row6_col3\" class=\"data row6 col3\" >0.776488</td>\n",
       "                        <td id=\"T_192bf1a6_531f_11eb_92b6_0242ac1c0002row6_col4\" class=\"data row6 col4\" >0.939207</td>\n",
       "                        <td id=\"T_192bf1a6_531f_11eb_92b6_0242ac1c0002row6_col5\" class=\"data row6 col5\" >0.822861</td>\n",
       "                        <td id=\"T_192bf1a6_531f_11eb_92b6_0242ac1c0002row6_col6\" class=\"data row6 col6\" >1.000000</td>\n",
       "                        <td id=\"T_192bf1a6_531f_11eb_92b6_0242ac1c0002row6_col7\" class=\"data row6 col7\" >0.927461</td>\n",
       "                        <td id=\"T_192bf1a6_531f_11eb_92b6_0242ac1c0002row6_col8\" class=\"data row6 col8\" >0.272978</td>\n",
       "            </tr>\n",
       "            <tr>\n",
       "                        <th id=\"T_192bf1a6_531f_11eb_92b6_0242ac1c0002level0_row7\" class=\"row_heading level0 row7\" >Scientific and technical journal articles</th>\n",
       "                        <td id=\"T_192bf1a6_531f_11eb_92b6_0242ac1c0002row7_col0\" class=\"data row7 col0\" >0.265684</td>\n",
       "                        <td id=\"T_192bf1a6_531f_11eb_92b6_0242ac1c0002row7_col1\" class=\"data row7 col1\" >0.635776</td>\n",
       "                        <td id=\"T_192bf1a6_531f_11eb_92b6_0242ac1c0002row7_col2\" class=\"data row7 col2\" >0.899688</td>\n",
       "                        <td id=\"T_192bf1a6_531f_11eb_92b6_0242ac1c0002row7_col3\" class=\"data row7 col3\" >0.861888</td>\n",
       "                        <td id=\"T_192bf1a6_531f_11eb_92b6_0242ac1c0002row7_col4\" class=\"data row7 col4\" >0.913375</td>\n",
       "                        <td id=\"T_192bf1a6_531f_11eb_92b6_0242ac1c0002row7_col5\" class=\"data row7 col5\" >0.773602</td>\n",
       "                        <td id=\"T_192bf1a6_531f_11eb_92b6_0242ac1c0002row7_col6\" class=\"data row7 col6\" >0.927461</td>\n",
       "                        <td id=\"T_192bf1a6_531f_11eb_92b6_0242ac1c0002row7_col7\" class=\"data row7 col7\" >1.000000</td>\n",
       "                        <td id=\"T_192bf1a6_531f_11eb_92b6_0242ac1c0002row7_col8\" class=\"data row7 col8\" >0.319454</td>\n",
       "            </tr>\n",
       "            <tr>\n",
       "                        <th id=\"T_192bf1a6_531f_11eb_92b6_0242ac1c0002level0_row8\" class=\"row_heading level0 row8\" >Research and development expenditure (% of GDP)</th>\n",
       "                        <td id=\"T_192bf1a6_531f_11eb_92b6_0242ac1c0002row8_col0\" class=\"data row8 col0\" >0.612370</td>\n",
       "                        <td id=\"T_192bf1a6_531f_11eb_92b6_0242ac1c0002row8_col1\" class=\"data row8 col1\" >0.564181</td>\n",
       "                        <td id=\"T_192bf1a6_531f_11eb_92b6_0242ac1c0002row8_col2\" class=\"data row8 col2\" >0.269173</td>\n",
       "                        <td id=\"T_192bf1a6_531f_11eb_92b6_0242ac1c0002row8_col3\" class=\"data row8 col3\" >0.267180</td>\n",
       "                        <td id=\"T_192bf1a6_531f_11eb_92b6_0242ac1c0002row8_col4\" class=\"data row8 col4\" >0.238961</td>\n",
       "                        <td id=\"T_192bf1a6_531f_11eb_92b6_0242ac1c0002row8_col5\" class=\"data row8 col5\" >0.445426</td>\n",
       "                        <td id=\"T_192bf1a6_531f_11eb_92b6_0242ac1c0002row8_col6\" class=\"data row8 col6\" >0.272978</td>\n",
       "                        <td id=\"T_192bf1a6_531f_11eb_92b6_0242ac1c0002row8_col7\" class=\"data row8 col7\" >0.319454</td>\n",
       "                        <td id=\"T_192bf1a6_531f_11eb_92b6_0242ac1c0002row8_col8\" class=\"data row8 col8\" >1.000000</td>\n",
       "            </tr>\n",
       "    </tbody></table>"
      ],
      "text/plain": [
       "<pandas.io.formats.style.Styler at 0x7f2e2fb29128>"
      ]
     },
     "execution_count": 53,
     "metadata": {
      "tags": []
     },
     "output_type": "execute_result"
    }
   ],
   "source": [
    "st_data_2018_clean.corr(method='pearson').style.background_gradient(cmap='viridis')"
   ]
  },
  {
   "cell_type": "code",
   "execution_count": 55,
   "metadata": {
    "colab": {
     "base_uri": "https://localhost:8080/",
     "height": 749
    },
    "id": "FOMsTZ7Baf-U",
    "outputId": "11e443be-180e-4f01-fca8-d9eaed9745b7"
   },
   "outputs": [
    {
     "data": {
      "text/html": [
       "<style  type=\"text/css\" >\n",
       "#T_7b34605e_531f_11eb_92b6_0242ac1c0002row0_col0,#T_7b34605e_531f_11eb_92b6_0242ac1c0002row1_col1,#T_7b34605e_531f_11eb_92b6_0242ac1c0002row2_col2,#T_7b34605e_531f_11eb_92b6_0242ac1c0002row3_col3,#T_7b34605e_531f_11eb_92b6_0242ac1c0002row4_col4,#T_7b34605e_531f_11eb_92b6_0242ac1c0002row5_col5,#T_7b34605e_531f_11eb_92b6_0242ac1c0002row6_col6,#T_7b34605e_531f_11eb_92b6_0242ac1c0002row7_col7,#T_7b34605e_531f_11eb_92b6_0242ac1c0002row8_col8{\n",
       "            background-color:  #fde725;\n",
       "            color:  #000000;\n",
       "        }#T_7b34605e_531f_11eb_92b6_0242ac1c0002row0_col1,#T_7b34605e_531f_11eb_92b6_0242ac1c0002row8_col1{\n",
       "            background-color:  #1f9e89;\n",
       "            color:  #000000;\n",
       "        }#T_7b34605e_531f_11eb_92b6_0242ac1c0002row0_col2{\n",
       "            background-color:  #481668;\n",
       "            color:  #f1f1f1;\n",
       "        }#T_7b34605e_531f_11eb_92b6_0242ac1c0002row0_col3{\n",
       "            background-color:  #471063;\n",
       "            color:  #f1f1f1;\n",
       "        }#T_7b34605e_531f_11eb_92b6_0242ac1c0002row0_col4{\n",
       "            background-color:  #463480;\n",
       "            color:  #f1f1f1;\n",
       "        }#T_7b34605e_531f_11eb_92b6_0242ac1c0002row0_col5,#T_7b34605e_531f_11eb_92b6_0242ac1c0002row0_col6,#T_7b34605e_531f_11eb_92b6_0242ac1c0002row0_col7,#T_7b34605e_531f_11eb_92b6_0242ac1c0002row4_col0,#T_7b34605e_531f_11eb_92b6_0242ac1c0002row4_col1,#T_7b34605e_531f_11eb_92b6_0242ac1c0002row4_col8,#T_7b34605e_531f_11eb_92b6_0242ac1c0002row8_col2,#T_7b34605e_531f_11eb_92b6_0242ac1c0002row8_col3,#T_7b34605e_531f_11eb_92b6_0242ac1c0002row8_col4{\n",
       "            background-color:  #440154;\n",
       "            color:  #f1f1f1;\n",
       "        }#T_7b34605e_531f_11eb_92b6_0242ac1c0002row0_col8,#T_7b34605e_531f_11eb_92b6_0242ac1c0002row7_col6{\n",
       "            background-color:  #25ac82;\n",
       "            color:  #000000;\n",
       "        }#T_7b34605e_531f_11eb_92b6_0242ac1c0002row1_col0,#T_7b34605e_531f_11eb_92b6_0242ac1c0002row2_col5{\n",
       "            background-color:  #31b57b;\n",
       "            color:  #000000;\n",
       "        }#T_7b34605e_531f_11eb_92b6_0242ac1c0002row1_col2{\n",
       "            background-color:  #218e8d;\n",
       "            color:  #000000;\n",
       "        }#T_7b34605e_531f_11eb_92b6_0242ac1c0002row1_col3,#T_7b34605e_531f_11eb_92b6_0242ac1c0002row5_col1{\n",
       "            background-color:  #20a486;\n",
       "            color:  #000000;\n",
       "        }#T_7b34605e_531f_11eb_92b6_0242ac1c0002row1_col4{\n",
       "            background-color:  #31678e;\n",
       "            color:  #f1f1f1;\n",
       "        }#T_7b34605e_531f_11eb_92b6_0242ac1c0002row1_col5,#T_7b34605e_531f_11eb_92b6_0242ac1c0002row2_col7,#T_7b34605e_531f_11eb_92b6_0242ac1c0002row5_col4{\n",
       "            background-color:  #1fa187;\n",
       "            color:  #000000;\n",
       "        }#T_7b34605e_531f_11eb_92b6_0242ac1c0002row1_col6{\n",
       "            background-color:  #2d718e;\n",
       "            color:  #f1f1f1;\n",
       "        }#T_7b34605e_531f_11eb_92b6_0242ac1c0002row1_col7,#T_7b34605e_531f_11eb_92b6_0242ac1c0002row3_col6{\n",
       "            background-color:  #63cb5f;\n",
       "            color:  #000000;\n",
       "        }#T_7b34605e_531f_11eb_92b6_0242ac1c0002row1_col8,#T_7b34605e_531f_11eb_92b6_0242ac1c0002row3_col5{\n",
       "            background-color:  #44bf70;\n",
       "            color:  #000000;\n",
       "        }#T_7b34605e_531f_11eb_92b6_0242ac1c0002row2_col0{\n",
       "            background-color:  #482374;\n",
       "            color:  #f1f1f1;\n",
       "        }#T_7b34605e_531f_11eb_92b6_0242ac1c0002row2_col1{\n",
       "            background-color:  #2c728e;\n",
       "            color:  #f1f1f1;\n",
       "        }#T_7b34605e_531f_11eb_92b6_0242ac1c0002row2_col3{\n",
       "            background-color:  #d5e21a;\n",
       "            color:  #000000;\n",
       "        }#T_7b34605e_531f_11eb_92b6_0242ac1c0002row2_col4{\n",
       "            background-color:  #a8db34;\n",
       "            color:  #000000;\n",
       "        }#T_7b34605e_531f_11eb_92b6_0242ac1c0002row2_col6,#T_7b34605e_531f_11eb_92b6_0242ac1c0002row7_col3{\n",
       "            background-color:  #7cd250;\n",
       "            color:  #000000;\n",
       "        }#T_7b34605e_531f_11eb_92b6_0242ac1c0002row2_col8{\n",
       "            background-color:  #423f85;\n",
       "            color:  #f1f1f1;\n",
       "        }#T_7b34605e_531f_11eb_92b6_0242ac1c0002row3_col0{\n",
       "            background-color:  #424186;\n",
       "            color:  #f1f1f1;\n",
       "        }#T_7b34605e_531f_11eb_92b6_0242ac1c0002row3_col1{\n",
       "            background-color:  #1e9d89;\n",
       "            color:  #000000;\n",
       "        }#T_7b34605e_531f_11eb_92b6_0242ac1c0002row3_col2{\n",
       "            background-color:  #dae319;\n",
       "            color:  #000000;\n",
       "        }#T_7b34605e_531f_11eb_92b6_0242ac1c0002row3_col4{\n",
       "            background-color:  #4cc26c;\n",
       "            color:  #000000;\n",
       "        }#T_7b34605e_531f_11eb_92b6_0242ac1c0002row3_col7,#T_7b34605e_531f_11eb_92b6_0242ac1c0002row5_col2{\n",
       "            background-color:  #50c46a;\n",
       "            color:  #000000;\n",
       "        }#T_7b34605e_531f_11eb_92b6_0242ac1c0002row3_col8{\n",
       "            background-color:  #375b8d;\n",
       "            color:  #f1f1f1;\n",
       "        }#T_7b34605e_531f_11eb_92b6_0242ac1c0002row4_col2{\n",
       "            background-color:  #95d840;\n",
       "            color:  #000000;\n",
       "        }#T_7b34605e_531f_11eb_92b6_0242ac1c0002row4_col3,#T_7b34605e_531f_11eb_92b6_0242ac1c0002row7_col8{\n",
       "            background-color:  #23a983;\n",
       "            color:  #000000;\n",
       "        }#T_7b34605e_531f_11eb_92b6_0242ac1c0002row4_col5{\n",
       "            background-color:  #306a8e;\n",
       "            color:  #f1f1f1;\n",
       "        }#T_7b34605e_531f_11eb_92b6_0242ac1c0002row4_col6{\n",
       "            background-color:  #5ec962;\n",
       "            color:  #000000;\n",
       "        }#T_7b34605e_531f_11eb_92b6_0242ac1c0002row4_col7{\n",
       "            background-color:  #481c6e;\n",
       "            color:  #f1f1f1;\n",
       "        }#T_7b34605e_531f_11eb_92b6_0242ac1c0002row5_col0{\n",
       "            background-color:  #3d4d8a;\n",
       "            color:  #f1f1f1;\n",
       "        }#T_7b34605e_531f_11eb_92b6_0242ac1c0002row5_col3,#T_7b34605e_531f_11eb_92b6_0242ac1c0002row7_col2{\n",
       "            background-color:  #52c569;\n",
       "            color:  #000000;\n",
       "        }#T_7b34605e_531f_11eb_92b6_0242ac1c0002row5_col6{\n",
       "            background-color:  #2db27d;\n",
       "            color:  #000000;\n",
       "        }#T_7b34605e_531f_11eb_92b6_0242ac1c0002row5_col7{\n",
       "            background-color:  #70cf57;\n",
       "            color:  #000000;\n",
       "        }#T_7b34605e_531f_11eb_92b6_0242ac1c0002row5_col8{\n",
       "            background-color:  #21918c;\n",
       "            color:  #000000;\n",
       "        }#T_7b34605e_531f_11eb_92b6_0242ac1c0002row6_col0{\n",
       "            background-color:  #472a7a;\n",
       "            color:  #f1f1f1;\n",
       "        }#T_7b34605e_531f_11eb_92b6_0242ac1c0002row6_col1{\n",
       "            background-color:  #365d8d;\n",
       "            color:  #f1f1f1;\n",
       "        }#T_7b34605e_531f_11eb_92b6_0242ac1c0002row6_col2{\n",
       "            background-color:  #86d549;\n",
       "            color:  #000000;\n",
       "        }#T_7b34605e_531f_11eb_92b6_0242ac1c0002row6_col3{\n",
       "            background-color:  #5cc863;\n",
       "            color:  #000000;\n",
       "        }#T_7b34605e_531f_11eb_92b6_0242ac1c0002row6_col4,#T_7b34605e_531f_11eb_92b6_0242ac1c0002row7_col1{\n",
       "            background-color:  #84d44b;\n",
       "            color:  #000000;\n",
       "        }#T_7b34605e_531f_11eb_92b6_0242ac1c0002row6_col5{\n",
       "            background-color:  #21a585;\n",
       "            color:  #000000;\n",
       "        }#T_7b34605e_531f_11eb_92b6_0242ac1c0002row6_col7{\n",
       "            background-color:  #26828e;\n",
       "            color:  #000000;\n",
       "        }#T_7b34605e_531f_11eb_92b6_0242ac1c0002row6_col8{\n",
       "            background-color:  #3a538b;\n",
       "            color:  #f1f1f1;\n",
       "        }#T_7b34605e_531f_11eb_92b6_0242ac1c0002row7_col0{\n",
       "            background-color:  #2b758e;\n",
       "            color:  #f1f1f1;\n",
       "        }#T_7b34605e_531f_11eb_92b6_0242ac1c0002row7_col4{\n",
       "            background-color:  #1f958b;\n",
       "            color:  #000000;\n",
       "        }#T_7b34605e_531f_11eb_92b6_0242ac1c0002row7_col5{\n",
       "            background-color:  #8bd646;\n",
       "            color:  #000000;\n",
       "        }#T_7b34605e_531f_11eb_92b6_0242ac1c0002row8_col0{\n",
       "            background-color:  #1e9c89;\n",
       "            color:  #000000;\n",
       "        }#T_7b34605e_531f_11eb_92b6_0242ac1c0002row8_col5,#T_7b34605e_531f_11eb_92b6_0242ac1c0002row8_col7{\n",
       "            background-color:  #3d4e8a;\n",
       "            color:  #f1f1f1;\n",
       "        }#T_7b34605e_531f_11eb_92b6_0242ac1c0002row8_col6{\n",
       "            background-color:  #450457;\n",
       "            color:  #f1f1f1;\n",
       "        }</style><table id=\"T_7b34605e_531f_11eb_92b6_0242ac1c0002\" ><thead>    <tr>        <th class=\"blank level0\" ></th>        <th class=\"col_heading level0 col0\" >High-technology exports (% of manufactured exports)</th>        <th class=\"col_heading level0 col1\" >High-technology exports (current US$)</th>        <th class=\"col_heading level0 col2\" >Trademark applications, total</th>        <th class=\"col_heading level0 col3\" >Trademark applications, direct resident</th>        <th class=\"col_heading level0 col4\" >Trademark applications, direct nonresident</th>        <th class=\"col_heading level0 col5\" >Patent applications, residents</th>        <th class=\"col_heading level0 col6\" >Patent applications, nonresidents</th>        <th class=\"col_heading level0 col7\" >Scientific and technical journal articles</th>        <th class=\"col_heading level0 col8\" >Research and development expenditure (% of GDP)</th>    </tr></thead><tbody>\n",
       "                <tr>\n",
       "                        <th id=\"T_7b34605e_531f_11eb_92b6_0242ac1c0002level0_row0\" class=\"row_heading level0 row0\" >High-technology exports (% of manufactured exports)</th>\n",
       "                        <td id=\"T_7b34605e_531f_11eb_92b6_0242ac1c0002row0_col0\" class=\"data row0 col0\" >1.000000</td>\n",
       "                        <td id=\"T_7b34605e_531f_11eb_92b6_0242ac1c0002row0_col1\" class=\"data row0 col1\" >0.721448</td>\n",
       "                        <td id=\"T_7b34605e_531f_11eb_92b6_0242ac1c0002row0_col2\" class=\"data row0 col2\" >0.273756</td>\n",
       "                        <td id=\"T_7b34605e_531f_11eb_92b6_0242ac1c0002row0_col3\" class=\"data row0 col3\" >0.352127</td>\n",
       "                        <td id=\"T_7b34605e_531f_11eb_92b6_0242ac1c0002row0_col4\" class=\"data row0 col4\" >0.196380</td>\n",
       "                        <td id=\"T_7b34605e_531f_11eb_92b6_0242ac1c0002row0_col5\" class=\"data row0 col5\" >0.384226</td>\n",
       "                        <td id=\"T_7b34605e_531f_11eb_92b6_0242ac1c0002row0_col6\" class=\"data row0 col6\" >0.290776</td>\n",
       "                        <td id=\"T_7b34605e_531f_11eb_92b6_0242ac1c0002row0_col7\" class=\"data row0 col7\" >0.510045</td>\n",
       "                        <td id=\"T_7b34605e_531f_11eb_92b6_0242ac1c0002row0_col8\" class=\"data row0 col8\" >0.636471</td>\n",
       "            </tr>\n",
       "            <tr>\n",
       "                        <th id=\"T_7b34605e_531f_11eb_92b6_0242ac1c0002level0_row1\" class=\"row_heading level0 row1\" >High-technology exports (current US$)</th>\n",
       "                        <td id=\"T_7b34605e_531f_11eb_92b6_0242ac1c0002row1_col0\" class=\"data row1 col0\" >0.721448</td>\n",
       "                        <td id=\"T_7b34605e_531f_11eb_92b6_0242ac1c0002row1_col1\" class=\"data row1 col1\" >1.000000</td>\n",
       "                        <td id=\"T_7b34605e_531f_11eb_92b6_0242ac1c0002row1_col2\" class=\"data row1 col2\" >0.605882</td>\n",
       "                        <td id=\"T_7b34605e_531f_11eb_92b6_0242ac1c0002row1_col3\" class=\"data row1 col3\" >0.718733</td>\n",
       "                        <td id=\"T_7b34605e_531f_11eb_92b6_0242ac1c0002row1_col4\" class=\"data row1 col4\" >0.368959</td>\n",
       "                        <td id=\"T_7b34605e_531f_11eb_92b6_0242ac1c0002row1_col5\" class=\"data row1 col5\" >0.737273</td>\n",
       "                        <td id=\"T_7b34605e_531f_11eb_92b6_0242ac1c0002row1_col6\" class=\"data row1 col6\" >0.551641</td>\n",
       "                        <td id=\"T_7b34605e_531f_11eb_92b6_0242ac1c0002row1_col7\" class=\"data row1 col7\" >0.882262</td>\n",
       "                        <td id=\"T_7b34605e_531f_11eb_92b6_0242ac1c0002row1_col8\" class=\"data row1 col8\" >0.719548</td>\n",
       "            </tr>\n",
       "            <tr>\n",
       "                        <th id=\"T_7b34605e_531f_11eb_92b6_0242ac1c0002level0_row2\" class=\"row_heading level0 row2\" >Trademark applications, total</th>\n",
       "                        <td id=\"T_7b34605e_531f_11eb_92b6_0242ac1c0002row2_col0\" class=\"data row2 col0\" >0.273756</td>\n",
       "                        <td id=\"T_7b34605e_531f_11eb_92b6_0242ac1c0002row2_col1\" class=\"data row2 col1\" >0.605882</td>\n",
       "                        <td id=\"T_7b34605e_531f_11eb_92b6_0242ac1c0002row2_col2\" class=\"data row2 col2\" >1.000000</td>\n",
       "                        <td id=\"T_7b34605e_531f_11eb_92b6_0242ac1c0002row2_col3\" class=\"data row2 col3\" >0.955928</td>\n",
       "                        <td id=\"T_7b34605e_531f_11eb_92b6_0242ac1c0002row2_col4\" class=\"data row2 col4\" >0.877828</td>\n",
       "                        <td id=\"T_7b34605e_531f_11eb_92b6_0242ac1c0002row2_col5\" class=\"data row2 col5\" >0.786732</td>\n",
       "                        <td id=\"T_7b34605e_531f_11eb_92b6_0242ac1c0002row2_col6\" class=\"data row2 col6\" >0.861060</td>\n",
       "                        <td id=\"T_7b34605e_531f_11eb_92b6_0242ac1c0002row2_col7\" class=\"data row2 col7\" >0.789502</td>\n",
       "                        <td id=\"T_7b34605e_531f_11eb_92b6_0242ac1c0002row2_col8\" class=\"data row2 col8\" >0.229502</td>\n",
       "            </tr>\n",
       "            <tr>\n",
       "                        <th id=\"T_7b34605e_531f_11eb_92b6_0242ac1c0002level0_row3\" class=\"row_heading level0 row3\" >Trademark applications, direct resident</th>\n",
       "                        <td id=\"T_7b34605e_531f_11eb_92b6_0242ac1c0002row3_col0\" class=\"data row3 col0\" >0.352127</td>\n",
       "                        <td id=\"T_7b34605e_531f_11eb_92b6_0242ac1c0002row3_col1\" class=\"data row3 col1\" >0.718733</td>\n",
       "                        <td id=\"T_7b34605e_531f_11eb_92b6_0242ac1c0002row3_col2\" class=\"data row3 col2\" >0.955928</td>\n",
       "                        <td id=\"T_7b34605e_531f_11eb_92b6_0242ac1c0002row3_col3\" class=\"data row3 col3\" >1.000000</td>\n",
       "                        <td id=\"T_7b34605e_531f_11eb_92b6_0242ac1c0002row3_col4\" class=\"data row3 col4\" >0.731674</td>\n",
       "                        <td id=\"T_7b34605e_531f_11eb_92b6_0242ac1c0002row3_col5\" class=\"data row3 col5\" >0.816327</td>\n",
       "                        <td id=\"T_7b34605e_531f_11eb_92b6_0242ac1c0002row3_col6\" class=\"data row3 col6\" >0.829114</td>\n",
       "                        <td id=\"T_7b34605e_531f_11eb_92b6_0242ac1c0002row3_col7\" class=\"data row3 col7\" >0.865520</td>\n",
       "                        <td id=\"T_7b34605e_531f_11eb_92b6_0242ac1c0002row3_col8\" class=\"data row3 col8\" >0.323348</td>\n",
       "            </tr>\n",
       "            <tr>\n",
       "                        <th id=\"T_7b34605e_531f_11eb_92b6_0242ac1c0002level0_row4\" class=\"row_heading level0 row4\" >Trademark applications, direct nonresident</th>\n",
       "                        <td id=\"T_7b34605e_531f_11eb_92b6_0242ac1c0002row4_col0\" class=\"data row4 col0\" >0.196380</td>\n",
       "                        <td id=\"T_7b34605e_531f_11eb_92b6_0242ac1c0002row4_col1\" class=\"data row4 col1\" >0.368959</td>\n",
       "                        <td id=\"T_7b34605e_531f_11eb_92b6_0242ac1c0002row4_col2\" class=\"data row4 col2\" >0.877828</td>\n",
       "                        <td id=\"T_7b34605e_531f_11eb_92b6_0242ac1c0002row4_col3\" class=\"data row4 col3\" >0.731674</td>\n",
       "                        <td id=\"T_7b34605e_531f_11eb_92b6_0242ac1c0002row4_col4\" class=\"data row4 col4\" >1.000000</td>\n",
       "                        <td id=\"T_7b34605e_531f_11eb_92b6_0242ac1c0002row4_col5\" class=\"data row4 col5\" >0.595774</td>\n",
       "                        <td id=\"T_7b34605e_531f_11eb_92b6_0242ac1c0002row4_col6\" class=\"data row4 col6\" >0.823412</td>\n",
       "                        <td id=\"T_7b34605e_531f_11eb_92b6_0242ac1c0002row4_col7\" class=\"data row4 col7\" >0.547783</td>\n",
       "                        <td id=\"T_7b34605e_531f_11eb_92b6_0242ac1c0002row4_col8\" class=\"data row4 col8\" >0.055475</td>\n",
       "            </tr>\n",
       "            <tr>\n",
       "                        <th id=\"T_7b34605e_531f_11eb_92b6_0242ac1c0002level0_row5\" class=\"row_heading level0 row5\" >Patent applications, residents</th>\n",
       "                        <td id=\"T_7b34605e_531f_11eb_92b6_0242ac1c0002row5_col0\" class=\"data row5 col0\" >0.384226</td>\n",
       "                        <td id=\"T_7b34605e_531f_11eb_92b6_0242ac1c0002row5_col1\" class=\"data row5 col1\" >0.737273</td>\n",
       "                        <td id=\"T_7b34605e_531f_11eb_92b6_0242ac1c0002row5_col2\" class=\"data row5 col2\" >0.786732</td>\n",
       "                        <td id=\"T_7b34605e_531f_11eb_92b6_0242ac1c0002row5_col3\" class=\"data row5 col3\" >0.816327</td>\n",
       "                        <td id=\"T_7b34605e_531f_11eb_92b6_0242ac1c0002row5_col4\" class=\"data row5 col4\" >0.595774</td>\n",
       "                        <td id=\"T_7b34605e_531f_11eb_92b6_0242ac1c0002row5_col5\" class=\"data row5 col5\" >1.000000</td>\n",
       "                        <td id=\"T_7b34605e_531f_11eb_92b6_0242ac1c0002row5_col6\" class=\"data row5 col6\" >0.746114</td>\n",
       "                        <td id=\"T_7b34605e_531f_11eb_92b6_0242ac1c0002row5_col7\" class=\"data row5 col7\" >0.893841</td>\n",
       "                        <td id=\"T_7b34605e_531f_11eb_92b6_0242ac1c0002row5_col8\" class=\"data row5 col8\" >0.530884</td>\n",
       "            </tr>\n",
       "            <tr>\n",
       "                        <th id=\"T_7b34605e_531f_11eb_92b6_0242ac1c0002level0_row6\" class=\"row_heading level0 row6\" >Patent applications, nonresidents</th>\n",
       "                        <td id=\"T_7b34605e_531f_11eb_92b6_0242ac1c0002row6_col0\" class=\"data row6 col0\" >0.290776</td>\n",
       "                        <td id=\"T_7b34605e_531f_11eb_92b6_0242ac1c0002row6_col1\" class=\"data row6 col1\" >0.551641</td>\n",
       "                        <td id=\"T_7b34605e_531f_11eb_92b6_0242ac1c0002row6_col2\" class=\"data row6 col2\" >0.861060</td>\n",
       "                        <td id=\"T_7b34605e_531f_11eb_92b6_0242ac1c0002row6_col3\" class=\"data row6 col3\" >0.829114</td>\n",
       "                        <td id=\"T_7b34605e_531f_11eb_92b6_0242ac1c0002row6_col4\" class=\"data row6 col4\" >0.823412</td>\n",
       "                        <td id=\"T_7b34605e_531f_11eb_92b6_0242ac1c0002row6_col5\" class=\"data row6 col5\" >0.746114</td>\n",
       "                        <td id=\"T_7b34605e_531f_11eb_92b6_0242ac1c0002row6_col6\" class=\"data row6 col6\" >1.000000</td>\n",
       "                        <td id=\"T_7b34605e_531f_11eb_92b6_0242ac1c0002row6_col7\" class=\"data row6 col7\" >0.726080</td>\n",
       "                        <td id=\"T_7b34605e_531f_11eb_92b6_0242ac1c0002row6_col8\" class=\"data row6 col8\" >0.298333</td>\n",
       "            </tr>\n",
       "            <tr>\n",
       "                        <th id=\"T_7b34605e_531f_11eb_92b6_0242ac1c0002level0_row7\" class=\"row_heading level0 row7\" >Scientific and technical journal articles</th>\n",
       "                        <td id=\"T_7b34605e_531f_11eb_92b6_0242ac1c0002row7_col0\" class=\"data row7 col0\" >0.510045</td>\n",
       "                        <td id=\"T_7b34605e_531f_11eb_92b6_0242ac1c0002row7_col1\" class=\"data row7 col1\" >0.882262</td>\n",
       "                        <td id=\"T_7b34605e_531f_11eb_92b6_0242ac1c0002row7_col2\" class=\"data row7 col2\" >0.789502</td>\n",
       "                        <td id=\"T_7b34605e_531f_11eb_92b6_0242ac1c0002row7_col3\" class=\"data row7 col3\" >0.865520</td>\n",
       "                        <td id=\"T_7b34605e_531f_11eb_92b6_0242ac1c0002row7_col4\" class=\"data row7 col4\" >0.547783</td>\n",
       "                        <td id=\"T_7b34605e_531f_11eb_92b6_0242ac1c0002row7_col5\" class=\"data row7 col5\" >0.893841</td>\n",
       "                        <td id=\"T_7b34605e_531f_11eb_92b6_0242ac1c0002row7_col6\" class=\"data row7 col6\" >0.726080</td>\n",
       "                        <td id=\"T_7b34605e_531f_11eb_92b6_0242ac1c0002row7_col7\" class=\"data row7 col7\" >1.000000</td>\n",
       "                        <td id=\"T_7b34605e_531f_11eb_92b6_0242ac1c0002row7_col8\" class=\"data row7 col8\" >0.625339</td>\n",
       "            </tr>\n",
       "            <tr>\n",
       "                        <th id=\"T_7b34605e_531f_11eb_92b6_0242ac1c0002level0_row8\" class=\"row_heading level0 row8\" >Research and development expenditure (% of GDP)</th>\n",
       "                        <td id=\"T_7b34605e_531f_11eb_92b6_0242ac1c0002row8_col0\" class=\"data row8 col0\" >0.636471</td>\n",
       "                        <td id=\"T_7b34605e_531f_11eb_92b6_0242ac1c0002row8_col1\" class=\"data row8 col1\" >0.719548</td>\n",
       "                        <td id=\"T_7b34605e_531f_11eb_92b6_0242ac1c0002row8_col2\" class=\"data row8 col2\" >0.229502</td>\n",
       "                        <td id=\"T_7b34605e_531f_11eb_92b6_0242ac1c0002row8_col3\" class=\"data row8 col3\" >0.323348</td>\n",
       "                        <td id=\"T_7b34605e_531f_11eb_92b6_0242ac1c0002row8_col4\" class=\"data row8 col4\" >0.055475</td>\n",
       "                        <td id=\"T_7b34605e_531f_11eb_92b6_0242ac1c0002row8_col5\" class=\"data row8 col5\" >0.530884</td>\n",
       "                        <td id=\"T_7b34605e_531f_11eb_92b6_0242ac1c0002row8_col6\" class=\"data row8 col6\" >0.298333</td>\n",
       "                        <td id=\"T_7b34605e_531f_11eb_92b6_0242ac1c0002row8_col7\" class=\"data row8 col7\" >0.625339</td>\n",
       "                        <td id=\"T_7b34605e_531f_11eb_92b6_0242ac1c0002row8_col8\" class=\"data row8 col8\" >1.000000</td>\n",
       "            </tr>\n",
       "    </tbody></table>"
      ],
      "text/plain": [
       "<pandas.io.formats.style.Styler at 0x7f2e2f9f2400>"
      ]
     },
     "execution_count": 55,
     "metadata": {
      "tags": []
     },
     "output_type": "execute_result"
    }
   ],
   "source": [
    "st_data_2018_clean.corr(method='spearman').style.background_gradient(cmap='viridis')"
   ]
  },
  {
   "cell_type": "code",
   "execution_count": 56,
   "metadata": {
    "colab": {
     "base_uri": "https://localhost:8080/",
     "height": 297
    },
    "id": "Y-cRM8soc777",
    "outputId": "bd3506c7-eeb3-447a-a0ac-3c8d04bf9883"
   },
   "outputs": [
    {
     "data": {
      "text/plain": [
       "<matplotlib.axes._subplots.AxesSubplot at 0x7f2e2fb90ef0>"
      ]
     },
     "execution_count": 56,
     "metadata": {
      "tags": []
     },
     "output_type": "execute_result"
    },
    {
     "data": {
      "image/png": "[encoded data removed]",
      "text/plain": [
       "<Figure size 432x288 with 1 Axes>"
      ]
     },
     "metadata": {
      "needs_background": "light",
      "tags": []
     },
     "output_type": "display_data"
    }
   ],
   "source": [
    "st_data_2018_clean.plot.scatter(x='Scientific and technical journal articles', y = 'Patent applications, nonresidents')"
   ]
  },
  {
   "cell_type": "code",
   "execution_count": 57,
   "metadata": {
    "id": "e90MZyaNdqT0"
   },
   "outputs": [],
   "source": [
    "st_data_2018_nonUS = st_data_2018_clean[st_data_2018_clean['Country Name'] != 'United States']"
   ]
  },
  {
   "cell_type": "code",
   "execution_count": 59,
   "metadata": {
    "colab": {
     "base_uri": "https://localhost:8080/",
     "height": 297
    },
    "id": "n9UwimqNeEoL",
    "outputId": "d3d037fb-13ba-451d-f1a9-5d9cb684a1ce"
   },
   "outputs": [
    {
     "data": {
      "text/plain": [
       "<matplotlib.axes._subplots.AxesSubplot at 0x7f2e2f9f4c18>"
      ]
     },
     "execution_count": 59,
     "metadata": {
      "tags": []
     },
     "output_type": "execute_result"
    },
    {
     "data": {
      "image/png": "[encoded data removed]",
      "text/plain": [
       "<Figure size 432x288 with 1 Axes>"
      ]
     },
     "metadata": {
      "needs_background": "light",
      "tags": []
     },
     "output_type": "display_data"
    }
   ],
   "source": [
    "st_data_2018_nonUS.plot.scatter(x='Scientific and technical journal articles', y = 'Patent applications, nonresidents')"
   ]
  },
  {
   "cell_type": "code",
   "execution_count": 60,
   "metadata": {
    "colab": {
     "base_uri": "https://localhost:8080/",
     "height": 749
    },
    "id": "C_a8N3cQePwv",
    "outputId": "41018302-677a-4f46-fdba-56650f6dd80f"
   },
   "outputs": [
    {
     "data": {
      "text/html": [
       "<style  type=\"text/css\" >\n",
       "#T_7f3b833e_5320_11eb_92b6_0242ac1c0002row0_col0,#T_7f3b833e_5320_11eb_92b6_0242ac1c0002row1_col1,#T_7f3b833e_5320_11eb_92b6_0242ac1c0002row2_col2,#T_7f3b833e_5320_11eb_92b6_0242ac1c0002row2_col3,#T_7f3b833e_5320_11eb_92b6_0242ac1c0002row3_col2,#T_7f3b833e_5320_11eb_92b6_0242ac1c0002row3_col3,#T_7f3b833e_5320_11eb_92b6_0242ac1c0002row4_col4,#T_7f3b833e_5320_11eb_92b6_0242ac1c0002row5_col5,#T_7f3b833e_5320_11eb_92b6_0242ac1c0002row6_col6,#T_7f3b833e_5320_11eb_92b6_0242ac1c0002row7_col7,#T_7f3b833e_5320_11eb_92b6_0242ac1c0002row8_col8{\n",
       "            background-color:  #fde725;\n",
       "            color:  #000000;\n",
       "        }#T_7f3b833e_5320_11eb_92b6_0242ac1c0002row0_col1{\n",
       "            background-color:  #46307e;\n",
       "            color:  #f1f1f1;\n",
       "        }#T_7f3b833e_5320_11eb_92b6_0242ac1c0002row0_col2{\n",
       "            background-color:  #482173;\n",
       "            color:  #f1f1f1;\n",
       "        }#T_7f3b833e_5320_11eb_92b6_0242ac1c0002row0_col3{\n",
       "            background-color:  #482071;\n",
       "            color:  #f1f1f1;\n",
       "        }#T_7f3b833e_5320_11eb_92b6_0242ac1c0002row0_col4{\n",
       "            background-color:  #472f7d;\n",
       "            color:  #f1f1f1;\n",
       "        }#T_7f3b833e_5320_11eb_92b6_0242ac1c0002row0_col5,#T_7f3b833e_5320_11eb_92b6_0242ac1c0002row0_col6,#T_7f3b833e_5320_11eb_92b6_0242ac1c0002row0_col7,#T_7f3b833e_5320_11eb_92b6_0242ac1c0002row3_col0,#T_7f3b833e_5320_11eb_92b6_0242ac1c0002row3_col8,#T_7f3b833e_5320_11eb_92b6_0242ac1c0002row8_col1,#T_7f3b833e_5320_11eb_92b6_0242ac1c0002row8_col2,#T_7f3b833e_5320_11eb_92b6_0242ac1c0002row8_col3,#T_7f3b833e_5320_11eb_92b6_0242ac1c0002row8_col4{\n",
       "            background-color:  #440154;\n",
       "            color:  #f1f1f1;\n",
       "        }#T_7f3b833e_5320_11eb_92b6_0242ac1c0002row0_col8,#T_7f3b833e_5320_11eb_92b6_0242ac1c0002row1_col0{\n",
       "            background-color:  #34608d;\n",
       "            color:  #f1f1f1;\n",
       "        }#T_7f3b833e_5320_11eb_92b6_0242ac1c0002row1_col2,#T_7f3b833e_5320_11eb_92b6_0242ac1c0002row3_col4{\n",
       "            background-color:  #93d741;\n",
       "            color:  #000000;\n",
       "        }#T_7f3b833e_5320_11eb_92b6_0242ac1c0002row1_col3{\n",
       "            background-color:  #90d743;\n",
       "            color:  #000000;\n",
       "        }#T_7f3b833e_5320_11eb_92b6_0242ac1c0002row1_col4{\n",
       "            background-color:  #63cb5f;\n",
       "            color:  #000000;\n",
       "        }#T_7f3b833e_5320_11eb_92b6_0242ac1c0002row1_col5{\n",
       "            background-color:  #37b878;\n",
       "            color:  #000000;\n",
       "        }#T_7f3b833e_5320_11eb_92b6_0242ac1c0002row1_col6,#T_7f3b833e_5320_11eb_92b6_0242ac1c0002row2_col6{\n",
       "            background-color:  #228d8d;\n",
       "            color:  #000000;\n",
       "        }#T_7f3b833e_5320_11eb_92b6_0242ac1c0002row1_col7,#T_7f3b833e_5320_11eb_92b6_0242ac1c0002row7_col5{\n",
       "            background-color:  #4ec36b;\n",
       "            color:  #000000;\n",
       "        }#T_7f3b833e_5320_11eb_92b6_0242ac1c0002row1_col8{\n",
       "            background-color:  #39558c;\n",
       "            color:  #f1f1f1;\n",
       "        }#T_7f3b833e_5320_11eb_92b6_0242ac1c0002row2_col0,#T_7f3b833e_5320_11eb_92b6_0242ac1c0002row6_col0{\n",
       "            background-color:  #450559;\n",
       "            color:  #f1f1f1;\n",
       "        }#T_7f3b833e_5320_11eb_92b6_0242ac1c0002row2_col1{\n",
       "            background-color:  #70cf57;\n",
       "            color:  #000000;\n",
       "        }#T_7f3b833e_5320_11eb_92b6_0242ac1c0002row2_col4{\n",
       "            background-color:  #a5db36;\n",
       "            color:  #000000;\n",
       "        }#T_7f3b833e_5320_11eb_92b6_0242ac1c0002row2_col5{\n",
       "            background-color:  #1fa188;\n",
       "            color:  #000000;\n",
       "        }#T_7f3b833e_5320_11eb_92b6_0242ac1c0002row2_col7{\n",
       "            background-color:  #42be71;\n",
       "            color:  #000000;\n",
       "        }#T_7f3b833e_5320_11eb_92b6_0242ac1c0002row2_col8{\n",
       "            background-color:  #440256;\n",
       "            color:  #f1f1f1;\n",
       "        }#T_7f3b833e_5320_11eb_92b6_0242ac1c0002row3_col1{\n",
       "            background-color:  #6ccd5a;\n",
       "            color:  #000000;\n",
       "        }#T_7f3b833e_5320_11eb_92b6_0242ac1c0002row3_col5{\n",
       "            background-color:  #1e9d89;\n",
       "            color:  #000000;\n",
       "        }#T_7f3b833e_5320_11eb_92b6_0242ac1c0002row3_col6{\n",
       "            background-color:  #24868e;\n",
       "            color:  #000000;\n",
       "        }#T_7f3b833e_5320_11eb_92b6_0242ac1c0002row3_col7{\n",
       "            background-color:  #3bbb75;\n",
       "            color:  #000000;\n",
       "        }#T_7f3b833e_5320_11eb_92b6_0242ac1c0002row4_col0{\n",
       "            background-color:  #482475;\n",
       "            color:  #f1f1f1;\n",
       "        }#T_7f3b833e_5320_11eb_92b6_0242ac1c0002row4_col1{\n",
       "            background-color:  #40bd72;\n",
       "            color:  #000000;\n",
       "        }#T_7f3b833e_5320_11eb_92b6_0242ac1c0002row4_col2{\n",
       "            background-color:  #aadc32;\n",
       "            color:  #000000;\n",
       "        }#T_7f3b833e_5320_11eb_92b6_0242ac1c0002row4_col3{\n",
       "            background-color:  #98d83e;\n",
       "            color:  #000000;\n",
       "        }#T_7f3b833e_5320_11eb_92b6_0242ac1c0002row4_col5{\n",
       "            background-color:  #29af7f;\n",
       "            color:  #000000;\n",
       "        }#T_7f3b833e_5320_11eb_92b6_0242ac1c0002row4_col6{\n",
       "            background-color:  #2db27d;\n",
       "            color:  #000000;\n",
       "        }#T_7f3b833e_5320_11eb_92b6_0242ac1c0002row4_col7,#T_7f3b833e_5320_11eb_92b6_0242ac1c0002row7_col2{\n",
       "            background-color:  #50c46a;\n",
       "            color:  #000000;\n",
       "        }#T_7f3b833e_5320_11eb_92b6_0242ac1c0002row4_col8{\n",
       "            background-color:  #481467;\n",
       "            color:  #f1f1f1;\n",
       "        }#T_7f3b833e_5320_11eb_92b6_0242ac1c0002row5_col0{\n",
       "            background-color:  #481668;\n",
       "            color:  #f1f1f1;\n",
       "        }#T_7f3b833e_5320_11eb_92b6_0242ac1c0002row5_col1,#T_7f3b833e_5320_11eb_92b6_0242ac1c0002row5_col3{\n",
       "            background-color:  #25ac82;\n",
       "            color:  #000000;\n",
       "        }#T_7f3b833e_5320_11eb_92b6_0242ac1c0002row5_col2{\n",
       "            background-color:  #28ae80;\n",
       "            color:  #000000;\n",
       "        }#T_7f3b833e_5320_11eb_92b6_0242ac1c0002row5_col4{\n",
       "            background-color:  #35b779;\n",
       "            color:  #000000;\n",
       "        }#T_7f3b833e_5320_11eb_92b6_0242ac1c0002row5_col6{\n",
       "            background-color:  #3fbc73;\n",
       "            color:  #000000;\n",
       "        }#T_7f3b833e_5320_11eb_92b6_0242ac1c0002row5_col7{\n",
       "            background-color:  #52c569;\n",
       "            color:  #000000;\n",
       "        }#T_7f3b833e_5320_11eb_92b6_0242ac1c0002row5_col8{\n",
       "            background-color:  #355e8d;\n",
       "            color:  #f1f1f1;\n",
       "        }#T_7f3b833e_5320_11eb_92b6_0242ac1c0002row6_col1{\n",
       "            background-color:  #2c718e;\n",
       "            color:  #f1f1f1;\n",
       "        }#T_7f3b833e_5320_11eb_92b6_0242ac1c0002row6_col2{\n",
       "            background-color:  #1f988b;\n",
       "            color:  #000000;\n",
       "        }#T_7f3b833e_5320_11eb_92b6_0242ac1c0002row6_col3{\n",
       "            background-color:  #20938c;\n",
       "            color:  #000000;\n",
       "        }#T_7f3b833e_5320_11eb_92b6_0242ac1c0002row6_col4,#T_7f3b833e_5320_11eb_92b6_0242ac1c0002row7_col1{\n",
       "            background-color:  #34b679;\n",
       "            color:  #000000;\n",
       "        }#T_7f3b833e_5320_11eb_92b6_0242ac1c0002row6_col5{\n",
       "            background-color:  #38b977;\n",
       "            color:  #000000;\n",
       "        }#T_7f3b833e_5320_11eb_92b6_0242ac1c0002row6_col7,#T_7f3b833e_5320_11eb_92b6_0242ac1c0002row7_col6{\n",
       "            background-color:  #bddf26;\n",
       "            color:  #000000;\n",
       "        }#T_7f3b833e_5320_11eb_92b6_0242ac1c0002row6_col8{\n",
       "            background-color:  #443b84;\n",
       "            color:  #f1f1f1;\n",
       "        }#T_7f3b833e_5320_11eb_92b6_0242ac1c0002row7_col0{\n",
       "            background-color:  #46085c;\n",
       "            color:  #f1f1f1;\n",
       "        }#T_7f3b833e_5320_11eb_92b6_0242ac1c0002row7_col3{\n",
       "            background-color:  #4cc26c;\n",
       "            color:  #000000;\n",
       "        }#T_7f3b833e_5320_11eb_92b6_0242ac1c0002row7_col4{\n",
       "            background-color:  #58c765;\n",
       "            color:  #000000;\n",
       "        }#T_7f3b833e_5320_11eb_92b6_0242ac1c0002row7_col8{\n",
       "            background-color:  #3e4989;\n",
       "            color:  #f1f1f1;\n",
       "        }#T_7f3b833e_5320_11eb_92b6_0242ac1c0002row8_col0{\n",
       "            background-color:  #3d4e8a;\n",
       "            color:  #f1f1f1;\n",
       "        }#T_7f3b833e_5320_11eb_92b6_0242ac1c0002row8_col5{\n",
       "            background-color:  #433e85;\n",
       "            color:  #f1f1f1;\n",
       "        }#T_7f3b833e_5320_11eb_92b6_0242ac1c0002row8_col6{\n",
       "            background-color:  #481f70;\n",
       "            color:  #f1f1f1;\n",
       "        }#T_7f3b833e_5320_11eb_92b6_0242ac1c0002row8_col7{\n",
       "            background-color:  #472e7c;\n",
       "            color:  #f1f1f1;\n",
       "        }</style><table id=\"T_7f3b833e_5320_11eb_92b6_0242ac1c0002\" ><thead>    <tr>        <th class=\"blank level0\" ></th>        <th class=\"col_heading level0 col0\" >High-technology exports (% of manufactured exports)</th>        <th class=\"col_heading level0 col1\" >High-technology exports (current US$)</th>        <th class=\"col_heading level0 col2\" >Trademark applications, total</th>        <th class=\"col_heading level0 col3\" >Trademark applications, direct resident</th>        <th class=\"col_heading level0 col4\" >Trademark applications, direct nonresident</th>        <th class=\"col_heading level0 col5\" >Patent applications, residents</th>        <th class=\"col_heading level0 col6\" >Patent applications, nonresidents</th>        <th class=\"col_heading level0 col7\" >Scientific and technical journal articles</th>        <th class=\"col_heading level0 col8\" >Research and development expenditure (% of GDP)</th>    </tr></thead><tbody>\n",
       "                <tr>\n",
       "                        <th id=\"T_7f3b833e_5320_11eb_92b6_0242ac1c0002level0_row0\" class=\"row_heading level0 row0\" >High-technology exports (% of manufactured exports)</th>\n",
       "                        <td id=\"T_7f3b833e_5320_11eb_92b6_0242ac1c0002row0_col0\" class=\"data row0 col0\" >1.000000</td>\n",
       "                        <td id=\"T_7f3b833e_5320_11eb_92b6_0242ac1c0002row0_col1\" class=\"data row0 col1\" >0.451715</td>\n",
       "                        <td id=\"T_7f3b833e_5320_11eb_92b6_0242ac1c0002row0_col2\" class=\"data row0 col2\" >0.221760</td>\n",
       "                        <td id=\"T_7f3b833e_5320_11eb_92b6_0242ac1c0002row0_col3\" class=\"data row0 col3\" >0.212037</td>\n",
       "                        <td id=\"T_7f3b833e_5320_11eb_92b6_0242ac1c0002row0_col4\" class=\"data row0 col4\" >0.290795</td>\n",
       "                        <td id=\"T_7f3b833e_5320_11eb_92b6_0242ac1c0002row0_col5\" class=\"data row0 col5\" >0.257387</td>\n",
       "                        <td id=\"T_7f3b833e_5320_11eb_92b6_0242ac1c0002row0_col6\" class=\"data row0 col6\" >0.223541</td>\n",
       "                        <td id=\"T_7f3b833e_5320_11eb_92b6_0242ac1c0002row0_col7\" class=\"data row0 col7\" >0.229710</td>\n",
       "                        <td id=\"T_7f3b833e_5320_11eb_92b6_0242ac1c0002row0_col8\" class=\"data row0 col8\" >0.398800</td>\n",
       "            </tr>\n",
       "            <tr>\n",
       "                        <th id=\"T_7f3b833e_5320_11eb_92b6_0242ac1c0002level0_row1\" class=\"row_heading level0 row1\" >High-technology exports (current US$)</th>\n",
       "                        <td id=\"T_7f3b833e_5320_11eb_92b6_0242ac1c0002row1_col0\" class=\"data row1 col0\" >0.451715</td>\n",
       "                        <td id=\"T_7f3b833e_5320_11eb_92b6_0242ac1c0002row1_col1\" class=\"data row1 col1\" >1.000000</td>\n",
       "                        <td id=\"T_7f3b833e_5320_11eb_92b6_0242ac1c0002row1_col2\" class=\"data row1 col2\" >0.860977</td>\n",
       "                        <td id=\"T_7f3b833e_5320_11eb_92b6_0242ac1c0002row1_col3\" class=\"data row1 col3\" >0.856190</td>\n",
       "                        <td id=\"T_7f3b833e_5320_11eb_92b6_0242ac1c0002row1_col4\" class=\"data row1 col4\" >0.804809</td>\n",
       "                        <td id=\"T_7f3b833e_5320_11eb_92b6_0242ac1c0002row1_col5\" class=\"data row1 col5\" >0.755353</td>\n",
       "                        <td id=\"T_7f3b833e_5320_11eb_92b6_0242ac1c0002row1_col6\" class=\"data row1 col6\" >0.601401</td>\n",
       "                        <td id=\"T_7f3b833e_5320_11eb_92b6_0242ac1c0002row1_col7\" class=\"data row1 col7\" >0.784358</td>\n",
       "                        <td id=\"T_7f3b833e_5320_11eb_92b6_0242ac1c0002row1_col8\" class=\"data row1 col8\" >0.364458</td>\n",
       "            </tr>\n",
       "            <tr>\n",
       "                        <th id=\"T_7f3b833e_5320_11eb_92b6_0242ac1c0002level0_row2\" class=\"row_heading level0 row2\" >Trademark applications, total</th>\n",
       "                        <td id=\"T_7f3b833e_5320_11eb_92b6_0242ac1c0002row2_col0\" class=\"data row2 col0\" >0.221760</td>\n",
       "                        <td id=\"T_7f3b833e_5320_11eb_92b6_0242ac1c0002row2_col1\" class=\"data row2 col1\" >0.860977</td>\n",
       "                        <td id=\"T_7f3b833e_5320_11eb_92b6_0242ac1c0002row2_col2\" class=\"data row2 col2\" >1.000000</td>\n",
       "                        <td id=\"T_7f3b833e_5320_11eb_92b6_0242ac1c0002row2_col3\" class=\"data row2 col3\" >0.998930</td>\n",
       "                        <td id=\"T_7f3b833e_5320_11eb_92b6_0242ac1c0002row2_col4\" class=\"data row2 col4\" >0.890599</td>\n",
       "                        <td id=\"T_7f3b833e_5320_11eb_92b6_0242ac1c0002row2_col5\" class=\"data row2 col5\" >0.679947</td>\n",
       "                        <td id=\"T_7f3b833e_5320_11eb_92b6_0242ac1c0002row2_col6\" class=\"data row2 col6\" >0.600145</td>\n",
       "                        <td id=\"T_7f3b833e_5320_11eb_92b6_0242ac1c0002row2_col7\" class=\"data row2 col7\" >0.765730</td>\n",
       "                        <td id=\"T_7f3b833e_5320_11eb_92b6_0242ac1c0002row2_col8\" class=\"data row2 col8\" >0.143373</td>\n",
       "            </tr>\n",
       "            <tr>\n",
       "                        <th id=\"T_7f3b833e_5320_11eb_92b6_0242ac1c0002level0_row3\" class=\"row_heading level0 row3\" >Trademark applications, direct resident</th>\n",
       "                        <td id=\"T_7f3b833e_5320_11eb_92b6_0242ac1c0002row3_col0\" class=\"data row3 col0\" >0.212037</td>\n",
       "                        <td id=\"T_7f3b833e_5320_11eb_92b6_0242ac1c0002row3_col1\" class=\"data row3 col1\" >0.856190</td>\n",
       "                        <td id=\"T_7f3b833e_5320_11eb_92b6_0242ac1c0002row3_col2\" class=\"data row3 col2\" >0.998930</td>\n",
       "                        <td id=\"T_7f3b833e_5320_11eb_92b6_0242ac1c0002row3_col3\" class=\"data row3 col3\" >1.000000</td>\n",
       "                        <td id=\"T_7f3b833e_5320_11eb_92b6_0242ac1c0002row3_col4\" class=\"data row3 col4\" >0.868618</td>\n",
       "                        <td id=\"T_7f3b833e_5320_11eb_92b6_0242ac1c0002row3_col5\" class=\"data row3 col5\" >0.666960</td>\n",
       "                        <td id=\"T_7f3b833e_5320_11eb_92b6_0242ac1c0002row3_col6\" class=\"data row3 col6\" >0.580380</td>\n",
       "                        <td id=\"T_7f3b833e_5320_11eb_92b6_0242ac1c0002row3_col7\" class=\"data row3 col7\" >0.754258</td>\n",
       "                        <td id=\"T_7f3b833e_5320_11eb_92b6_0242ac1c0002row3_col8\" class=\"data row3 col8\" >0.137723</td>\n",
       "            </tr>\n",
       "            <tr>\n",
       "                        <th id=\"T_7f3b833e_5320_11eb_92b6_0242ac1c0002level0_row4\" class=\"row_heading level0 row4\" >Trademark applications, direct nonresident</th>\n",
       "                        <td id=\"T_7f3b833e_5320_11eb_92b6_0242ac1c0002row4_col0\" class=\"data row4 col0\" >0.290795</td>\n",
       "                        <td id=\"T_7f3b833e_5320_11eb_92b6_0242ac1c0002row4_col1\" class=\"data row4 col1\" >0.804809</td>\n",
       "                        <td id=\"T_7f3b833e_5320_11eb_92b6_0242ac1c0002row4_col2\" class=\"data row4 col2\" >0.890599</td>\n",
       "                        <td id=\"T_7f3b833e_5320_11eb_92b6_0242ac1c0002row4_col3\" class=\"data row4 col3\" >0.868618</td>\n",
       "                        <td id=\"T_7f3b833e_5320_11eb_92b6_0242ac1c0002row4_col4\" class=\"data row4 col4\" >1.000000</td>\n",
       "                        <td id=\"T_7f3b833e_5320_11eb_92b6_0242ac1c0002row4_col5\" class=\"data row4 col5\" >0.726147</td>\n",
       "                        <td id=\"T_7f3b833e_5320_11eb_92b6_0242ac1c0002row4_col6\" class=\"data row4 col6\" >0.722581</td>\n",
       "                        <td id=\"T_7f3b833e_5320_11eb_92b6_0242ac1c0002row4_col7\" class=\"data row4 col7\" >0.786736</td>\n",
       "                        <td id=\"T_7f3b833e_5320_11eb_92b6_0242ac1c0002row4_col8\" class=\"data row4 col8\" >0.181750</td>\n",
       "            </tr>\n",
       "            <tr>\n",
       "                        <th id=\"T_7f3b833e_5320_11eb_92b6_0242ac1c0002level0_row5\" class=\"row_heading level0 row5\" >Patent applications, residents</th>\n",
       "                        <td id=\"T_7f3b833e_5320_11eb_92b6_0242ac1c0002row5_col0\" class=\"data row5 col0\" >0.257387</td>\n",
       "                        <td id=\"T_7f3b833e_5320_11eb_92b6_0242ac1c0002row5_col1\" class=\"data row5 col1\" >0.755353</td>\n",
       "                        <td id=\"T_7f3b833e_5320_11eb_92b6_0242ac1c0002row5_col2\" class=\"data row5 col2\" >0.679947</td>\n",
       "                        <td id=\"T_7f3b833e_5320_11eb_92b6_0242ac1c0002row5_col3\" class=\"data row5 col3\" >0.666960</td>\n",
       "                        <td id=\"T_7f3b833e_5320_11eb_92b6_0242ac1c0002row5_col4\" class=\"data row5 col4\" >0.726147</td>\n",
       "                        <td id=\"T_7f3b833e_5320_11eb_92b6_0242ac1c0002row5_col5\" class=\"data row5 col5\" >1.000000</td>\n",
       "                        <td id=\"T_7f3b833e_5320_11eb_92b6_0242ac1c0002row5_col6\" class=\"data row5 col6\" >0.757374</td>\n",
       "                        <td id=\"T_7f3b833e_5320_11eb_92b6_0242ac1c0002row5_col7\" class=\"data row5 col7\" >0.791142</td>\n",
       "                        <td id=\"T_7f3b833e_5320_11eb_92b6_0242ac1c0002row5_col8\" class=\"data row5 col8\" >0.392954</td>\n",
       "            </tr>\n",
       "            <tr>\n",
       "                        <th id=\"T_7f3b833e_5320_11eb_92b6_0242ac1c0002level0_row6\" class=\"row_heading level0 row6\" >Patent applications, nonresidents</th>\n",
       "                        <td id=\"T_7f3b833e_5320_11eb_92b6_0242ac1c0002row6_col0\" class=\"data row6 col0\" >0.223541</td>\n",
       "                        <td id=\"T_7f3b833e_5320_11eb_92b6_0242ac1c0002row6_col1\" class=\"data row6 col1\" >0.601401</td>\n",
       "                        <td id=\"T_7f3b833e_5320_11eb_92b6_0242ac1c0002row6_col2\" class=\"data row6 col2\" >0.600145</td>\n",
       "                        <td id=\"T_7f3b833e_5320_11eb_92b6_0242ac1c0002row6_col3\" class=\"data row6 col3\" >0.580380</td>\n",
       "                        <td id=\"T_7f3b833e_5320_11eb_92b6_0242ac1c0002row6_col4\" class=\"data row6 col4\" >0.722581</td>\n",
       "                        <td id=\"T_7f3b833e_5320_11eb_92b6_0242ac1c0002row6_col5\" class=\"data row6 col5\" >0.757374</td>\n",
       "                        <td id=\"T_7f3b833e_5320_11eb_92b6_0242ac1c0002row6_col6\" class=\"data row6 col6\" >1.000000</td>\n",
       "                        <td id=\"T_7f3b833e_5320_11eb_92b6_0242ac1c0002row6_col7\" class=\"data row6 col7\" >0.923330</td>\n",
       "                        <td id=\"T_7f3b833e_5320_11eb_92b6_0242ac1c0002row6_col8\" class=\"data row6 col8\" >0.288958</td>\n",
       "            </tr>\n",
       "            <tr>\n",
       "                        <th id=\"T_7f3b833e_5320_11eb_92b6_0242ac1c0002level0_row7\" class=\"row_heading level0 row7\" >Scientific and technical journal articles</th>\n",
       "                        <td id=\"T_7f3b833e_5320_11eb_92b6_0242ac1c0002row7_col0\" class=\"data row7 col0\" >0.229710</td>\n",
       "                        <td id=\"T_7f3b833e_5320_11eb_92b6_0242ac1c0002row7_col1\" class=\"data row7 col1\" >0.784358</td>\n",
       "                        <td id=\"T_7f3b833e_5320_11eb_92b6_0242ac1c0002row7_col2\" class=\"data row7 col2\" >0.765730</td>\n",
       "                        <td id=\"T_7f3b833e_5320_11eb_92b6_0242ac1c0002row7_col3\" class=\"data row7 col3\" >0.754258</td>\n",
       "                        <td id=\"T_7f3b833e_5320_11eb_92b6_0242ac1c0002row7_col4\" class=\"data row7 col4\" >0.786736</td>\n",
       "                        <td id=\"T_7f3b833e_5320_11eb_92b6_0242ac1c0002row7_col5\" class=\"data row7 col5\" >0.791142</td>\n",
       "                        <td id=\"T_7f3b833e_5320_11eb_92b6_0242ac1c0002row7_col6\" class=\"data row7 col6\" >0.923330</td>\n",
       "                        <td id=\"T_7f3b833e_5320_11eb_92b6_0242ac1c0002row7_col7\" class=\"data row7 col7\" >1.000000</td>\n",
       "                        <td id=\"T_7f3b833e_5320_11eb_92b6_0242ac1c0002row7_col8\" class=\"data row7 col8\" >0.329275</td>\n",
       "            </tr>\n",
       "            <tr>\n",
       "                        <th id=\"T_7f3b833e_5320_11eb_92b6_0242ac1c0002level0_row8\" class=\"row_heading level0 row8\" >Research and development expenditure (% of GDP)</th>\n",
       "                        <td id=\"T_7f3b833e_5320_11eb_92b6_0242ac1c0002row8_col0\" class=\"data row8 col0\" >0.398800</td>\n",
       "                        <td id=\"T_7f3b833e_5320_11eb_92b6_0242ac1c0002row8_col1\" class=\"data row8 col1\" >0.364458</td>\n",
       "                        <td id=\"T_7f3b833e_5320_11eb_92b6_0242ac1c0002row8_col2\" class=\"data row8 col2\" >0.143373</td>\n",
       "                        <td id=\"T_7f3b833e_5320_11eb_92b6_0242ac1c0002row8_col3\" class=\"data row8 col3\" >0.137723</td>\n",
       "                        <td id=\"T_7f3b833e_5320_11eb_92b6_0242ac1c0002row8_col4\" class=\"data row8 col4\" >0.181750</td>\n",
       "                        <td id=\"T_7f3b833e_5320_11eb_92b6_0242ac1c0002row8_col5\" class=\"data row8 col5\" >0.392954</td>\n",
       "                        <td id=\"T_7f3b833e_5320_11eb_92b6_0242ac1c0002row8_col6\" class=\"data row8 col6\" >0.288958</td>\n",
       "                        <td id=\"T_7f3b833e_5320_11eb_92b6_0242ac1c0002row8_col7\" class=\"data row8 col7\" >0.329275</td>\n",
       "                        <td id=\"T_7f3b833e_5320_11eb_92b6_0242ac1c0002row8_col8\" class=\"data row8 col8\" >1.000000</td>\n",
       "            </tr>\n",
       "    </tbody></table>"
      ],
      "text/plain": [
       "<pandas.io.formats.style.Styler at 0x7f2e2fa87668>"
      ]
     },
     "execution_count": 60,
     "metadata": {
      "tags": []
     },
     "output_type": "execute_result"
    }
   ],
   "source": [
    "st_data_2009_clean.corr(method='pearson').style.background_gradient(cmap='viridis')"
   ]
  },
  {
   "cell_type": "code",
   "execution_count": 61,
   "metadata": {
    "colab": {
     "base_uri": "https://localhost:8080/",
     "height": 749
    },
    "id": "WuSu52V5eszl",
    "outputId": "e9fb0ed1-9803-46a2-9d48-aaf2009fcb5b"
   },
   "outputs": [
    {
     "data": {
      "text/html": [
       "<style  type=\"text/css\" >\n",
       "#T_a2bd4b8a_5320_11eb_92b6_0242ac1c0002row0_col0,#T_a2bd4b8a_5320_11eb_92b6_0242ac1c0002row1_col1,#T_a2bd4b8a_5320_11eb_92b6_0242ac1c0002row2_col2,#T_a2bd4b8a_5320_11eb_92b6_0242ac1c0002row3_col3,#T_a2bd4b8a_5320_11eb_92b6_0242ac1c0002row4_col4,#T_a2bd4b8a_5320_11eb_92b6_0242ac1c0002row5_col5,#T_a2bd4b8a_5320_11eb_92b6_0242ac1c0002row6_col6,#T_a2bd4b8a_5320_11eb_92b6_0242ac1c0002row7_col7,#T_a2bd4b8a_5320_11eb_92b6_0242ac1c0002row8_col8{\n",
       "            background-color:  #fde725;\n",
       "            color:  #000000;\n",
       "        }#T_a2bd4b8a_5320_11eb_92b6_0242ac1c0002row0_col1{\n",
       "            background-color:  #26828e;\n",
       "            color:  #000000;\n",
       "        }#T_a2bd4b8a_5320_11eb_92b6_0242ac1c0002row0_col2,#T_a2bd4b8a_5320_11eb_92b6_0242ac1c0002row0_col3,#T_a2bd4b8a_5320_11eb_92b6_0242ac1c0002row0_col5,#T_a2bd4b8a_5320_11eb_92b6_0242ac1c0002row0_col7,#T_a2bd4b8a_5320_11eb_92b6_0242ac1c0002row3_col0,#T_a2bd4b8a_5320_11eb_92b6_0242ac1c0002row4_col1,#T_a2bd4b8a_5320_11eb_92b6_0242ac1c0002row4_col8,#T_a2bd4b8a_5320_11eb_92b6_0242ac1c0002row8_col4,#T_a2bd4b8a_5320_11eb_92b6_0242ac1c0002row8_col6{\n",
       "            background-color:  #440154;\n",
       "            color:  #f1f1f1;\n",
       "        }#T_a2bd4b8a_5320_11eb_92b6_0242ac1c0002row0_col4{\n",
       "            background-color:  #472c7a;\n",
       "            color:  #f1f1f1;\n",
       "        }#T_a2bd4b8a_5320_11eb_92b6_0242ac1c0002row0_col6{\n",
       "            background-color:  #482374;\n",
       "            color:  #f1f1f1;\n",
       "        }#T_a2bd4b8a_5320_11eb_92b6_0242ac1c0002row0_col8{\n",
       "            background-color:  #21918c;\n",
       "            color:  #000000;\n",
       "        }#T_a2bd4b8a_5320_11eb_92b6_0242ac1c0002row1_col0{\n",
       "            background-color:  #35b779;\n",
       "            color:  #000000;\n",
       "        }#T_a2bd4b8a_5320_11eb_92b6_0242ac1c0002row1_col2{\n",
       "            background-color:  #1e9d89;\n",
       "            color:  #000000;\n",
       "        }#T_a2bd4b8a_5320_11eb_92b6_0242ac1c0002row1_col3{\n",
       "            background-color:  #20a486;\n",
       "            color:  #000000;\n",
       "        }#T_a2bd4b8a_5320_11eb_92b6_0242ac1c0002row1_col4{\n",
       "            background-color:  #277e8e;\n",
       "            color:  #000000;\n",
       "        }#T_a2bd4b8a_5320_11eb_92b6_0242ac1c0002row1_col5{\n",
       "            background-color:  #26ad81;\n",
       "            color:  #000000;\n",
       "        }#T_a2bd4b8a_5320_11eb_92b6_0242ac1c0002row1_col6{\n",
       "            background-color:  #23898e;\n",
       "            color:  #000000;\n",
       "        }#T_a2bd4b8a_5320_11eb_92b6_0242ac1c0002row1_col7{\n",
       "            background-color:  #54c568;\n",
       "            color:  #000000;\n",
       "        }#T_a2bd4b8a_5320_11eb_92b6_0242ac1c0002row1_col8{\n",
       "            background-color:  #22a884;\n",
       "            color:  #000000;\n",
       "        }#T_a2bd4b8a_5320_11eb_92b6_0242ac1c0002row2_col0{\n",
       "            background-color:  #470e61;\n",
       "            color:  #f1f1f1;\n",
       "        }#T_a2bd4b8a_5320_11eb_92b6_0242ac1c0002row2_col1,#T_a2bd4b8a_5320_11eb_92b6_0242ac1c0002row5_col0{\n",
       "            background-color:  #365c8d;\n",
       "            color:  #f1f1f1;\n",
       "        }#T_a2bd4b8a_5320_11eb_92b6_0242ac1c0002row2_col3,#T_a2bd4b8a_5320_11eb_92b6_0242ac1c0002row3_col2{\n",
       "            background-color:  #f1e51d;\n",
       "            color:  #000000;\n",
       "        }#T_a2bd4b8a_5320_11eb_92b6_0242ac1c0002row2_col4,#T_a2bd4b8a_5320_11eb_92b6_0242ac1c0002row6_col4{\n",
       "            background-color:  #a5db36;\n",
       "            color:  #000000;\n",
       "        }#T_a2bd4b8a_5320_11eb_92b6_0242ac1c0002row2_col5{\n",
       "            background-color:  #1fa188;\n",
       "            color:  #000000;\n",
       "        }#T_a2bd4b8a_5320_11eb_92b6_0242ac1c0002row2_col6{\n",
       "            background-color:  #75d054;\n",
       "            color:  #000000;\n",
       "        }#T_a2bd4b8a_5320_11eb_92b6_0242ac1c0002row2_col7,#T_a2bd4b8a_5320_11eb_92b6_0242ac1c0002row7_col1{\n",
       "            background-color:  #37b878;\n",
       "            color:  #000000;\n",
       "        }#T_a2bd4b8a_5320_11eb_92b6_0242ac1c0002row2_col8{\n",
       "            background-color:  #46327e;\n",
       "            color:  #f1f1f1;\n",
       "        }#T_a2bd4b8a_5320_11eb_92b6_0242ac1c0002row3_col1,#T_a2bd4b8a_5320_11eb_92b6_0242ac1c0002row4_col5,#T_a2bd4b8a_5320_11eb_92b6_0242ac1c0002row8_col1{\n",
       "            background-color:  #34618d;\n",
       "            color:  #f1f1f1;\n",
       "        }#T_a2bd4b8a_5320_11eb_92b6_0242ac1c0002row3_col4{\n",
       "            background-color:  #6ccd5a;\n",
       "            color:  #000000;\n",
       "        }#T_a2bd4b8a_5320_11eb_92b6_0242ac1c0002row3_col5{\n",
       "            background-color:  #20a386;\n",
       "            color:  #000000;\n",
       "        }#T_a2bd4b8a_5320_11eb_92b6_0242ac1c0002row3_col6{\n",
       "            background-color:  #4ac16d;\n",
       "            color:  #000000;\n",
       "        }#T_a2bd4b8a_5320_11eb_92b6_0242ac1c0002row3_col7{\n",
       "            background-color:  #44bf70;\n",
       "            color:  #000000;\n",
       "        }#T_a2bd4b8a_5320_11eb_92b6_0242ac1c0002row3_col8{\n",
       "            background-color:  #463480;\n",
       "            color:  #f1f1f1;\n",
       "        }#T_a2bd4b8a_5320_11eb_92b6_0242ac1c0002row4_col0{\n",
       "            background-color:  #482071;\n",
       "            color:  #f1f1f1;\n",
       "        }#T_a2bd4b8a_5320_11eb_92b6_0242ac1c0002row4_col2{\n",
       "            background-color:  #9dd93b;\n",
       "            color:  #000000;\n",
       "        }#T_a2bd4b8a_5320_11eb_92b6_0242ac1c0002row4_col3,#T_a2bd4b8a_5320_11eb_92b6_0242ac1c0002row6_col3{\n",
       "            background-color:  #65cb5e;\n",
       "            color:  #000000;\n",
       "        }#T_a2bd4b8a_5320_11eb_92b6_0242ac1c0002row4_col6{\n",
       "            background-color:  #8ed645;\n",
       "            color:  #000000;\n",
       "        }#T_a2bd4b8a_5320_11eb_92b6_0242ac1c0002row4_col7{\n",
       "            background-color:  #32658e;\n",
       "            color:  #f1f1f1;\n",
       "        }#T_a2bd4b8a_5320_11eb_92b6_0242ac1c0002row5_col1{\n",
       "            background-color:  #1e9c89;\n",
       "            color:  #000000;\n",
       "        }#T_a2bd4b8a_5320_11eb_92b6_0242ac1c0002row5_col2{\n",
       "            background-color:  #3aba76;\n",
       "            color:  #000000;\n",
       "        }#T_a2bd4b8a_5320_11eb_92b6_0242ac1c0002row5_col3{\n",
       "            background-color:  #42be71;\n",
       "            color:  #000000;\n",
       "        }#T_a2bd4b8a_5320_11eb_92b6_0242ac1c0002row5_col4{\n",
       "            background-color:  #1f968b;\n",
       "            color:  #000000;\n",
       "        }#T_a2bd4b8a_5320_11eb_92b6_0242ac1c0002row5_col6{\n",
       "            background-color:  #1e9b8a;\n",
       "            color:  #000000;\n",
       "        }#T_a2bd4b8a_5320_11eb_92b6_0242ac1c0002row5_col7{\n",
       "            background-color:  #9bd93c;\n",
       "            color:  #000000;\n",
       "        }#T_a2bd4b8a_5320_11eb_92b6_0242ac1c0002row5_col8{\n",
       "            background-color:  #1f988b;\n",
       "            color:  #000000;\n",
       "        }#T_a2bd4b8a_5320_11eb_92b6_0242ac1c0002row6_col0{\n",
       "            background-color:  #3a548c;\n",
       "            color:  #f1f1f1;\n",
       "        }#T_a2bd4b8a_5320_11eb_92b6_0242ac1c0002row6_col1{\n",
       "            background-color:  #375a8c;\n",
       "            color:  #f1f1f1;\n",
       "        }#T_a2bd4b8a_5320_11eb_92b6_0242ac1c0002row6_col2{\n",
       "            background-color:  #89d548;\n",
       "            color:  #000000;\n",
       "        }#T_a2bd4b8a_5320_11eb_92b6_0242ac1c0002row6_col5{\n",
       "            background-color:  #228b8d;\n",
       "            color:  #000000;\n",
       "        }#T_a2bd4b8a_5320_11eb_92b6_0242ac1c0002row6_col7{\n",
       "            background-color:  #218f8d;\n",
       "            color:  #000000;\n",
       "        }#T_a2bd4b8a_5320_11eb_92b6_0242ac1c0002row6_col8{\n",
       "            background-color:  #3f4788;\n",
       "            color:  #f1f1f1;\n",
       "        }#T_a2bd4b8a_5320_11eb_92b6_0242ac1c0002row7_col0{\n",
       "            background-color:  #3a538b;\n",
       "            color:  #f1f1f1;\n",
       "        }#T_a2bd4b8a_5320_11eb_92b6_0242ac1c0002row7_col2{\n",
       "            background-color:  #5ac864;\n",
       "            color:  #000000;\n",
       "        }#T_a2bd4b8a_5320_11eb_92b6_0242ac1c0002row7_col3{\n",
       "            background-color:  #6ece58;\n",
       "            color:  #000000;\n",
       "        }#T_a2bd4b8a_5320_11eb_92b6_0242ac1c0002row7_col4{\n",
       "            background-color:  #1f948c;\n",
       "            color:  #000000;\n",
       "        }#T_a2bd4b8a_5320_11eb_92b6_0242ac1c0002row7_col5{\n",
       "            background-color:  #98d83e;\n",
       "            color:  #000000;\n",
       "        }#T_a2bd4b8a_5320_11eb_92b6_0242ac1c0002row7_col6{\n",
       "            background-color:  #1f9a8a;\n",
       "            color:  #000000;\n",
       "        }#T_a2bd4b8a_5320_11eb_92b6_0242ac1c0002row7_col8{\n",
       "            background-color:  #25ab82;\n",
       "            color:  #000000;\n",
       "        }#T_a2bd4b8a_5320_11eb_92b6_0242ac1c0002row8_col0{\n",
       "            background-color:  #228c8d;\n",
       "            color:  #000000;\n",
       "        }#T_a2bd4b8a_5320_11eb_92b6_0242ac1c0002row8_col2{\n",
       "            background-color:  #481a6c;\n",
       "            color:  #f1f1f1;\n",
       "        }#T_a2bd4b8a_5320_11eb_92b6_0242ac1c0002row8_col3{\n",
       "            background-color:  #482979;\n",
       "            color:  #f1f1f1;\n",
       "        }#T_a2bd4b8a_5320_11eb_92b6_0242ac1c0002row8_col5{\n",
       "            background-color:  #33638d;\n",
       "            color:  #f1f1f1;\n",
       "        }#T_a2bd4b8a_5320_11eb_92b6_0242ac1c0002row8_col7{\n",
       "            background-color:  #25858e;\n",
       "            color:  #000000;\n",
       "        }</style><table id=\"T_a2bd4b8a_5320_11eb_92b6_0242ac1c0002\" ><thead>    <tr>        <th class=\"blank level0\" ></th>        <th class=\"col_heading level0 col0\" >High-technology exports (% of manufactured exports)</th>        <th class=\"col_heading level0 col1\" >High-technology exports (current US$)</th>        <th class=\"col_heading level0 col2\" >Trademark applications, total</th>        <th class=\"col_heading level0 col3\" >Trademark applications, direct resident</th>        <th class=\"col_heading level0 col4\" >Trademark applications, direct nonresident</th>        <th class=\"col_heading level0 col5\" >Patent applications, residents</th>        <th class=\"col_heading level0 col6\" >Patent applications, nonresidents</th>        <th class=\"col_heading level0 col7\" >Scientific and technical journal articles</th>        <th class=\"col_heading level0 col8\" >Research and development expenditure (% of GDP)</th>    </tr></thead><tbody>\n",
       "                <tr>\n",
       "                        <th id=\"T_a2bd4b8a_5320_11eb_92b6_0242ac1c0002level0_row0\" class=\"row_heading level0 row0\" >High-technology exports (% of manufactured exports)</th>\n",
       "                        <td id=\"T_a2bd4b8a_5320_11eb_92b6_0242ac1c0002row0_col0\" class=\"data row0 col0\" >1.000000</td>\n",
       "                        <td id=\"T_a2bd4b8a_5320_11eb_92b6_0242ac1c0002row0_col1\" class=\"data row0 col1\" >0.725085</td>\n",
       "                        <td id=\"T_a2bd4b8a_5320_11eb_92b6_0242ac1c0002row0_col2\" class=\"data row0 col2\" >0.208544</td>\n",
       "                        <td id=\"T_a2bd4b8a_5320_11eb_92b6_0242ac1c0002row0_col3\" class=\"data row0 col3\" >0.177717</td>\n",
       "                        <td id=\"T_a2bd4b8a_5320_11eb_92b6_0242ac1c0002row0_col4\" class=\"data row0 col4\" >0.248804</td>\n",
       "                        <td id=\"T_a2bd4b8a_5320_11eb_92b6_0242ac1c0002row0_col5\" class=\"data row0 col5\" >0.413507</td>\n",
       "                        <td id=\"T_a2bd4b8a_5320_11eb_92b6_0242ac1c0002row0_col6\" class=\"data row0 col6\" >0.390813</td>\n",
       "                        <td id=\"T_a2bd4b8a_5320_11eb_92b6_0242ac1c0002row0_col7\" class=\"data row0 col7\" >0.386945</td>\n",
       "                        <td id=\"T_a2bd4b8a_5320_11eb_92b6_0242ac1c0002row0_col8\" class=\"data row0 col8\" >0.573342</td>\n",
       "            </tr>\n",
       "            <tr>\n",
       "                        <th id=\"T_a2bd4b8a_5320_11eb_92b6_0242ac1c0002level0_row1\" class=\"row_heading level0 row1\" >High-technology exports (current US$)</th>\n",
       "                        <td id=\"T_a2bd4b8a_5320_11eb_92b6_0242ac1c0002row1_col0\" class=\"data row1 col0\" >0.725085</td>\n",
       "                        <td id=\"T_a2bd4b8a_5320_11eb_92b6_0242ac1c0002row1_col1\" class=\"data row1 col1\" >1.000000</td>\n",
       "                        <td id=\"T_a2bd4b8a_5320_11eb_92b6_0242ac1c0002row1_col2\" class=\"data row1 col2\" >0.646343</td>\n",
       "                        <td id=\"T_a2bd4b8a_5320_11eb_92b6_0242ac1c0002row1_col3\" class=\"data row1 col3\" >0.656664</td>\n",
       "                        <td id=\"T_a2bd4b8a_5320_11eb_92b6_0242ac1c0002row1_col4\" class=\"data row1 col4\" >0.504511</td>\n",
       "                        <td id=\"T_a2bd4b8a_5320_11eb_92b6_0242ac1c0002row1_col5\" class=\"data row1 col5\" >0.775987</td>\n",
       "                        <td id=\"T_a2bd4b8a_5320_11eb_92b6_0242ac1c0002row1_col6\" class=\"data row1 col6\" >0.643449</td>\n",
       "                        <td id=\"T_a2bd4b8a_5320_11eb_92b6_0242ac1c0002row1_col7\" class=\"data row1 col7\" >0.835680</td>\n",
       "                        <td id=\"T_a2bd4b8a_5320_11eb_92b6_0242ac1c0002row1_col8\" class=\"data row1 col8\" >0.657348</td>\n",
       "            </tr>\n",
       "            <tr>\n",
       "                        <th id=\"T_a2bd4b8a_5320_11eb_92b6_0242ac1c0002level0_row2\" class=\"row_heading level0 row2\" >Trademark applications, total</th>\n",
       "                        <td id=\"T_a2bd4b8a_5320_11eb_92b6_0242ac1c0002row2_col0\" class=\"data row2 col0\" >0.208544</td>\n",
       "                        <td id=\"T_a2bd4b8a_5320_11eb_92b6_0242ac1c0002row2_col1\" class=\"data row2 col1\" >0.646343</td>\n",
       "                        <td id=\"T_a2bd4b8a_5320_11eb_92b6_0242ac1c0002row2_col2\" class=\"data row2 col2\" >1.000000</td>\n",
       "                        <td id=\"T_a2bd4b8a_5320_11eb_92b6_0242ac1c0002row2_col3\" class=\"data row2 col3\" >0.982228</td>\n",
       "                        <td id=\"T_a2bd4b8a_5320_11eb_92b6_0242ac1c0002row2_col4\" class=\"data row2 col4\" >0.884621</td>\n",
       "                        <td id=\"T_a2bd4b8a_5320_11eb_92b6_0242ac1c0002row2_col5\" class=\"data row2 col5\" >0.746424</td>\n",
       "                        <td id=\"T_a2bd4b8a_5320_11eb_92b6_0242ac1c0002row2_col6\" class=\"data row2 col6\" >0.860165</td>\n",
       "                        <td id=\"T_a2bd4b8a_5320_11eb_92b6_0242ac1c0002row2_col7\" class=\"data row2 col7\" >0.798701</td>\n",
       "                        <td id=\"T_a2bd4b8a_5320_11eb_92b6_0242ac1c0002row2_col8\" class=\"data row2 col8\" >0.263841</td>\n",
       "            </tr>\n",
       "            <tr>\n",
       "                        <th id=\"T_a2bd4b8a_5320_11eb_92b6_0242ac1c0002level0_row3\" class=\"row_heading level0 row3\" >Trademark applications, direct resident</th>\n",
       "                        <td id=\"T_a2bd4b8a_5320_11eb_92b6_0242ac1c0002row3_col0\" class=\"data row3 col0\" >0.177717</td>\n",
       "                        <td id=\"T_a2bd4b8a_5320_11eb_92b6_0242ac1c0002row3_col1\" class=\"data row3 col1\" >0.656664</td>\n",
       "                        <td id=\"T_a2bd4b8a_5320_11eb_92b6_0242ac1c0002row3_col2\" class=\"data row3 col2\" >0.982228</td>\n",
       "                        <td id=\"T_a2bd4b8a_5320_11eb_92b6_0242ac1c0002row3_col3\" class=\"data row3 col3\" >1.000000</td>\n",
       "                        <td id=\"T_a2bd4b8a_5320_11eb_92b6_0242ac1c0002row3_col4\" class=\"data row3 col4\" >0.806220</td>\n",
       "                        <td id=\"T_a2bd4b8a_5320_11eb_92b6_0242ac1c0002row3_col5\" class=\"data row3 col5\" >0.752610</td>\n",
       "                        <td id=\"T_a2bd4b8a_5320_11eb_92b6_0242ac1c0002row3_col6\" class=\"data row3 col6\" >0.806917</td>\n",
       "                        <td id=\"T_a2bd4b8a_5320_11eb_92b6_0242ac1c0002row3_col7\" class=\"data row3 col7\" >0.817157</td>\n",
       "                        <td id=\"T_a2bd4b8a_5320_11eb_92b6_0242ac1c0002row3_col8\" class=\"data row3 col8\" >0.272386</td>\n",
       "            </tr>\n",
       "            <tr>\n",
       "                        <th id=\"T_a2bd4b8a_5320_11eb_92b6_0242ac1c0002level0_row4\" class=\"row_heading level0 row4\" >Trademark applications, direct nonresident</th>\n",
       "                        <td id=\"T_a2bd4b8a_5320_11eb_92b6_0242ac1c0002row4_col0\" class=\"data row4 col0\" >0.248804</td>\n",
       "                        <td id=\"T_a2bd4b8a_5320_11eb_92b6_0242ac1c0002row4_col1\" class=\"data row4 col1\" >0.504511</td>\n",
       "                        <td id=\"T_a2bd4b8a_5320_11eb_92b6_0242ac1c0002row4_col2\" class=\"data row4 col2\" >0.884621</td>\n",
       "                        <td id=\"T_a2bd4b8a_5320_11eb_92b6_0242ac1c0002row4_col3\" class=\"data row4 col3\" >0.806220</td>\n",
       "                        <td id=\"T_a2bd4b8a_5320_11eb_92b6_0242ac1c0002row4_col4\" class=\"data row4 col4\" >1.000000</td>\n",
       "                        <td id=\"T_a2bd4b8a_5320_11eb_92b6_0242ac1c0002row4_col5\" class=\"data row4 col5\" >0.593380</td>\n",
       "                        <td id=\"T_a2bd4b8a_5320_11eb_92b6_0242ac1c0002row4_col6\" class=\"data row4 col6\" >0.885798</td>\n",
       "                        <td id=\"T_a2bd4b8a_5320_11eb_92b6_0242ac1c0002row4_col7\" class=\"data row4 col7\" >0.584894</td>\n",
       "                        <td id=\"T_a2bd4b8a_5320_11eb_92b6_0242ac1c0002row4_col8\" class=\"data row4 col8\" >0.142925</td>\n",
       "            </tr>\n",
       "            <tr>\n",
       "                        <th id=\"T_a2bd4b8a_5320_11eb_92b6_0242ac1c0002level0_row5\" class=\"row_heading level0 row5\" >Patent applications, residents</th>\n",
       "                        <td id=\"T_a2bd4b8a_5320_11eb_92b6_0242ac1c0002row5_col0\" class=\"data row5 col0\" >0.413507</td>\n",
       "                        <td id=\"T_a2bd4b8a_5320_11eb_92b6_0242ac1c0002row5_col1\" class=\"data row5 col1\" >0.775987</td>\n",
       "                        <td id=\"T_a2bd4b8a_5320_11eb_92b6_0242ac1c0002row5_col2\" class=\"data row5 col2\" >0.746424</td>\n",
       "                        <td id=\"T_a2bd4b8a_5320_11eb_92b6_0242ac1c0002row5_col3\" class=\"data row5 col3\" >0.752610</td>\n",
       "                        <td id=\"T_a2bd4b8a_5320_11eb_92b6_0242ac1c0002row5_col4\" class=\"data row5 col4\" >0.593380</td>\n",
       "                        <td id=\"T_a2bd4b8a_5320_11eb_92b6_0242ac1c0002row5_col5\" class=\"data row5 col5\" >1.000000</td>\n",
       "                        <td id=\"T_a2bd4b8a_5320_11eb_92b6_0242ac1c0002row5_col6\" class=\"data row5 col6\" >0.694453</td>\n",
       "                        <td id=\"T_a2bd4b8a_5320_11eb_92b6_0242ac1c0002row5_col7\" class=\"data row5 col7\" >0.908970</td>\n",
       "                        <td id=\"T_a2bd4b8a_5320_11eb_92b6_0242ac1c0002row5_col8\" class=\"data row5 col8\" >0.598882</td>\n",
       "            </tr>\n",
       "            <tr>\n",
       "                        <th id=\"T_a2bd4b8a_5320_11eb_92b6_0242ac1c0002level0_row6\" class=\"row_heading level0 row6\" >Patent applications, nonresidents</th>\n",
       "                        <td id=\"T_a2bd4b8a_5320_11eb_92b6_0242ac1c0002row6_col0\" class=\"data row6 col0\" >0.390813</td>\n",
       "                        <td id=\"T_a2bd4b8a_5320_11eb_92b6_0242ac1c0002row6_col1\" class=\"data row6 col1\" >0.643449</td>\n",
       "                        <td id=\"T_a2bd4b8a_5320_11eb_92b6_0242ac1c0002row6_col2\" class=\"data row6 col2\" >0.860165</td>\n",
       "                        <td id=\"T_a2bd4b8a_5320_11eb_92b6_0242ac1c0002row6_col3\" class=\"data row6 col3\" >0.806917</td>\n",
       "                        <td id=\"T_a2bd4b8a_5320_11eb_92b6_0242ac1c0002row6_col4\" class=\"data row6 col4\" >0.885798</td>\n",
       "                        <td id=\"T_a2bd4b8a_5320_11eb_92b6_0242ac1c0002row6_col5\" class=\"data row6 col5\" >0.694453</td>\n",
       "                        <td id=\"T_a2bd4b8a_5320_11eb_92b6_0242ac1c0002row6_col6\" class=\"data row6 col6\" >1.000000</td>\n",
       "                        <td id=\"T_a2bd4b8a_5320_11eb_92b6_0242ac1c0002row6_col7\" class=\"data row6 col7\" >0.689725</td>\n",
       "                        <td id=\"T_a2bd4b8a_5320_11eb_92b6_0242ac1c0002row6_col8\" class=\"data row6 col8\" >0.325911</td>\n",
       "            </tr>\n",
       "            <tr>\n",
       "                        <th id=\"T_a2bd4b8a_5320_11eb_92b6_0242ac1c0002level0_row7\" class=\"row_heading level0 row7\" >Scientific and technical journal articles</th>\n",
       "                        <td id=\"T_a2bd4b8a_5320_11eb_92b6_0242ac1c0002row7_col0\" class=\"data row7 col0\" >0.386945</td>\n",
       "                        <td id=\"T_a2bd4b8a_5320_11eb_92b6_0242ac1c0002row7_col1\" class=\"data row7 col1\" >0.835680</td>\n",
       "                        <td id=\"T_a2bd4b8a_5320_11eb_92b6_0242ac1c0002row7_col2\" class=\"data row7 col2\" >0.798701</td>\n",
       "                        <td id=\"T_a2bd4b8a_5320_11eb_92b6_0242ac1c0002row7_col3\" class=\"data row7 col3\" >0.817157</td>\n",
       "                        <td id=\"T_a2bd4b8a_5320_11eb_92b6_0242ac1c0002row7_col4\" class=\"data row7 col4\" >0.584894</td>\n",
       "                        <td id=\"T_a2bd4b8a_5320_11eb_92b6_0242ac1c0002row7_col5\" class=\"data row7 col5\" >0.908970</td>\n",
       "                        <td id=\"T_a2bd4b8a_5320_11eb_92b6_0242ac1c0002row7_col6\" class=\"data row7 col6\" >0.689725</td>\n",
       "                        <td id=\"T_a2bd4b8a_5320_11eb_92b6_0242ac1c0002row7_col7\" class=\"data row7 col7\" >1.000000</td>\n",
       "                        <td id=\"T_a2bd4b8a_5320_11eb_92b6_0242ac1c0002row7_col8\" class=\"data row7 col8\" >0.665550</td>\n",
       "            </tr>\n",
       "            <tr>\n",
       "                        <th id=\"T_a2bd4b8a_5320_11eb_92b6_0242ac1c0002level0_row8\" class=\"row_heading level0 row8\" >Research and development expenditure (% of GDP)</th>\n",
       "                        <td id=\"T_a2bd4b8a_5320_11eb_92b6_0242ac1c0002row8_col0\" class=\"data row8 col0\" >0.573342</td>\n",
       "                        <td id=\"T_a2bd4b8a_5320_11eb_92b6_0242ac1c0002row8_col1\" class=\"data row8 col1\" >0.657348</td>\n",
       "                        <td id=\"T_a2bd4b8a_5320_11eb_92b6_0242ac1c0002row8_col2\" class=\"data row8 col2\" >0.263841</td>\n",
       "                        <td id=\"T_a2bd4b8a_5320_11eb_92b6_0242ac1c0002row8_col3\" class=\"data row8 col3\" >0.272386</td>\n",
       "                        <td id=\"T_a2bd4b8a_5320_11eb_92b6_0242ac1c0002row8_col4\" class=\"data row8 col4\" >0.142925</td>\n",
       "                        <td id=\"T_a2bd4b8a_5320_11eb_92b6_0242ac1c0002row8_col5\" class=\"data row8 col5\" >0.598882</td>\n",
       "                        <td id=\"T_a2bd4b8a_5320_11eb_92b6_0242ac1c0002row8_col6\" class=\"data row8 col6\" >0.325911</td>\n",
       "                        <td id=\"T_a2bd4b8a_5320_11eb_92b6_0242ac1c0002row8_col7\" class=\"data row8 col7\" >0.665550</td>\n",
       "                        <td id=\"T_a2bd4b8a_5320_11eb_92b6_0242ac1c0002row8_col8\" class=\"data row8 col8\" >1.000000</td>\n",
       "            </tr>\n",
       "    </tbody></table>"
      ],
      "text/plain": [
       "<pandas.io.formats.style.Styler at 0x7f2e2f64cc18>"
      ]
     },
     "execution_count": 61,
     "metadata": {
      "tags": []
     },
     "output_type": "execute_result"
    }
   ],
   "source": [
    "st_data_2009_clean.corr(method='spearman').style.background_gradient(cmap='viridis')"
   ]
  },
  {
   "cell_type": "code",
   "execution_count": 62,
   "metadata": {
    "colab": {
     "base_uri": "https://localhost:8080/",
     "height": 297
    },
    "id": "9-y5nmQqe7V-",
    "outputId": "8c11d002-bddd-450a-f476-5287237c85e8"
   },
   "outputs": [
    {
     "data": {
      "text/plain": [
       "<matplotlib.axes._subplots.AxesSubplot at 0x7f2e2f641cc0>"
      ]
     },
     "execution_count": 62,
     "metadata": {
      "tags": []
     },
     "output_type": "execute_result"
    },
    {
     "data": {
      "image/png": "[encoded data removed]",
      "text/plain": [
       "<Figure size 432x288 with 1 Axes>"
      ]
     },
     "metadata": {
      "needs_background": "light",
      "tags": []
     },
     "output_type": "display_data"
    }
   ],
   "source": [
    "st_data_2009_clean.plot.scatter(x='Scientific and technical journal articles', y = 'Patent applications, nonresidents')"
   ]
  },
  {
   "cell_type": "code",
   "execution_count": 63,
   "metadata": {
    "id": "ftdiG496fIXU"
   },
   "outputs": [],
   "source": [
    "st_data_2009_nonUS = st_data_2009_clean[st_data_2009_clean['Country Name'] != 'United States']"
   ]
  },
  {
   "cell_type": "code",
   "execution_count": 64,
   "metadata": {
    "colab": {
     "base_uri": "https://localhost:8080/",
     "height": 297
    },
    "id": "7LaU6IaMfUh6",
    "outputId": "1aa90d84-b4b7-4397-edf7-a2fc7b06d0ae"
   },
   "outputs": [
    {
     "data": {
      "text/plain": [
       "<matplotlib.axes._subplots.AxesSubplot at 0x7f2e2fa06908>"
      ]
     },
     "execution_count": 64,
     "metadata": {
      "tags": []
     },
     "output_type": "execute_result"
    },
    {
     "data": {
      "image/png": "[encoded data removed]",
      "text/plain": [
       "<Figure size 432x288 with 1 Axes>"
      ]
     },
     "metadata": {
      "needs_background": "light",
      "tags": []
     },
     "output_type": "display_data"
    }
   ],
   "source": [
    "st_data_2009_nonUS.plot.scatter(x= 'Scientific and technical journal articles', y = 'Patent applications, nonresidents')"
   ]
  },
  {
   "cell_type": "markdown",
   "metadata": {
    "id": "TlEOL5wEgHLV"
   },
   "source": [
    "## T-tests"
   ]
  },
  {
   "cell_type": "code",
   "execution_count": 65,
   "metadata": {
    "id": "7sDxavedferi"
   },
   "outputs": [],
   "source": [
    "import scipy.stats as stats"
   ]
  },
  {
   "cell_type": "code",
   "execution_count": 67,
   "metadata": {
    "colab": {
     "base_uri": "https://localhost:8080/"
    },
    "id": "iWuY7sJigQZr",
    "outputId": "fa77a9e0-6513-431e-a5dc-17c59ae924a8"
   },
   "outputs": [
    {
     "data": {
      "text/plain": [
       "Ttest_indResult(statistic=0.17093628150351461, pvalue=0.8646028361752646)"
      ]
     },
     "execution_count": 67,
     "metadata": {
      "tags": []
     },
     "output_type": "execute_result"
    }
   ],
   "source": [
    "a = st_data_2009_clean['Patent applications, residents']\n",
    "b = st_data_2018_clean['Patent applications, residents']\n",
    "stats.ttest_ind(a, b)"
   ]
  },
  {
   "cell_type": "code",
   "execution_count": 72,
   "metadata": {
    "colab": {
     "base_uri": "https://localhost:8080/"
    },
    "id": "aeN2-4vXgz2H",
    "outputId": "0819dc5d-52d0-4794-badb-342473303ce4"
   },
   "outputs": [
    {
     "name": "stdout",
     "output_type": "stream",
     "text": [
      "High-technology exports (% of manufactured exports)\n",
      "statistic: 1.5178124850425097 p-value: 0.13206686889029143\n",
      "Insignificant\n",
      "High-technology exports (current US$)\n",
      "statistic: 0.12265583290103693 p-value: 0.902614099731734\n",
      "Insignificant\n",
      "Trademark applications, total\n",
      "statistic: 0.2704033385824462 p-value: 0.7873807591420726\n",
      "Insignificant\n",
      "Trademark applications, direct resident\n",
      "statistic: 0.3877442167941513 p-value: 0.6989902537733603\n",
      "Insignificant\n",
      "Trademark applications, direct nonresident\n",
      "statistic: -0.48589263440463604 p-value: 0.628055750890876\n",
      "Insignificant\n",
      "Patent applications, residents\n",
      "statistic: 0.17093628150351461 p-value: 0.8646028361752646\n",
      "Insignificant\n",
      "Patent applications, nonresidents\n",
      "statistic: -0.044717907923683436 p-value: 0.9644170934929569\n",
      "Insignificant\n",
      "Scientific and technical journal articles\n",
      "statistic: -0.006105403997445266 p-value: 0.9951402075104707\n",
      "Insignificant\n",
      "Research and development expenditure (% of GDP)\n",
      "statistic: -0.2796230548958726 p-value: 0.7803167965750044\n",
      "Insignificant\n"
     ]
    }
   ],
   "source": [
    "column_1 = st_data_2009_clean.columns\n",
    "column_2 = st_data_2018_clean.columns\n",
    "\n",
    "for i in range(1, len(column_1)):\n",
    "  a = st_data_2009_clean[column_1[i]]\n",
    "  b = st_data_2018_clean[column_2[i]]\n",
    "  print(column_1[i])\n",
    "  statistic, pvalue = stats.ttest_ind(a, b)\n",
    "  print('statistic: %s p-value: %s' %(statistic, pvalue))\n",
    "  if pvalue < 0.05:\n",
    "    print('Significant')\n",
    "  else:\n",
    "    print('Insignificant')"
   ]
  },
  {
   "cell_type": "code",
   "execution_count": 73,
   "metadata": {
    "colab": {
     "base_uri": "https://localhost:8080/"
    },
    "id": "CB2kir2chqUE",
    "outputId": "df79f154-8fa2-4c2e-b363-8697df92d62b"
   },
   "outputs": [
    {
     "name": "stdout",
     "output_type": "stream",
     "text": [
      "True\n"
     ]
    }
   ],
   "source": [
    "print(True)"
   ]
  },
  {
   "cell_type": "code",
   "execution_count": null,
   "metadata": {
    "id": "m76IDjwIkuoD"
   },
   "outputs": [],
   "source": []
  }
 ],
 "metadata": {
  "colab": {
   "name": "Basic Statistics in Python (Correlation & t-test) guided project",
   "provenance": []
  },
  "kernelspec": {
   "display_name": "Python 3",
   "language": "python",
   "name": "python3"
  },
  "language_info": {
   "codemirror_mode": {
    "name": "ipython",
    "version": 3
   },
   "file_extension": ".py",
   "mimetype": "text/x-python",
   "name": "python",
   "nbconvert_exporter": "python",
   "pygments_lexer": "ipython3",
   "version": "3.8.3"
  }
 },
 "nbformat": 4,
 "nbformat_minor": 1
}
